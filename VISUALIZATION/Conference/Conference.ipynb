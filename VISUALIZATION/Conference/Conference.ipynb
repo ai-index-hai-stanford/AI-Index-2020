{
  "nbformat": 4,
  "nbformat_minor": 0,
  "metadata": {
    "colab": {
      "name": "Conference.ipynb",
      "provenance": [],
      "collapsed_sections": []
    },
    "kernelspec": {
      "name": "python3",
      "display_name": "Python 3"
    }
  },
  "cells": [
    {
      "cell_type": "code",
      "metadata": {
        "id": "tHg-gjk37LgC",
        "colab_type": "code",
        "colab": {
          "base_uri": "https://localhost:8080/",
          "height": 124
        },
        "outputId": "51c94466-54a8-40db-e348-cb7d8159055a"
      },
      "source": [
        "from google.colab import drive\n",
        "drive.mount('/content/drive')"
      ],
      "execution_count": null,
      "outputs": [
        {
          "output_type": "stream",
          "text": [
            "Go to this URL in a browser: https://accounts.google.com/o/oauth2/auth?client_id=947318989803-6bn6qk8qdgf4n4g3pfee6491hc0brc4i.apps.googleusercontent.com&redirect_uri=urn%3aietf%3awg%3aoauth%3a2.0%3aoob&response_type=code&scope=email%20https%3a%2f%2fwww.googleapis.com%2fauth%2fdocs.test%20https%3a%2f%2fwww.googleapis.com%2fauth%2fdrive%20https%3a%2f%2fwww.googleapis.com%2fauth%2fdrive.photos.readonly%20https%3a%2f%2fwww.googleapis.com%2fauth%2fpeopleapi.readonly\n",
            "\n",
            "Enter your authorization code:\n",
            "··········\n",
            "Mounted at /content/drive\n"
          ],
          "name": "stdout"
        }
      ]
    },
    {
      "cell_type": "code",
      "metadata": {
        "id": "NfQHy7I2sDpA",
        "colab_type": "code",
        "cellView": "form",
        "colab": {
          "base_uri": "https://localhost:8080/",
          "height": 34
        },
        "outputId": "2f8b783c-429c-462b-b9c1-690bebc743fb"
      },
      "source": [
        "#@title ##### Imports\n",
        "!pip install squarify\n",
        "import pandas as pd\n",
        "import plotly.offline as pyo\n",
        "import pandas as pd\n",
        "import matplotlib.pyplot as plt\n",
        "import numpy as np\n",
        "import ipywidgets as widgets\n",
        "import plotly.graph_objects as go\n",
        "import squarify\n"
      ],
      "execution_count": null,
      "outputs": [
        {
          "output_type": "stream",
          "text": [
            "Requirement already satisfied: squarify in /usr/local/lib/python3.6/dist-packages (0.4.3)\n"
          ],
          "name": "stdout"
        }
      ]
    },
    {
      "cell_type": "code",
      "metadata": {
        "id": "HOlNyFOwsZ7v",
        "colab_type": "code",
        "cellView": "form",
        "colab": {
          "base_uri": "https://localhost:8080/",
          "height": 156
        },
        "outputId": "7e1045a1-15fd-49d2-8265-7ecf4e4b35b5"
      },
      "source": [
        "# @title ####Conference\n",
        "Conference = \"ICAPS\" #@param [\"AAAI\",\"AAMAS\",\"ACL\",\"CP\",\"CVPR\",\"ECCV\",\"ICAPS\",\"ICASSP\",\"ICCV\",\"ICLR\",\"ICML\",\"ICRA\",\"IJCAI\",\"IROS\",\"KDD\",\"KR\",\"NeurIPS\",\"UAI\"]\n",
        "Folder_path = \"/content/drive/My Drive/AI Index Visualization Project/DATASETS/Conference data\" #@param {type:\"string\"}\n",
        "df = pd.read_csv(f\"{Folder_path}/Publication Counts/ALL_Conference.csv\")\n",
        "df1 = pd.read_csv(f\"{Folder_path}/Author/All_conference_Author.csv\")\n",
        "df_fos_agg = pd.read_csv(f\"{Folder_path}/Field of study/fos_agg.csv\")\n",
        "df_country = pd.read_csv(f\"{Folder_path}/Fields wise Affiliations/All_conference.csv\")\n",
        "df_c = pd.read_csv(f'{Folder_path}/Country data/meta.csv')\n",
        "df_c = df_c[df_c['Country'] != '']\n",
        "data = df[df['Conference_Name'] == Conference]\n",
        "date = list(data['Date'])\n",
        "data['Date'] = pd.to_datetime(data['Date'])\n",
        "data = data.set_index('Date')\n",
        "loc = list(data['Location'].unique())\n",
        "\n",
        "data1 = df1[['Date','Affiliation','Conference']]\n",
        "data1 = data1[data1['Conference'] == Conference]\n",
        "data_fos_agg = df_fos_agg[df_fos_agg['Conference'] == Conference]\n",
        "data_fos_agg = data_fos_agg.drop('Unnamed: 0',axis = 1)\n",
        "data_country = df_country[df_country['Conference'] == Conference]\n",
        "data_country = data_country.drop('Unnamed: 0',axis = 1)\n",
        "data_meta = df_c[df_c['Conference'] == Conference]"
      ],
      "execution_count": null,
      "outputs": [
        {
          "output_type": "stream",
          "text": [
            "/usr/local/lib/python3.6/dist-packages/ipykernel_launcher.py:12: SettingWithCopyWarning:\n",
            "\n",
            "\n",
            "A value is trying to be set on a copy of a slice from a DataFrame.\n",
            "Try using .loc[row_indexer,col_indexer] = value instead\n",
            "\n",
            "See the caveats in the documentation: https://pandas.pydata.org/pandas-docs/stable/user_guide/indexing.html#returning-a-view-versus-a-copy\n",
            "\n"
          ],
          "name": "stderr"
        }
      ]
    },
    {
      "cell_type": "markdown",
      "metadata": {
        "id": "25Xwcfwsi8dw",
        "colab_type": "text"
      },
      "source": [
        "## Global Analysis\n",
        "\n",
        "---\n",
        "\n",
        "Fields = https://docs.google.com/spreadsheets/d/1xoaqiBNY-eMhrQ_cdlIb0v7YmWN1JUU9uX781hcw_Eg/edit?usp=sharing"
      ]
    },
    {
      "cell_type": "code",
      "metadata": {
        "id": "PG7aTgkVKWVf",
        "colab_type": "code",
        "cellView": "form",
        "colab": {
          "base_uri": "https://localhost:8080/",
          "height": 542
        },
        "outputId": "7b51b943-fa50-4187-8e70-06742e62c2fb"
      },
      "source": [
        "#@title ##### Top Conferences\n",
        "Year = \"2019\" #@param {type:\"string\"}\n",
        "Year = int(Year)\n",
        "d = df.drop(['Location'],axis=1)\n",
        "d['Date'] = pd.to_datetime(d['Date'])\n",
        "d = d.set_index('Date')\n",
        "d.index = d.index.year\n",
        "d = d.astype({'Publication_Count': 'int32'})\n",
        "d = d[d.index==Year].sort_values('Publication_Count',ascending=False).head(20)\n",
        "d = d.sort_values('Publication_Count')\n",
        "fig = go.Figure([go.Bar(y=d['Conference_Name'], x=d['Publication_Count'],orientation='h')])\n",
        "fig.add_layout_image(\n",
        "    dict(\n",
        "        source=\"https://pbs.twimg.com/profile_images/928845333349543937/xzRkcN08.jpg\",\n",
        "        xref=\"paper\", yref=\"paper\",\n",
        "        x=-0.07, y=-0.26,\n",
        "        sizex=0.23, sizey=0.23,\n",
        "        xanchor=\"left\", yanchor=\"bottom\"\n",
        "    )\n",
        ")\n",
        "\n",
        "fig.update_layout(\n",
        "    title = {\n",
        "        'text': 'Top Conferences in {}'.format(Year),\n",
        "        'y':0.9,\n",
        "        'x':0,\n",
        "        'xanchor': 'left',\n",
        "        'yanchor': 'top'},\n",
        "        titlefont= {\n",
        "            \"size\": 30,\n",
        "            \n",
        "        },\n",
        "    yaxis_title = \"Conference\",\n",
        "    xaxis_title = \"Number of publications\"\n",
        ")\n",
        "fig.show()"
      ],
      "execution_count": null,
      "outputs": [
        {
          "output_type": "display_data",
          "data": {
            "text/html": [
              "<html>\n",
              "<head><meta charset=\"utf-8\" /></head>\n",
              "<body>\n",
              "    <div>\n",
              "            <script src=\"https://cdnjs.cloudflare.com/ajax/libs/mathjax/2.7.5/MathJax.js?config=TeX-AMS-MML_SVG\"></script><script type=\"text/javascript\">if (window.MathJax) {MathJax.Hub.Config({SVG: {font: \"STIX-Web\"}});}</script>\n",
              "                <script type=\"text/javascript\">window.PlotlyConfig = {MathJaxConfig: 'local'};</script>\n",
              "        <script src=\"https://cdn.plot.ly/plotly-latest.min.js\"></script>    \n",
              "            <div id=\"b404e405-5572-4906-90df-8f3d1d81e2ae\" class=\"plotly-graph-div\" style=\"height:525px; width:100%;\"></div>\n",
              "            <script type=\"text/javascript\">\n",
              "                \n",
              "                    window.PLOTLYENV=window.PLOTLYENV || {};\n",
              "                    \n",
              "                if (document.getElementById(\"b404e405-5572-4906-90df-8f3d1d81e2ae\")) {\n",
              "                    Plotly.newPlot(\n",
              "                        'b404e405-5572-4906-90df-8f3d1d81e2ae',\n",
              "                        [{\"orientation\": \"h\", \"type\": \"bar\", \"x\": [107, 249, 413, 447, 612, 944, 988, 1050, 1234, 1550, 1641, 1676, 1737, 1895, 1902], \"y\": [\"UAI\", \"CP\", \"KDD\", \"AAMAS\", \"ICLR\", \"IROS\", \"ACL\", \"IJCAI\", \"ICML\", \"NeurIPS\", \"ICCV\", \"AAAI\", \"ICASSP\", \"ICRA\", \"CVPR\"]}],\n",
              "                        {\"images\": [{\"sizex\": 0.23, \"sizey\": 0.23, \"source\": \"https://pbs.twimg.com/profile_images/928845333349543937/xzRkcN08.jpg\", \"x\": -0.07, \"xanchor\": \"left\", \"xref\": \"paper\", \"y\": -0.26, \"yanchor\": \"bottom\", \"yref\": \"paper\"}], \"template\": {\"data\": {\"bar\": [{\"error_x\": {\"color\": \"#2a3f5f\"}, \"error_y\": {\"color\": \"#2a3f5f\"}, \"marker\": {\"line\": {\"color\": \"#E5ECF6\", \"width\": 0.5}}, \"type\": \"bar\"}], \"barpolar\": [{\"marker\": {\"line\": {\"color\": \"#E5ECF6\", \"width\": 0.5}}, \"type\": \"barpolar\"}], \"carpet\": [{\"aaxis\": {\"endlinecolor\": \"#2a3f5f\", \"gridcolor\": \"white\", \"linecolor\": \"white\", \"minorgridcolor\": \"white\", \"startlinecolor\": \"#2a3f5f\"}, \"baxis\": {\"endlinecolor\": \"#2a3f5f\", \"gridcolor\": \"white\", \"linecolor\": \"white\", \"minorgridcolor\": \"white\", \"startlinecolor\": \"#2a3f5f\"}, \"type\": \"carpet\"}], \"choropleth\": [{\"colorbar\": {\"outlinewidth\": 0, \"ticks\": \"\"}, \"type\": \"choropleth\"}], \"contour\": [{\"colorbar\": {\"outlinewidth\": 0, \"ticks\": \"\"}, \"colorscale\": [[0.0, \"#0d0887\"], [0.1111111111111111, \"#46039f\"], [0.2222222222222222, \"#7201a8\"], [0.3333333333333333, \"#9c179e\"], [0.4444444444444444, \"#bd3786\"], [0.5555555555555556, \"#d8576b\"], [0.6666666666666666, \"#ed7953\"], [0.7777777777777778, \"#fb9f3a\"], [0.8888888888888888, \"#fdca26\"], [1.0, \"#f0f921\"]], \"type\": \"contour\"}], \"contourcarpet\": [{\"colorbar\": {\"outlinewidth\": 0, \"ticks\": \"\"}, \"type\": \"contourcarpet\"}], \"heatmap\": [{\"colorbar\": {\"outlinewidth\": 0, \"ticks\": \"\"}, \"colorscale\": [[0.0, \"#0d0887\"], [0.1111111111111111, \"#46039f\"], [0.2222222222222222, \"#7201a8\"], [0.3333333333333333, \"#9c179e\"], [0.4444444444444444, \"#bd3786\"], [0.5555555555555556, \"#d8576b\"], [0.6666666666666666, \"#ed7953\"], [0.7777777777777778, \"#fb9f3a\"], [0.8888888888888888, \"#fdca26\"], [1.0, \"#f0f921\"]], \"type\": \"heatmap\"}], \"heatmapgl\": [{\"colorbar\": {\"outlinewidth\": 0, \"ticks\": \"\"}, \"colorscale\": [[0.0, \"#0d0887\"], [0.1111111111111111, \"#46039f\"], [0.2222222222222222, \"#7201a8\"], [0.3333333333333333, \"#9c179e\"], [0.4444444444444444, \"#bd3786\"], [0.5555555555555556, \"#d8576b\"], [0.6666666666666666, \"#ed7953\"], [0.7777777777777778, \"#fb9f3a\"], [0.8888888888888888, \"#fdca26\"], [1.0, \"#f0f921\"]], \"type\": \"heatmapgl\"}], \"histogram\": [{\"marker\": {\"colorbar\": {\"outlinewidth\": 0, \"ticks\": \"\"}}, \"type\": \"histogram\"}], \"histogram2d\": [{\"colorbar\": {\"outlinewidth\": 0, \"ticks\": \"\"}, \"colorscale\": [[0.0, \"#0d0887\"], [0.1111111111111111, \"#46039f\"], [0.2222222222222222, \"#7201a8\"], [0.3333333333333333, \"#9c179e\"], [0.4444444444444444, \"#bd3786\"], [0.5555555555555556, \"#d8576b\"], [0.6666666666666666, \"#ed7953\"], [0.7777777777777778, \"#fb9f3a\"], [0.8888888888888888, \"#fdca26\"], [1.0, \"#f0f921\"]], \"type\": \"histogram2d\"}], \"histogram2dcontour\": [{\"colorbar\": {\"outlinewidth\": 0, \"ticks\": \"\"}, \"colorscale\": [[0.0, \"#0d0887\"], [0.1111111111111111, \"#46039f\"], [0.2222222222222222, \"#7201a8\"], [0.3333333333333333, \"#9c179e\"], [0.4444444444444444, \"#bd3786\"], [0.5555555555555556, \"#d8576b\"], [0.6666666666666666, \"#ed7953\"], [0.7777777777777778, \"#fb9f3a\"], [0.8888888888888888, \"#fdca26\"], [1.0, \"#f0f921\"]], \"type\": \"histogram2dcontour\"}], \"mesh3d\": [{\"colorbar\": {\"outlinewidth\": 0, \"ticks\": \"\"}, \"type\": \"mesh3d\"}], \"parcoords\": [{\"line\": {\"colorbar\": {\"outlinewidth\": 0, \"ticks\": \"\"}}, \"type\": \"parcoords\"}], \"pie\": [{\"automargin\": true, \"type\": \"pie\"}], \"scatter\": [{\"marker\": {\"colorbar\": {\"outlinewidth\": 0, \"ticks\": \"\"}}, \"type\": \"scatter\"}], \"scatter3d\": [{\"line\": {\"colorbar\": {\"outlinewidth\": 0, \"ticks\": \"\"}}, \"marker\": {\"colorbar\": {\"outlinewidth\": 0, \"ticks\": \"\"}}, \"type\": \"scatter3d\"}], \"scattercarpet\": [{\"marker\": {\"colorbar\": {\"outlinewidth\": 0, \"ticks\": \"\"}}, \"type\": \"scattercarpet\"}], \"scattergeo\": [{\"marker\": {\"colorbar\": {\"outlinewidth\": 0, \"ticks\": \"\"}}, \"type\": \"scattergeo\"}], \"scattergl\": [{\"marker\": {\"colorbar\": {\"outlinewidth\": 0, \"ticks\": \"\"}}, \"type\": \"scattergl\"}], \"scattermapbox\": [{\"marker\": {\"colorbar\": {\"outlinewidth\": 0, \"ticks\": \"\"}}, \"type\": \"scattermapbox\"}], \"scatterpolar\": [{\"marker\": {\"colorbar\": {\"outlinewidth\": 0, \"ticks\": \"\"}}, \"type\": \"scatterpolar\"}], \"scatterpolargl\": [{\"marker\": {\"colorbar\": {\"outlinewidth\": 0, \"ticks\": \"\"}}, \"type\": \"scatterpolargl\"}], \"scatterternary\": [{\"marker\": {\"colorbar\": {\"outlinewidth\": 0, \"ticks\": \"\"}}, \"type\": \"scatterternary\"}], \"surface\": [{\"colorbar\": {\"outlinewidth\": 0, \"ticks\": \"\"}, \"colorscale\": [[0.0, \"#0d0887\"], [0.1111111111111111, \"#46039f\"], [0.2222222222222222, \"#7201a8\"], [0.3333333333333333, \"#9c179e\"], [0.4444444444444444, \"#bd3786\"], [0.5555555555555556, \"#d8576b\"], [0.6666666666666666, \"#ed7953\"], [0.7777777777777778, \"#fb9f3a\"], [0.8888888888888888, \"#fdca26\"], [1.0, \"#f0f921\"]], \"type\": \"surface\"}], \"table\": [{\"cells\": {\"fill\": {\"color\": \"#EBF0F8\"}, \"line\": {\"color\": \"white\"}}, \"header\": {\"fill\": {\"color\": \"#C8D4E3\"}, \"line\": {\"color\": \"white\"}}, \"type\": \"table\"}]}, \"layout\": {\"annotationdefaults\": {\"arrowcolor\": \"#2a3f5f\", \"arrowhead\": 0, \"arrowwidth\": 1}, \"coloraxis\": {\"colorbar\": {\"outlinewidth\": 0, \"ticks\": \"\"}}, \"colorscale\": {\"diverging\": [[0, \"#8e0152\"], [0.1, \"#c51b7d\"], [0.2, \"#de77ae\"], [0.3, \"#f1b6da\"], [0.4, \"#fde0ef\"], [0.5, \"#f7f7f7\"], [0.6, \"#e6f5d0\"], [0.7, \"#b8e186\"], [0.8, \"#7fbc41\"], [0.9, \"#4d9221\"], [1, \"#276419\"]], \"sequential\": [[0.0, \"#0d0887\"], [0.1111111111111111, \"#46039f\"], [0.2222222222222222, \"#7201a8\"], [0.3333333333333333, \"#9c179e\"], [0.4444444444444444, \"#bd3786\"], [0.5555555555555556, \"#d8576b\"], [0.6666666666666666, \"#ed7953\"], [0.7777777777777778, \"#fb9f3a\"], [0.8888888888888888, \"#fdca26\"], [1.0, \"#f0f921\"]], \"sequentialminus\": [[0.0, \"#0d0887\"], [0.1111111111111111, \"#46039f\"], [0.2222222222222222, \"#7201a8\"], [0.3333333333333333, \"#9c179e\"], [0.4444444444444444, \"#bd3786\"], [0.5555555555555556, \"#d8576b\"], [0.6666666666666666, \"#ed7953\"], [0.7777777777777778, \"#fb9f3a\"], [0.8888888888888888, \"#fdca26\"], [1.0, \"#f0f921\"]]}, \"colorway\": [\"#636efa\", \"#EF553B\", \"#00cc96\", \"#ab63fa\", \"#FFA15A\", \"#19d3f3\", \"#FF6692\", \"#B6E880\", \"#FF97FF\", \"#FECB52\"], \"font\": {\"color\": \"#2a3f5f\"}, \"geo\": {\"bgcolor\": \"white\", \"lakecolor\": \"white\", \"landcolor\": \"#E5ECF6\", \"showlakes\": true, \"showland\": true, \"subunitcolor\": \"white\"}, \"hoverlabel\": {\"align\": \"left\"}, \"hovermode\": \"closest\", \"mapbox\": {\"style\": \"light\"}, \"paper_bgcolor\": \"white\", \"plot_bgcolor\": \"#E5ECF6\", \"polar\": {\"angularaxis\": {\"gridcolor\": \"white\", \"linecolor\": \"white\", \"ticks\": \"\"}, \"bgcolor\": \"#E5ECF6\", \"radialaxis\": {\"gridcolor\": \"white\", \"linecolor\": \"white\", \"ticks\": \"\"}}, \"scene\": {\"xaxis\": {\"backgroundcolor\": \"#E5ECF6\", \"gridcolor\": \"white\", \"gridwidth\": 2, \"linecolor\": \"white\", \"showbackground\": true, \"ticks\": \"\", \"zerolinecolor\": \"white\"}, \"yaxis\": {\"backgroundcolor\": \"#E5ECF6\", \"gridcolor\": \"white\", \"gridwidth\": 2, \"linecolor\": \"white\", \"showbackground\": true, \"ticks\": \"\", \"zerolinecolor\": \"white\"}, \"zaxis\": {\"backgroundcolor\": \"#E5ECF6\", \"gridcolor\": \"white\", \"gridwidth\": 2, \"linecolor\": \"white\", \"showbackground\": true, \"ticks\": \"\", \"zerolinecolor\": \"white\"}}, \"shapedefaults\": {\"line\": {\"color\": \"#2a3f5f\"}}, \"ternary\": {\"aaxis\": {\"gridcolor\": \"white\", \"linecolor\": \"white\", \"ticks\": \"\"}, \"baxis\": {\"gridcolor\": \"white\", \"linecolor\": \"white\", \"ticks\": \"\"}, \"bgcolor\": \"#E5ECF6\", \"caxis\": {\"gridcolor\": \"white\", \"linecolor\": \"white\", \"ticks\": \"\"}}, \"title\": {\"x\": 0.05}, \"xaxis\": {\"automargin\": true, \"gridcolor\": \"white\", \"linecolor\": \"white\", \"ticks\": \"\", \"title\": {\"standoff\": 15}, \"zerolinecolor\": \"white\", \"zerolinewidth\": 2}, \"yaxis\": {\"automargin\": true, \"gridcolor\": \"white\", \"linecolor\": \"white\", \"ticks\": \"\", \"title\": {\"standoff\": 15}, \"zerolinecolor\": \"white\", \"zerolinewidth\": 2}}}, \"title\": {\"font\": {\"size\": 30}, \"text\": \"Top Conferences in 2019\", \"x\": 0, \"xanchor\": \"left\", \"y\": 0.9, \"yanchor\": \"top\"}, \"xaxis\": {\"title\": {\"text\": \"Number of publications\"}}, \"yaxis\": {\"title\": {\"text\": \"Conference\"}}},\n",
              "                        {\"responsive\": true}\n",
              "                    ).then(function(){\n",
              "                            \n",
              "var gd = document.getElementById('b404e405-5572-4906-90df-8f3d1d81e2ae');\n",
              "var x = new MutationObserver(function (mutations, observer) {{\n",
              "        var display = window.getComputedStyle(gd).display;\n",
              "        if (!display || display === 'none') {{\n",
              "            console.log([gd, 'removed!']);\n",
              "            Plotly.purge(gd);\n",
              "            observer.disconnect();\n",
              "        }}\n",
              "}});\n",
              "\n",
              "// Listen for the removal of the full notebook cells\n",
              "var notebookContainer = gd.closest('#notebook-container');\n",
              "if (notebookContainer) {{\n",
              "    x.observe(notebookContainer, {childList: true});\n",
              "}}\n",
              "\n",
              "// Listen for the clearing of the current output cell\n",
              "var outputEl = gd.closest('.output');\n",
              "if (outputEl) {{\n",
              "    x.observe(outputEl, {childList: true});\n",
              "}}\n",
              "\n",
              "                        })\n",
              "                };\n",
              "                \n",
              "            </script>\n",
              "        </div>\n",
              "</body>\n",
              "</html>"
            ]
          },
          "metadata": {
            "tags": []
          }
        }
      ]
    },
    {
      "cell_type": "code",
      "metadata": {
        "id": "Tgrlrjcxu9GS",
        "colab_type": "code",
        "cellView": "form",
        "colab": {
          "base_uri": "https://localhost:8080/",
          "height": 542
        },
        "outputId": "7109276b-c224-488d-cfa8-23be102ef8dc"
      },
      "source": [
        "#@title ##### Top 10 Conferences in a Field\n",
        "Field = \"robotics\" #@param {type:\"string\"}\n",
        "Year = \"2019\" #@param {type:\"string\"}\n",
        "Year = int(Year)\n",
        "d1 = df_fos_agg[df_fos_agg['Field_of_study']==Field]\n",
        "d1 = d1.set_index('Date')\n",
        "d1 = d1[d1.index==Year].sort_values('Publication_Count',ascending=False)\n",
        "d1 = d1.sort_values('Publication_Count')\n",
        "\n",
        "fig = go.Figure([go.Bar(y=list(d1['Conference']), x=d1['Publication_Count'],orientation='h')])\n",
        "fig.add_layout_image(\n",
        "    dict(\n",
        "        source=\"https://pbs.twimg.com/profile_images/928845333349543937/xzRkcN08.jpg\",\n",
        "        xref=\"paper\", yref=\"paper\",\n",
        "        x=-0.1, y=-0.26,\n",
        "        sizex=0.23, sizey=0.23,\n",
        "        xanchor=\"left\", yanchor=\"bottom\"\n",
        "    )\n",
        ")\n",
        "\n",
        "fig.update_layout(\n",
        "    title = {\n",
        "        'text': 'Top {} Conferences in {}'.format(Field,Year),\n",
        "        'y':0.9,\n",
        "        'x':0,\n",
        "        'xanchor': 'left',\n",
        "        'yanchor': 'top'},\n",
        "        titlefont= {\n",
        "            \"size\": 30,\n",
        "            \n",
        "        },\n",
        "    yaxis_title = \"Conferences\",\n",
        "    xaxis_title = f\"Number of publications in {Field}\"\n",
        ")\n",
        "fig.show()"
      ],
      "execution_count": null,
      "outputs": [
        {
          "output_type": "display_data",
          "data": {
            "text/html": [
              "<html>\n",
              "<head><meta charset=\"utf-8\" /></head>\n",
              "<body>\n",
              "    <div>\n",
              "            <script src=\"https://cdnjs.cloudflare.com/ajax/libs/mathjax/2.7.5/MathJax.js?config=TeX-AMS-MML_SVG\"></script><script type=\"text/javascript\">if (window.MathJax) {MathJax.Hub.Config({SVG: {font: \"STIX-Web\"}});}</script>\n",
              "                <script type=\"text/javascript\">window.PlotlyConfig = {MathJaxConfig: 'local'};</script>\n",
              "        <script src=\"https://cdn.plot.ly/plotly-latest.min.js\"></script>    \n",
              "            <div id=\"311326b0-ff98-4c9e-92d5-2df0cd6d4207\" class=\"plotly-graph-div\" style=\"height:525px; width:100%;\"></div>\n",
              "            <script type=\"text/javascript\">\n",
              "                \n",
              "                    window.PLOTLYENV=window.PLOTLYENV || {};\n",
              "                    \n",
              "                if (document.getElementById(\"311326b0-ff98-4c9e-92d5-2df0cd6d4207\")) {\n",
              "                    Plotly.newPlot(\n",
              "                        '311326b0-ff98-4c9e-92d5-2df0cd6d4207',\n",
              "                        [{\"orientation\": \"h\", \"type\": \"bar\", \"x\": [1, 1, 1, 7, 8, 9, 17, 37, 83, 127], \"y\": [\"ICASSP\", \"ICML\", \"KDD\", \"AAAI\", \"ICCV\", \"AAMAS\", \"CVPR\", \"NeurIPS\", \"IROS\", \"ICRA\"]}],\n",
              "                        {\"images\": [{\"sizex\": 0.23, \"sizey\": 0.23, \"source\": \"https://pbs.twimg.com/profile_images/928845333349543937/xzRkcN08.jpg\", \"x\": -0.1, \"xanchor\": \"left\", \"xref\": \"paper\", \"y\": -0.26, \"yanchor\": \"bottom\", \"yref\": \"paper\"}], \"template\": {\"data\": {\"bar\": [{\"error_x\": {\"color\": \"#2a3f5f\"}, \"error_y\": {\"color\": \"#2a3f5f\"}, \"marker\": {\"line\": {\"color\": \"#E5ECF6\", \"width\": 0.5}}, \"type\": \"bar\"}], \"barpolar\": [{\"marker\": {\"line\": {\"color\": \"#E5ECF6\", \"width\": 0.5}}, \"type\": \"barpolar\"}], \"carpet\": [{\"aaxis\": {\"endlinecolor\": \"#2a3f5f\", \"gridcolor\": \"white\", \"linecolor\": \"white\", \"minorgridcolor\": \"white\", \"startlinecolor\": \"#2a3f5f\"}, \"baxis\": {\"endlinecolor\": \"#2a3f5f\", \"gridcolor\": \"white\", \"linecolor\": \"white\", \"minorgridcolor\": \"white\", \"startlinecolor\": \"#2a3f5f\"}, \"type\": \"carpet\"}], \"choropleth\": [{\"colorbar\": {\"outlinewidth\": 0, \"ticks\": \"\"}, \"type\": \"choropleth\"}], \"contour\": [{\"colorbar\": {\"outlinewidth\": 0, \"ticks\": \"\"}, \"colorscale\": [[0.0, \"#0d0887\"], [0.1111111111111111, \"#46039f\"], [0.2222222222222222, \"#7201a8\"], [0.3333333333333333, \"#9c179e\"], [0.4444444444444444, \"#bd3786\"], [0.5555555555555556, \"#d8576b\"], [0.6666666666666666, \"#ed7953\"], [0.7777777777777778, \"#fb9f3a\"], [0.8888888888888888, \"#fdca26\"], [1.0, \"#f0f921\"]], \"type\": \"contour\"}], \"contourcarpet\": [{\"colorbar\": {\"outlinewidth\": 0, \"ticks\": \"\"}, \"type\": \"contourcarpet\"}], \"heatmap\": [{\"colorbar\": {\"outlinewidth\": 0, \"ticks\": \"\"}, \"colorscale\": [[0.0, \"#0d0887\"], [0.1111111111111111, \"#46039f\"], [0.2222222222222222, \"#7201a8\"], [0.3333333333333333, \"#9c179e\"], [0.4444444444444444, \"#bd3786\"], [0.5555555555555556, \"#d8576b\"], [0.6666666666666666, \"#ed7953\"], [0.7777777777777778, \"#fb9f3a\"], [0.8888888888888888, \"#fdca26\"], [1.0, \"#f0f921\"]], \"type\": \"heatmap\"}], \"heatmapgl\": [{\"colorbar\": {\"outlinewidth\": 0, \"ticks\": \"\"}, \"colorscale\": [[0.0, \"#0d0887\"], [0.1111111111111111, \"#46039f\"], [0.2222222222222222, \"#7201a8\"], [0.3333333333333333, \"#9c179e\"], [0.4444444444444444, \"#bd3786\"], [0.5555555555555556, \"#d8576b\"], [0.6666666666666666, \"#ed7953\"], [0.7777777777777778, \"#fb9f3a\"], [0.8888888888888888, \"#fdca26\"], [1.0, \"#f0f921\"]], \"type\": \"heatmapgl\"}], \"histogram\": [{\"marker\": {\"colorbar\": {\"outlinewidth\": 0, \"ticks\": \"\"}}, \"type\": \"histogram\"}], \"histogram2d\": [{\"colorbar\": {\"outlinewidth\": 0, \"ticks\": \"\"}, \"colorscale\": [[0.0, \"#0d0887\"], [0.1111111111111111, \"#46039f\"], [0.2222222222222222, \"#7201a8\"], [0.3333333333333333, \"#9c179e\"], [0.4444444444444444, \"#bd3786\"], [0.5555555555555556, \"#d8576b\"], [0.6666666666666666, \"#ed7953\"], [0.7777777777777778, \"#fb9f3a\"], [0.8888888888888888, \"#fdca26\"], [1.0, \"#f0f921\"]], \"type\": \"histogram2d\"}], \"histogram2dcontour\": [{\"colorbar\": {\"outlinewidth\": 0, \"ticks\": \"\"}, \"colorscale\": [[0.0, \"#0d0887\"], [0.1111111111111111, \"#46039f\"], [0.2222222222222222, \"#7201a8\"], [0.3333333333333333, \"#9c179e\"], [0.4444444444444444, \"#bd3786\"], [0.5555555555555556, \"#d8576b\"], [0.6666666666666666, \"#ed7953\"], [0.7777777777777778, \"#fb9f3a\"], [0.8888888888888888, \"#fdca26\"], [1.0, \"#f0f921\"]], \"type\": \"histogram2dcontour\"}], \"mesh3d\": [{\"colorbar\": {\"outlinewidth\": 0, \"ticks\": \"\"}, \"type\": \"mesh3d\"}], \"parcoords\": [{\"line\": {\"colorbar\": {\"outlinewidth\": 0, \"ticks\": \"\"}}, \"type\": \"parcoords\"}], \"pie\": [{\"automargin\": true, \"type\": \"pie\"}], \"scatter\": [{\"marker\": {\"colorbar\": {\"outlinewidth\": 0, \"ticks\": \"\"}}, \"type\": \"scatter\"}], \"scatter3d\": [{\"line\": {\"colorbar\": {\"outlinewidth\": 0, \"ticks\": \"\"}}, \"marker\": {\"colorbar\": {\"outlinewidth\": 0, \"ticks\": \"\"}}, \"type\": \"scatter3d\"}], \"scattercarpet\": [{\"marker\": {\"colorbar\": {\"outlinewidth\": 0, \"ticks\": \"\"}}, \"type\": \"scattercarpet\"}], \"scattergeo\": [{\"marker\": {\"colorbar\": {\"outlinewidth\": 0, \"ticks\": \"\"}}, \"type\": \"scattergeo\"}], \"scattergl\": [{\"marker\": {\"colorbar\": {\"outlinewidth\": 0, \"ticks\": \"\"}}, \"type\": \"scattergl\"}], \"scattermapbox\": [{\"marker\": {\"colorbar\": {\"outlinewidth\": 0, \"ticks\": \"\"}}, \"type\": \"scattermapbox\"}], \"scatterpolar\": [{\"marker\": {\"colorbar\": {\"outlinewidth\": 0, \"ticks\": \"\"}}, \"type\": \"scatterpolar\"}], \"scatterpolargl\": [{\"marker\": {\"colorbar\": {\"outlinewidth\": 0, \"ticks\": \"\"}}, \"type\": \"scatterpolargl\"}], \"scatterternary\": [{\"marker\": {\"colorbar\": {\"outlinewidth\": 0, \"ticks\": \"\"}}, \"type\": \"scatterternary\"}], \"surface\": [{\"colorbar\": {\"outlinewidth\": 0, \"ticks\": \"\"}, \"colorscale\": [[0.0, \"#0d0887\"], [0.1111111111111111, \"#46039f\"], [0.2222222222222222, \"#7201a8\"], [0.3333333333333333, \"#9c179e\"], [0.4444444444444444, \"#bd3786\"], [0.5555555555555556, \"#d8576b\"], [0.6666666666666666, \"#ed7953\"], [0.7777777777777778, \"#fb9f3a\"], [0.8888888888888888, \"#fdca26\"], [1.0, \"#f0f921\"]], \"type\": \"surface\"}], \"table\": [{\"cells\": {\"fill\": {\"color\": \"#EBF0F8\"}, \"line\": {\"color\": \"white\"}}, \"header\": {\"fill\": {\"color\": \"#C8D4E3\"}, \"line\": {\"color\": \"white\"}}, \"type\": \"table\"}]}, \"layout\": {\"annotationdefaults\": {\"arrowcolor\": \"#2a3f5f\", \"arrowhead\": 0, \"arrowwidth\": 1}, \"coloraxis\": {\"colorbar\": {\"outlinewidth\": 0, \"ticks\": \"\"}}, \"colorscale\": {\"diverging\": [[0, \"#8e0152\"], [0.1, \"#c51b7d\"], [0.2, \"#de77ae\"], [0.3, \"#f1b6da\"], [0.4, \"#fde0ef\"], [0.5, \"#f7f7f7\"], [0.6, \"#e6f5d0\"], [0.7, \"#b8e186\"], [0.8, \"#7fbc41\"], [0.9, \"#4d9221\"], [1, \"#276419\"]], \"sequential\": [[0.0, \"#0d0887\"], [0.1111111111111111, \"#46039f\"], [0.2222222222222222, \"#7201a8\"], [0.3333333333333333, \"#9c179e\"], [0.4444444444444444, \"#bd3786\"], [0.5555555555555556, \"#d8576b\"], [0.6666666666666666, \"#ed7953\"], [0.7777777777777778, \"#fb9f3a\"], [0.8888888888888888, \"#fdca26\"], [1.0, \"#f0f921\"]], \"sequentialminus\": [[0.0, \"#0d0887\"], [0.1111111111111111, \"#46039f\"], [0.2222222222222222, \"#7201a8\"], [0.3333333333333333, \"#9c179e\"], [0.4444444444444444, \"#bd3786\"], [0.5555555555555556, \"#d8576b\"], [0.6666666666666666, \"#ed7953\"], [0.7777777777777778, \"#fb9f3a\"], [0.8888888888888888, \"#fdca26\"], [1.0, \"#f0f921\"]]}, \"colorway\": [\"#636efa\", \"#EF553B\", \"#00cc96\", \"#ab63fa\", \"#FFA15A\", \"#19d3f3\", \"#FF6692\", \"#B6E880\", \"#FF97FF\", \"#FECB52\"], \"font\": {\"color\": \"#2a3f5f\"}, \"geo\": {\"bgcolor\": \"white\", \"lakecolor\": \"white\", \"landcolor\": \"#E5ECF6\", \"showlakes\": true, \"showland\": true, \"subunitcolor\": \"white\"}, \"hoverlabel\": {\"align\": \"left\"}, \"hovermode\": \"closest\", \"mapbox\": {\"style\": \"light\"}, \"paper_bgcolor\": \"white\", \"plot_bgcolor\": \"#E5ECF6\", \"polar\": {\"angularaxis\": {\"gridcolor\": \"white\", \"linecolor\": \"white\", \"ticks\": \"\"}, \"bgcolor\": \"#E5ECF6\", \"radialaxis\": {\"gridcolor\": \"white\", \"linecolor\": \"white\", \"ticks\": \"\"}}, \"scene\": {\"xaxis\": {\"backgroundcolor\": \"#E5ECF6\", \"gridcolor\": \"white\", \"gridwidth\": 2, \"linecolor\": \"white\", \"showbackground\": true, \"ticks\": \"\", \"zerolinecolor\": \"white\"}, \"yaxis\": {\"backgroundcolor\": \"#E5ECF6\", \"gridcolor\": \"white\", \"gridwidth\": 2, \"linecolor\": \"white\", \"showbackground\": true, \"ticks\": \"\", \"zerolinecolor\": \"white\"}, \"zaxis\": {\"backgroundcolor\": \"#E5ECF6\", \"gridcolor\": \"white\", \"gridwidth\": 2, \"linecolor\": \"white\", \"showbackground\": true, \"ticks\": \"\", \"zerolinecolor\": \"white\"}}, \"shapedefaults\": {\"line\": {\"color\": \"#2a3f5f\"}}, \"ternary\": {\"aaxis\": {\"gridcolor\": \"white\", \"linecolor\": \"white\", \"ticks\": \"\"}, \"baxis\": {\"gridcolor\": \"white\", \"linecolor\": \"white\", \"ticks\": \"\"}, \"bgcolor\": \"#E5ECF6\", \"caxis\": {\"gridcolor\": \"white\", \"linecolor\": \"white\", \"ticks\": \"\"}}, \"title\": {\"x\": 0.05}, \"xaxis\": {\"automargin\": true, \"gridcolor\": \"white\", \"linecolor\": \"white\", \"ticks\": \"\", \"title\": {\"standoff\": 15}, \"zerolinecolor\": \"white\", \"zerolinewidth\": 2}, \"yaxis\": {\"automargin\": true, \"gridcolor\": \"white\", \"linecolor\": \"white\", \"ticks\": \"\", \"title\": {\"standoff\": 15}, \"zerolinecolor\": \"white\", \"zerolinewidth\": 2}}}, \"title\": {\"font\": {\"size\": 30}, \"text\": \"Top robotics Conferences in 2019\", \"x\": 0, \"xanchor\": \"left\", \"y\": 0.9, \"yanchor\": \"top\"}, \"xaxis\": {\"title\": {\"text\": \"Number of publications in robotics\"}}, \"yaxis\": {\"title\": {\"text\": \"Conferences\"}}},\n",
              "                        {\"responsive\": true}\n",
              "                    ).then(function(){\n",
              "                            \n",
              "var gd = document.getElementById('311326b0-ff98-4c9e-92d5-2df0cd6d4207');\n",
              "var x = new MutationObserver(function (mutations, observer) {{\n",
              "        var display = window.getComputedStyle(gd).display;\n",
              "        if (!display || display === 'none') {{\n",
              "            console.log([gd, 'removed!']);\n",
              "            Plotly.purge(gd);\n",
              "            observer.disconnect();\n",
              "        }}\n",
              "}});\n",
              "\n",
              "// Listen for the removal of the full notebook cells\n",
              "var notebookContainer = gd.closest('#notebook-container');\n",
              "if (notebookContainer) {{\n",
              "    x.observe(notebookContainer, {childList: true});\n",
              "}}\n",
              "\n",
              "// Listen for the clearing of the current output cell\n",
              "var outputEl = gd.closest('.output');\n",
              "if (outputEl) {{\n",
              "    x.observe(outputEl, {childList: true});\n",
              "}}\n",
              "\n",
              "                        })\n",
              "                };\n",
              "                \n",
              "            </script>\n",
              "        </div>\n",
              "</body>\n",
              "</html>"
            ]
          },
          "metadata": {
            "tags": []
          }
        }
      ]
    },
    {
      "cell_type": "markdown",
      "metadata": {
        "id": "6ZNKD_6OjGsQ",
        "colab_type": "text"
      },
      "source": [
        "## Conference Specific Analysis"
      ]
    },
    {
      "cell_type": "code",
      "metadata": {
        "id": "iQPpq5lKBmA0",
        "colab_type": "code",
        "cellView": "form",
        "colab": {
          "base_uri": "https://localhost:8080/",
          "height": 542
        },
        "outputId": "4766703a-3b14-49f0-d33b-c5d89fa4d457"
      },
      "source": [
        "#@title ##### Field wise Top Affiliations\n",
        "Field = \"Constraint Programming\" #@param {type:\"string\"}\n",
        "Year = \"2019\" #@param {type:\"string\"}\n",
        "Year = int(Year)\n",
        "Field = Field.lower()\n",
        "d = data_country[data_country['Field_of_study']==Field]\n",
        "d = d[d['Date']==Year]\n",
        "d1 = d.set_index('Date')\n",
        "d1 = d1.sort_values('Publication_Count',ascending=False).head(10)\n",
        "d1 = d1.sort_values('Publication_Count')\n",
        "\n",
        "fig = go.Figure([go.Bar(y=list(d1['Affiliation']), x=d1['Publication_Count'],orientation='h')])\n",
        "fig.add_layout_image(\n",
        "    dict(\n",
        "        source=\"https://pbs.twimg.com/profile_images/928845333349543937/xzRkcN08.jpg\",\n",
        "        xref=\"paper\", yref=\"paper\",\n",
        "        x=-0.1, y=-0.26,\n",
        "        sizex=0.23, sizey=0.23,\n",
        "        xanchor=\"left\", yanchor=\"bottom\"\n",
        "    )\n",
        ")\n",
        "\n",
        "fig.update_layout(\n",
        "    title = {\n",
        "        'text': 'Top affiliations in {} in {} at {}'.format(Field,Year,Conference),\n",
        "        'y':0.9,\n",
        "        'x':0,\n",
        "        'xanchor': 'left',\n",
        "        'yanchor': 'top'},\n",
        "        titlefont= {\n",
        "            \"size\": 26,\n",
        "            \n",
        "        },\n",
        "    yaxis_title = \"Affiliations\",\n",
        "    xaxis_title = f\"Number of publications in {Field}\"\n",
        ")\n",
        "fig.show()\n"
      ],
      "execution_count": null,
      "outputs": [
        {
          "output_type": "display_data",
          "data": {
            "text/html": [
              "<html>\n",
              "<head><meta charset=\"utf-8\" /></head>\n",
              "<body>\n",
              "    <div>\n",
              "            <script src=\"https://cdnjs.cloudflare.com/ajax/libs/mathjax/2.7.5/MathJax.js?config=TeX-AMS-MML_SVG\"></script><script type=\"text/javascript\">if (window.MathJax) {MathJax.Hub.Config({SVG: {font: \"STIX-Web\"}});}</script>\n",
              "                <script type=\"text/javascript\">window.PlotlyConfig = {MathJaxConfig: 'local'};</script>\n",
              "        <script src=\"https://cdn.plot.ly/plotly-latest.min.js\"></script>    \n",
              "            <div id=\"26610bc4-82e4-4401-9dac-07e9f7bc589c\" class=\"plotly-graph-div\" style=\"height:525px; width:100%;\"></div>\n",
              "            <script type=\"text/javascript\">\n",
              "                \n",
              "                    window.PLOTLYENV=window.PLOTLYENV || {};\n",
              "                    \n",
              "                if (document.getElementById(\"26610bc4-82e4-4401-9dac-07e9f7bc589c\")) {\n",
              "                    Plotly.newPlot(\n",
              "                        '26610bc4-82e4-4401-9dac-07e9f7bc589c',\n",
              "                        [{\"orientation\": \"h\", \"type\": \"bar\", \"x\": [1, 2, 2, 2, 2, 3, 3, 4, 6, 6], \"y\": [\"Laboratoire d'Informatique, Signaux, et Syst\\u00e8mes de Sophia Antipolis\", \"Alpen-Adria-Universit\\u00e4t Klagenfurt\", \"Commonwealth Scientific and Industrial Research Organisation\", \"Masaryk University\", \"Royal Institute of Technology\", \"University of Bologna\", \"Uppsala University\", \"University of St Andrews\", \"University of Toronto\", \"Universit\\u00e9 catholique de Louvain\"]}],\n",
              "                        {\"images\": [{\"sizex\": 0.23, \"sizey\": 0.23, \"source\": \"https://pbs.twimg.com/profile_images/928845333349543937/xzRkcN08.jpg\", \"x\": -0.1, \"xanchor\": \"left\", \"xref\": \"paper\", \"y\": -0.26, \"yanchor\": \"bottom\", \"yref\": \"paper\"}], \"template\": {\"data\": {\"bar\": [{\"error_x\": {\"color\": \"#2a3f5f\"}, \"error_y\": {\"color\": \"#2a3f5f\"}, \"marker\": {\"line\": {\"color\": \"#E5ECF6\", \"width\": 0.5}}, \"type\": \"bar\"}], \"barpolar\": [{\"marker\": {\"line\": {\"color\": \"#E5ECF6\", \"width\": 0.5}}, \"type\": \"barpolar\"}], \"carpet\": [{\"aaxis\": {\"endlinecolor\": \"#2a3f5f\", \"gridcolor\": \"white\", \"linecolor\": \"white\", \"minorgridcolor\": \"white\", \"startlinecolor\": \"#2a3f5f\"}, \"baxis\": {\"endlinecolor\": \"#2a3f5f\", \"gridcolor\": \"white\", \"linecolor\": \"white\", \"minorgridcolor\": \"white\", \"startlinecolor\": \"#2a3f5f\"}, \"type\": \"carpet\"}], \"choropleth\": [{\"colorbar\": {\"outlinewidth\": 0, \"ticks\": \"\"}, \"type\": \"choropleth\"}], \"contour\": [{\"colorbar\": {\"outlinewidth\": 0, \"ticks\": \"\"}, \"colorscale\": [[0.0, \"#0d0887\"], [0.1111111111111111, \"#46039f\"], [0.2222222222222222, \"#7201a8\"], [0.3333333333333333, \"#9c179e\"], [0.4444444444444444, \"#bd3786\"], [0.5555555555555556, \"#d8576b\"], [0.6666666666666666, \"#ed7953\"], [0.7777777777777778, \"#fb9f3a\"], [0.8888888888888888, \"#fdca26\"], [1.0, \"#f0f921\"]], \"type\": \"contour\"}], \"contourcarpet\": [{\"colorbar\": {\"outlinewidth\": 0, \"ticks\": \"\"}, \"type\": \"contourcarpet\"}], \"heatmap\": [{\"colorbar\": {\"outlinewidth\": 0, \"ticks\": \"\"}, \"colorscale\": [[0.0, \"#0d0887\"], [0.1111111111111111, \"#46039f\"], [0.2222222222222222, \"#7201a8\"], [0.3333333333333333, \"#9c179e\"], [0.4444444444444444, \"#bd3786\"], [0.5555555555555556, \"#d8576b\"], [0.6666666666666666, \"#ed7953\"], [0.7777777777777778, \"#fb9f3a\"], [0.8888888888888888, \"#fdca26\"], [1.0, \"#f0f921\"]], \"type\": \"heatmap\"}], \"heatmapgl\": [{\"colorbar\": {\"outlinewidth\": 0, \"ticks\": \"\"}, \"colorscale\": [[0.0, \"#0d0887\"], [0.1111111111111111, \"#46039f\"], [0.2222222222222222, \"#7201a8\"], [0.3333333333333333, \"#9c179e\"], [0.4444444444444444, \"#bd3786\"], [0.5555555555555556, \"#d8576b\"], [0.6666666666666666, \"#ed7953\"], [0.7777777777777778, \"#fb9f3a\"], [0.8888888888888888, \"#fdca26\"], [1.0, \"#f0f921\"]], \"type\": \"heatmapgl\"}], \"histogram\": [{\"marker\": {\"colorbar\": {\"outlinewidth\": 0, \"ticks\": \"\"}}, \"type\": \"histogram\"}], \"histogram2d\": [{\"colorbar\": {\"outlinewidth\": 0, \"ticks\": \"\"}, \"colorscale\": [[0.0, \"#0d0887\"], [0.1111111111111111, \"#46039f\"], [0.2222222222222222, \"#7201a8\"], [0.3333333333333333, \"#9c179e\"], [0.4444444444444444, \"#bd3786\"], [0.5555555555555556, \"#d8576b\"], [0.6666666666666666, \"#ed7953\"], [0.7777777777777778, \"#fb9f3a\"], [0.8888888888888888, \"#fdca26\"], [1.0, \"#f0f921\"]], \"type\": \"histogram2d\"}], \"histogram2dcontour\": [{\"colorbar\": {\"outlinewidth\": 0, \"ticks\": \"\"}, \"colorscale\": [[0.0, \"#0d0887\"], [0.1111111111111111, \"#46039f\"], [0.2222222222222222, \"#7201a8\"], [0.3333333333333333, \"#9c179e\"], [0.4444444444444444, \"#bd3786\"], [0.5555555555555556, \"#d8576b\"], [0.6666666666666666, \"#ed7953\"], [0.7777777777777778, \"#fb9f3a\"], [0.8888888888888888, \"#fdca26\"], [1.0, \"#f0f921\"]], \"type\": \"histogram2dcontour\"}], \"mesh3d\": [{\"colorbar\": {\"outlinewidth\": 0, \"ticks\": \"\"}, \"type\": \"mesh3d\"}], \"parcoords\": [{\"line\": {\"colorbar\": {\"outlinewidth\": 0, \"ticks\": \"\"}}, \"type\": \"parcoords\"}], \"pie\": [{\"automargin\": true, \"type\": \"pie\"}], \"scatter\": [{\"marker\": {\"colorbar\": {\"outlinewidth\": 0, \"ticks\": \"\"}}, \"type\": \"scatter\"}], \"scatter3d\": [{\"line\": {\"colorbar\": {\"outlinewidth\": 0, \"ticks\": \"\"}}, \"marker\": {\"colorbar\": {\"outlinewidth\": 0, \"ticks\": \"\"}}, \"type\": \"scatter3d\"}], \"scattercarpet\": [{\"marker\": {\"colorbar\": {\"outlinewidth\": 0, \"ticks\": \"\"}}, \"type\": \"scattercarpet\"}], \"scattergeo\": [{\"marker\": {\"colorbar\": {\"outlinewidth\": 0, \"ticks\": \"\"}}, \"type\": \"scattergeo\"}], \"scattergl\": [{\"marker\": {\"colorbar\": {\"outlinewidth\": 0, \"ticks\": \"\"}}, \"type\": \"scattergl\"}], \"scattermapbox\": [{\"marker\": {\"colorbar\": {\"outlinewidth\": 0, \"ticks\": \"\"}}, \"type\": \"scattermapbox\"}], \"scatterpolar\": [{\"marker\": {\"colorbar\": {\"outlinewidth\": 0, \"ticks\": \"\"}}, \"type\": \"scatterpolar\"}], \"scatterpolargl\": [{\"marker\": {\"colorbar\": {\"outlinewidth\": 0, \"ticks\": \"\"}}, \"type\": \"scatterpolargl\"}], \"scatterternary\": [{\"marker\": {\"colorbar\": {\"outlinewidth\": 0, \"ticks\": \"\"}}, \"type\": \"scatterternary\"}], \"surface\": [{\"colorbar\": {\"outlinewidth\": 0, \"ticks\": \"\"}, \"colorscale\": [[0.0, \"#0d0887\"], [0.1111111111111111, \"#46039f\"], [0.2222222222222222, \"#7201a8\"], [0.3333333333333333, \"#9c179e\"], [0.4444444444444444, \"#bd3786\"], [0.5555555555555556, \"#d8576b\"], [0.6666666666666666, \"#ed7953\"], [0.7777777777777778, \"#fb9f3a\"], [0.8888888888888888, \"#fdca26\"], [1.0, \"#f0f921\"]], \"type\": \"surface\"}], \"table\": [{\"cells\": {\"fill\": {\"color\": \"#EBF0F8\"}, \"line\": {\"color\": \"white\"}}, \"header\": {\"fill\": {\"color\": \"#C8D4E3\"}, \"line\": {\"color\": \"white\"}}, \"type\": \"table\"}]}, \"layout\": {\"annotationdefaults\": {\"arrowcolor\": \"#2a3f5f\", \"arrowhead\": 0, \"arrowwidth\": 1}, \"coloraxis\": {\"colorbar\": {\"outlinewidth\": 0, \"ticks\": \"\"}}, \"colorscale\": {\"diverging\": [[0, \"#8e0152\"], [0.1, \"#c51b7d\"], [0.2, \"#de77ae\"], [0.3, \"#f1b6da\"], [0.4, \"#fde0ef\"], [0.5, \"#f7f7f7\"], [0.6, \"#e6f5d0\"], [0.7, \"#b8e186\"], [0.8, \"#7fbc41\"], [0.9, \"#4d9221\"], [1, \"#276419\"]], \"sequential\": [[0.0, \"#0d0887\"], [0.1111111111111111, \"#46039f\"], [0.2222222222222222, \"#7201a8\"], [0.3333333333333333, \"#9c179e\"], [0.4444444444444444, \"#bd3786\"], [0.5555555555555556, \"#d8576b\"], [0.6666666666666666, \"#ed7953\"], [0.7777777777777778, \"#fb9f3a\"], [0.8888888888888888, \"#fdca26\"], [1.0, \"#f0f921\"]], \"sequentialminus\": [[0.0, \"#0d0887\"], [0.1111111111111111, \"#46039f\"], [0.2222222222222222, \"#7201a8\"], [0.3333333333333333, \"#9c179e\"], [0.4444444444444444, \"#bd3786\"], [0.5555555555555556, \"#d8576b\"], [0.6666666666666666, \"#ed7953\"], [0.7777777777777778, \"#fb9f3a\"], [0.8888888888888888, \"#fdca26\"], [1.0, \"#f0f921\"]]}, \"colorway\": [\"#636efa\", \"#EF553B\", \"#00cc96\", \"#ab63fa\", \"#FFA15A\", \"#19d3f3\", \"#FF6692\", \"#B6E880\", \"#FF97FF\", \"#FECB52\"], \"font\": {\"color\": \"#2a3f5f\"}, \"geo\": {\"bgcolor\": \"white\", \"lakecolor\": \"white\", \"landcolor\": \"#E5ECF6\", \"showlakes\": true, \"showland\": true, \"subunitcolor\": \"white\"}, \"hoverlabel\": {\"align\": \"left\"}, \"hovermode\": \"closest\", \"mapbox\": {\"style\": \"light\"}, \"paper_bgcolor\": \"white\", \"plot_bgcolor\": \"#E5ECF6\", \"polar\": {\"angularaxis\": {\"gridcolor\": \"white\", \"linecolor\": \"white\", \"ticks\": \"\"}, \"bgcolor\": \"#E5ECF6\", \"radialaxis\": {\"gridcolor\": \"white\", \"linecolor\": \"white\", \"ticks\": \"\"}}, \"scene\": {\"xaxis\": {\"backgroundcolor\": \"#E5ECF6\", \"gridcolor\": \"white\", \"gridwidth\": 2, \"linecolor\": \"white\", \"showbackground\": true, \"ticks\": \"\", \"zerolinecolor\": \"white\"}, \"yaxis\": {\"backgroundcolor\": \"#E5ECF6\", \"gridcolor\": \"white\", \"gridwidth\": 2, \"linecolor\": \"white\", \"showbackground\": true, \"ticks\": \"\", \"zerolinecolor\": \"white\"}, \"zaxis\": {\"backgroundcolor\": \"#E5ECF6\", \"gridcolor\": \"white\", \"gridwidth\": 2, \"linecolor\": \"white\", \"showbackground\": true, \"ticks\": \"\", \"zerolinecolor\": \"white\"}}, \"shapedefaults\": {\"line\": {\"color\": \"#2a3f5f\"}}, \"ternary\": {\"aaxis\": {\"gridcolor\": \"white\", \"linecolor\": \"white\", \"ticks\": \"\"}, \"baxis\": {\"gridcolor\": \"white\", \"linecolor\": \"white\", \"ticks\": \"\"}, \"bgcolor\": \"#E5ECF6\", \"caxis\": {\"gridcolor\": \"white\", \"linecolor\": \"white\", \"ticks\": \"\"}}, \"title\": {\"x\": 0.05}, \"xaxis\": {\"automargin\": true, \"gridcolor\": \"white\", \"linecolor\": \"white\", \"ticks\": \"\", \"title\": {\"standoff\": 15}, \"zerolinecolor\": \"white\", \"zerolinewidth\": 2}, \"yaxis\": {\"automargin\": true, \"gridcolor\": \"white\", \"linecolor\": \"white\", \"ticks\": \"\", \"title\": {\"standoff\": 15}, \"zerolinecolor\": \"white\", \"zerolinewidth\": 2}}}, \"title\": {\"font\": {\"size\": 26}, \"text\": \"Top affiliations in constraint programming in 2019 at CP\", \"x\": 0, \"xanchor\": \"left\", \"y\": 0.9, \"yanchor\": \"top\"}, \"xaxis\": {\"title\": {\"text\": \"Number of publications in constraint programming\"}}, \"yaxis\": {\"title\": {\"text\": \"Affiliations\"}}},\n",
              "                        {\"responsive\": true}\n",
              "                    ).then(function(){\n",
              "                            \n",
              "var gd = document.getElementById('26610bc4-82e4-4401-9dac-07e9f7bc589c');\n",
              "var x = new MutationObserver(function (mutations, observer) {{\n",
              "        var display = window.getComputedStyle(gd).display;\n",
              "        if (!display || display === 'none') {{\n",
              "            console.log([gd, 'removed!']);\n",
              "            Plotly.purge(gd);\n",
              "            observer.disconnect();\n",
              "        }}\n",
              "}});\n",
              "\n",
              "// Listen for the removal of the full notebook cells\n",
              "var notebookContainer = gd.closest('#notebook-container');\n",
              "if (notebookContainer) {{\n",
              "    x.observe(notebookContainer, {childList: true});\n",
              "}}\n",
              "\n",
              "// Listen for the clearing of the current output cell\n",
              "var outputEl = gd.closest('.output');\n",
              "if (outputEl) {{\n",
              "    x.observe(outputEl, {childList: true});\n",
              "}}\n",
              "\n",
              "                        })\n",
              "                };\n",
              "                \n",
              "            </script>\n",
              "        </div>\n",
              "</body>\n",
              "</html>"
            ]
          },
          "metadata": {
            "tags": []
          }
        }
      ]
    },
    {
      "cell_type": "code",
      "metadata": {
        "id": "r741wlkv7dcu",
        "colab_type": "code",
        "cellView": "form",
        "colab": {
          "base_uri": "https://localhost:8080/",
          "height": 542
        },
        "outputId": "5f73448e-5934-4390-f5e5-3e874d5fbdb5"
      },
      "source": [
        "#@title ##### Publications Chart\n",
        "import plotly.express as px\n",
        "import plotly.graph_objects as go\n",
        "fig = go.Figure([go.Bar(x=list(data.index.year), y=data['Publication_Count']\n",
        "                        )])\n",
        "fig.add_layout_image(\n",
        "    dict(\n",
        "        source=\"https://pbs.twimg.com/profile_images/928845333349543937/xzRkcN08.jpg\",\n",
        "        xref=\"paper\", yref=\"paper\",\n",
        "        x=-0.08, y=-0.27,\n",
        "        sizex=0.23, sizey=0.23,\n",
        "        xanchor=\"left\", yanchor=\"bottom\"\n",
        "    )\n",
        ")\n",
        "fig.update_layout(\n",
        "    title = {\n",
        "        'text': 'Total number of publications per year in {}'.format(Conference),\n",
        "        'y':0.9,\n",
        "        'x':0,\n",
        "        'xanchor': 'left',\n",
        "        'yanchor': 'top'},\n",
        "        titlefont= {\n",
        "            \"size\": 26,\n",
        "            \n",
        "        },\n",
        "    #xaxis_title = \"year\",\n",
        "    yaxis_title = \"Number of publications\"\n",
        ")\n",
        "fig.show()"
      ],
      "execution_count": null,
      "outputs": [
        {
          "output_type": "display_data",
          "data": {
            "text/html": [
              "<html>\n",
              "<head><meta charset=\"utf-8\" /></head>\n",
              "<body>\n",
              "    <div>\n",
              "            <script src=\"https://cdnjs.cloudflare.com/ajax/libs/mathjax/2.7.5/MathJax.js?config=TeX-AMS-MML_SVG\"></script><script type=\"text/javascript\">if (window.MathJax) {MathJax.Hub.Config({SVG: {font: \"STIX-Web\"}});}</script>\n",
              "                <script type=\"text/javascript\">window.PlotlyConfig = {MathJaxConfig: 'local'};</script>\n",
              "        <script src=\"https://cdn.plot.ly/plotly-latest.min.js\"></script>    \n",
              "            <div id=\"67dc76ed-24aa-42ab-ab08-8397d1dbdd8f\" class=\"plotly-graph-div\" style=\"height:525px; width:100%;\"></div>\n",
              "            <script type=\"text/javascript\">\n",
              "                \n",
              "                    window.PLOTLYENV=window.PLOTLYENV || {};\n",
              "                    \n",
              "                if (document.getElementById(\"67dc76ed-24aa-42ab-ab08-8397d1dbdd8f\")) {\n",
              "                    Plotly.newPlot(\n",
              "                        '67dc76ed-24aa-42ab-ab08-8397d1dbdd8f',\n",
              "                        [{\"type\": \"bar\", \"x\": [2008, 2010, 2011, 2012, 2013, 2014, 2015, 2016, 2017, 2018, 2019], \"y\": [\"311\", \"338\", \"265\", \"358\", \"744\", \"371\", \"283\", \"334\", \"265\", \"196\", \"249\"]}],\n",
              "                        {\"images\": [{\"sizex\": 0.23, \"sizey\": 0.23, \"source\": \"https://pbs.twimg.com/profile_images/928845333349543937/xzRkcN08.jpg\", \"x\": -0.08, \"xanchor\": \"left\", \"xref\": \"paper\", \"y\": -0.27, \"yanchor\": \"bottom\", \"yref\": \"paper\"}], \"template\": {\"data\": {\"bar\": [{\"error_x\": {\"color\": \"#2a3f5f\"}, \"error_y\": {\"color\": \"#2a3f5f\"}, \"marker\": {\"line\": {\"color\": \"#E5ECF6\", \"width\": 0.5}}, \"type\": \"bar\"}], \"barpolar\": [{\"marker\": {\"line\": {\"color\": \"#E5ECF6\", \"width\": 0.5}}, \"type\": \"barpolar\"}], \"carpet\": [{\"aaxis\": {\"endlinecolor\": \"#2a3f5f\", \"gridcolor\": \"white\", \"linecolor\": \"white\", \"minorgridcolor\": \"white\", \"startlinecolor\": \"#2a3f5f\"}, \"baxis\": {\"endlinecolor\": \"#2a3f5f\", \"gridcolor\": \"white\", \"linecolor\": \"white\", \"minorgridcolor\": \"white\", \"startlinecolor\": \"#2a3f5f\"}, \"type\": \"carpet\"}], \"choropleth\": [{\"colorbar\": {\"outlinewidth\": 0, \"ticks\": \"\"}, \"type\": \"choropleth\"}], \"contour\": [{\"colorbar\": {\"outlinewidth\": 0, \"ticks\": \"\"}, \"colorscale\": [[0.0, \"#0d0887\"], [0.1111111111111111, \"#46039f\"], [0.2222222222222222, \"#7201a8\"], [0.3333333333333333, \"#9c179e\"], [0.4444444444444444, \"#bd3786\"], [0.5555555555555556, \"#d8576b\"], [0.6666666666666666, \"#ed7953\"], [0.7777777777777778, \"#fb9f3a\"], [0.8888888888888888, \"#fdca26\"], [1.0, \"#f0f921\"]], \"type\": \"contour\"}], \"contourcarpet\": [{\"colorbar\": {\"outlinewidth\": 0, \"ticks\": \"\"}, \"type\": \"contourcarpet\"}], \"heatmap\": [{\"colorbar\": {\"outlinewidth\": 0, \"ticks\": \"\"}, \"colorscale\": [[0.0, \"#0d0887\"], [0.1111111111111111, \"#46039f\"], [0.2222222222222222, \"#7201a8\"], [0.3333333333333333, \"#9c179e\"], [0.4444444444444444, \"#bd3786\"], [0.5555555555555556, \"#d8576b\"], [0.6666666666666666, \"#ed7953\"], [0.7777777777777778, \"#fb9f3a\"], [0.8888888888888888, \"#fdca26\"], [1.0, \"#f0f921\"]], \"type\": \"heatmap\"}], \"heatmapgl\": [{\"colorbar\": {\"outlinewidth\": 0, \"ticks\": \"\"}, \"colorscale\": [[0.0, \"#0d0887\"], [0.1111111111111111, \"#46039f\"], [0.2222222222222222, \"#7201a8\"], [0.3333333333333333, \"#9c179e\"], [0.4444444444444444, \"#bd3786\"], [0.5555555555555556, \"#d8576b\"], [0.6666666666666666, \"#ed7953\"], [0.7777777777777778, \"#fb9f3a\"], [0.8888888888888888, \"#fdca26\"], [1.0, \"#f0f921\"]], \"type\": \"heatmapgl\"}], \"histogram\": [{\"marker\": {\"colorbar\": {\"outlinewidth\": 0, \"ticks\": \"\"}}, \"type\": \"histogram\"}], \"histogram2d\": [{\"colorbar\": {\"outlinewidth\": 0, \"ticks\": \"\"}, \"colorscale\": [[0.0, \"#0d0887\"], [0.1111111111111111, \"#46039f\"], [0.2222222222222222, \"#7201a8\"], [0.3333333333333333, \"#9c179e\"], [0.4444444444444444, \"#bd3786\"], [0.5555555555555556, \"#d8576b\"], [0.6666666666666666, \"#ed7953\"], [0.7777777777777778, \"#fb9f3a\"], [0.8888888888888888, \"#fdca26\"], [1.0, \"#f0f921\"]], \"type\": \"histogram2d\"}], \"histogram2dcontour\": [{\"colorbar\": {\"outlinewidth\": 0, \"ticks\": \"\"}, \"colorscale\": [[0.0, \"#0d0887\"], [0.1111111111111111, \"#46039f\"], [0.2222222222222222, \"#7201a8\"], [0.3333333333333333, \"#9c179e\"], [0.4444444444444444, \"#bd3786\"], [0.5555555555555556, \"#d8576b\"], [0.6666666666666666, \"#ed7953\"], [0.7777777777777778, \"#fb9f3a\"], [0.8888888888888888, \"#fdca26\"], [1.0, \"#f0f921\"]], \"type\": \"histogram2dcontour\"}], \"mesh3d\": [{\"colorbar\": {\"outlinewidth\": 0, \"ticks\": \"\"}, \"type\": \"mesh3d\"}], \"parcoords\": [{\"line\": {\"colorbar\": {\"outlinewidth\": 0, \"ticks\": \"\"}}, \"type\": \"parcoords\"}], \"pie\": [{\"automargin\": true, \"type\": \"pie\"}], \"scatter\": [{\"marker\": {\"colorbar\": {\"outlinewidth\": 0, \"ticks\": \"\"}}, \"type\": \"scatter\"}], \"scatter3d\": [{\"line\": {\"colorbar\": {\"outlinewidth\": 0, \"ticks\": \"\"}}, \"marker\": {\"colorbar\": {\"outlinewidth\": 0, \"ticks\": \"\"}}, \"type\": \"scatter3d\"}], \"scattercarpet\": [{\"marker\": {\"colorbar\": {\"outlinewidth\": 0, \"ticks\": \"\"}}, \"type\": \"scattercarpet\"}], \"scattergeo\": [{\"marker\": {\"colorbar\": {\"outlinewidth\": 0, \"ticks\": \"\"}}, \"type\": \"scattergeo\"}], \"scattergl\": [{\"marker\": {\"colorbar\": {\"outlinewidth\": 0, \"ticks\": \"\"}}, \"type\": \"scattergl\"}], \"scattermapbox\": [{\"marker\": {\"colorbar\": {\"outlinewidth\": 0, \"ticks\": \"\"}}, \"type\": \"scattermapbox\"}], \"scatterpolar\": [{\"marker\": {\"colorbar\": {\"outlinewidth\": 0, \"ticks\": \"\"}}, \"type\": \"scatterpolar\"}], \"scatterpolargl\": [{\"marker\": {\"colorbar\": {\"outlinewidth\": 0, \"ticks\": \"\"}}, \"type\": \"scatterpolargl\"}], \"scatterternary\": [{\"marker\": {\"colorbar\": {\"outlinewidth\": 0, \"ticks\": \"\"}}, \"type\": \"scatterternary\"}], \"surface\": [{\"colorbar\": {\"outlinewidth\": 0, \"ticks\": \"\"}, \"colorscale\": [[0.0, \"#0d0887\"], [0.1111111111111111, \"#46039f\"], [0.2222222222222222, \"#7201a8\"], [0.3333333333333333, \"#9c179e\"], [0.4444444444444444, \"#bd3786\"], [0.5555555555555556, \"#d8576b\"], [0.6666666666666666, \"#ed7953\"], [0.7777777777777778, \"#fb9f3a\"], [0.8888888888888888, \"#fdca26\"], [1.0, \"#f0f921\"]], \"type\": \"surface\"}], \"table\": [{\"cells\": {\"fill\": {\"color\": \"#EBF0F8\"}, \"line\": {\"color\": \"white\"}}, \"header\": {\"fill\": {\"color\": \"#C8D4E3\"}, \"line\": {\"color\": \"white\"}}, \"type\": \"table\"}]}, \"layout\": {\"annotationdefaults\": {\"arrowcolor\": \"#2a3f5f\", \"arrowhead\": 0, \"arrowwidth\": 1}, \"coloraxis\": {\"colorbar\": {\"outlinewidth\": 0, \"ticks\": \"\"}}, \"colorscale\": {\"diverging\": [[0, \"#8e0152\"], [0.1, \"#c51b7d\"], [0.2, \"#de77ae\"], [0.3, \"#f1b6da\"], [0.4, \"#fde0ef\"], [0.5, \"#f7f7f7\"], [0.6, \"#e6f5d0\"], [0.7, \"#b8e186\"], [0.8, \"#7fbc41\"], [0.9, \"#4d9221\"], [1, \"#276419\"]], \"sequential\": [[0.0, \"#0d0887\"], [0.1111111111111111, \"#46039f\"], [0.2222222222222222, \"#7201a8\"], [0.3333333333333333, \"#9c179e\"], [0.4444444444444444, \"#bd3786\"], [0.5555555555555556, \"#d8576b\"], [0.6666666666666666, \"#ed7953\"], [0.7777777777777778, \"#fb9f3a\"], [0.8888888888888888, \"#fdca26\"], [1.0, \"#f0f921\"]], \"sequentialminus\": [[0.0, \"#0d0887\"], [0.1111111111111111, \"#46039f\"], [0.2222222222222222, \"#7201a8\"], [0.3333333333333333, \"#9c179e\"], [0.4444444444444444, \"#bd3786\"], [0.5555555555555556, \"#d8576b\"], [0.6666666666666666, \"#ed7953\"], [0.7777777777777778, \"#fb9f3a\"], [0.8888888888888888, \"#fdca26\"], [1.0, \"#f0f921\"]]}, \"colorway\": [\"#636efa\", \"#EF553B\", \"#00cc96\", \"#ab63fa\", \"#FFA15A\", \"#19d3f3\", \"#FF6692\", \"#B6E880\", \"#FF97FF\", \"#FECB52\"], \"font\": {\"color\": \"#2a3f5f\"}, \"geo\": {\"bgcolor\": \"white\", \"lakecolor\": \"white\", \"landcolor\": \"#E5ECF6\", \"showlakes\": true, \"showland\": true, \"subunitcolor\": \"white\"}, \"hoverlabel\": {\"align\": \"left\"}, \"hovermode\": \"closest\", \"mapbox\": {\"style\": \"light\"}, \"paper_bgcolor\": \"white\", \"plot_bgcolor\": \"#E5ECF6\", \"polar\": {\"angularaxis\": {\"gridcolor\": \"white\", \"linecolor\": \"white\", \"ticks\": \"\"}, \"bgcolor\": \"#E5ECF6\", \"radialaxis\": {\"gridcolor\": \"white\", \"linecolor\": \"white\", \"ticks\": \"\"}}, \"scene\": {\"xaxis\": {\"backgroundcolor\": \"#E5ECF6\", \"gridcolor\": \"white\", \"gridwidth\": 2, \"linecolor\": \"white\", \"showbackground\": true, \"ticks\": \"\", \"zerolinecolor\": \"white\"}, \"yaxis\": {\"backgroundcolor\": \"#E5ECF6\", \"gridcolor\": \"white\", \"gridwidth\": 2, \"linecolor\": \"white\", \"showbackground\": true, \"ticks\": \"\", \"zerolinecolor\": \"white\"}, \"zaxis\": {\"backgroundcolor\": \"#E5ECF6\", \"gridcolor\": \"white\", \"gridwidth\": 2, \"linecolor\": \"white\", \"showbackground\": true, \"ticks\": \"\", \"zerolinecolor\": \"white\"}}, \"shapedefaults\": {\"line\": {\"color\": \"#2a3f5f\"}}, \"ternary\": {\"aaxis\": {\"gridcolor\": \"white\", \"linecolor\": \"white\", \"ticks\": \"\"}, \"baxis\": {\"gridcolor\": \"white\", \"linecolor\": \"white\", \"ticks\": \"\"}, \"bgcolor\": \"#E5ECF6\", \"caxis\": {\"gridcolor\": \"white\", \"linecolor\": \"white\", \"ticks\": \"\"}}, \"title\": {\"x\": 0.05}, \"xaxis\": {\"automargin\": true, \"gridcolor\": \"white\", \"linecolor\": \"white\", \"ticks\": \"\", \"title\": {\"standoff\": 15}, \"zerolinecolor\": \"white\", \"zerolinewidth\": 2}, \"yaxis\": {\"automargin\": true, \"gridcolor\": \"white\", \"linecolor\": \"white\", \"ticks\": \"\", \"title\": {\"standoff\": 15}, \"zerolinecolor\": \"white\", \"zerolinewidth\": 2}}}, \"title\": {\"font\": {\"size\": 26}, \"text\": \"Total number of publications per year in CP\", \"x\": 0, \"xanchor\": \"left\", \"y\": 0.9, \"yanchor\": \"top\"}, \"yaxis\": {\"title\": {\"text\": \"Number of publications\"}}},\n",
              "                        {\"responsive\": true}\n",
              "                    ).then(function(){\n",
              "                            \n",
              "var gd = document.getElementById('67dc76ed-24aa-42ab-ab08-8397d1dbdd8f');\n",
              "var x = new MutationObserver(function (mutations, observer) {{\n",
              "        var display = window.getComputedStyle(gd).display;\n",
              "        if (!display || display === 'none') {{\n",
              "            console.log([gd, 'removed!']);\n",
              "            Plotly.purge(gd);\n",
              "            observer.disconnect();\n",
              "        }}\n",
              "}});\n",
              "\n",
              "// Listen for the removal of the full notebook cells\n",
              "var notebookContainer = gd.closest('#notebook-container');\n",
              "if (notebookContainer) {{\n",
              "    x.observe(notebookContainer, {childList: true});\n",
              "}}\n",
              "\n",
              "// Listen for the clearing of the current output cell\n",
              "var outputEl = gd.closest('.output');\n",
              "if (outputEl) {{\n",
              "    x.observe(outputEl, {childList: true});\n",
              "}}\n",
              "\n",
              "                        })\n",
              "                };\n",
              "                \n",
              "            </script>\n",
              "        </div>\n",
              "</body>\n",
              "</html>"
            ]
          },
          "metadata": {
            "tags": []
          }
        }
      ]
    },
    {
      "cell_type": "code",
      "metadata": {
        "id": "IenOFhbuKA1F",
        "colab_type": "code",
        "cellView": "form",
        "colab": {
          "base_uri": "https://localhost:8080/",
          "height": 542
        },
        "outputId": "baf93221-0899-4c28-9ab4-4606f22c8fbd"
      },
      "source": [
        "#@title ##### Top 10 fields\n",
        "Year = \"2019\" #@param {type:\"string\"}\n",
        "Year = int(Year)\n",
        "d1 = data_fos_agg[data_fos_agg['Date'] == Year].sort_values('Publication_Count',ascending=False).head(10)\n",
        "d1 = d1.drop('Date',axis = 1)\n",
        "d2 = d1.set_index('Field_of_study')\n",
        "d2 = d2.sort_values('Publication_Count')\n",
        "fig = go.Figure([go.Bar(y=list(d2.index), x=d2['Publication_Count'],orientation='h')])\n",
        "fig.add_layout_image(\n",
        "    dict(\n",
        "        source=\"https://pbs.twimg.com/profile_images/928845333349543937/xzRkcN08.jpg\",\n",
        "        xref=\"paper\", yref=\"paper\",\n",
        "        x=-0.1, y=-0.26,\n",
        "        sizex=0.23, sizey=0.23,\n",
        "        xanchor=\"left\", yanchor=\"bottom\"\n",
        "    )\n",
        ")\n",
        "\n",
        "fig.update_layout(\n",
        "    title = {\n",
        "        'text': 'Top Fields at {} in {}'.format(Conference,Year),\n",
        "        'y':0.9,\n",
        "        'x':0,\n",
        "        'xanchor': 'left',\n",
        "        'yanchor': 'top'},\n",
        "        titlefont= {\n",
        "            \"size\": 30,\n",
        "            \n",
        "        },\n",
        "    yaxis_title = \"Fields\",\n",
        "    xaxis_title = \"Number of publications\"\n",
        ")\n",
        "fig.show()"
      ],
      "execution_count": null,
      "outputs": [
        {
          "output_type": "display_data",
          "data": {
            "text/html": [
              "<html>\n",
              "<head><meta charset=\"utf-8\" /></head>\n",
              "<body>\n",
              "    <div>\n",
              "            <script src=\"https://cdnjs.cloudflare.com/ajax/libs/mathjax/2.7.5/MathJax.js?config=TeX-AMS-MML_SVG\"></script><script type=\"text/javascript\">if (window.MathJax) {MathJax.Hub.Config({SVG: {font: \"STIX-Web\"}});}</script>\n",
              "                <script type=\"text/javascript\">window.PlotlyConfig = {MathJaxConfig: 'local'};</script>\n",
              "        <script src=\"https://cdn.plot.ly/plotly-latest.min.js\"></script>    \n",
              "            <div id=\"79ced249-8b3b-4785-8c88-de6a36769b26\" class=\"plotly-graph-div\" style=\"height:525px; width:100%;\"></div>\n",
              "            <script type=\"text/javascript\">\n",
              "                \n",
              "                    window.PLOTLYENV=window.PLOTLYENV || {};\n",
              "                    \n",
              "                if (document.getElementById(\"79ced249-8b3b-4785-8c88-de6a36769b26\")) {\n",
              "                    Plotly.newPlot(\n",
              "                        '79ced249-8b3b-4785-8c88-de6a36769b26',\n",
              "                        [{\"orientation\": \"h\", \"type\": \"bar\", \"x\": [], \"y\": []}],\n",
              "                        {\"images\": [{\"sizex\": 0.23, \"sizey\": 0.23, \"source\": \"https://pbs.twimg.com/profile_images/928845333349543937/xzRkcN08.jpg\", \"x\": -0.1, \"xanchor\": \"left\", \"xref\": \"paper\", \"y\": -0.26, \"yanchor\": \"bottom\", \"yref\": \"paper\"}], \"template\": {\"data\": {\"bar\": [{\"error_x\": {\"color\": \"#2a3f5f\"}, \"error_y\": {\"color\": \"#2a3f5f\"}, \"marker\": {\"line\": {\"color\": \"#E5ECF6\", \"width\": 0.5}}, \"type\": \"bar\"}], \"barpolar\": [{\"marker\": {\"line\": {\"color\": \"#E5ECF6\", \"width\": 0.5}}, \"type\": \"barpolar\"}], \"carpet\": [{\"aaxis\": {\"endlinecolor\": \"#2a3f5f\", \"gridcolor\": \"white\", \"linecolor\": \"white\", \"minorgridcolor\": \"white\", \"startlinecolor\": \"#2a3f5f\"}, \"baxis\": {\"endlinecolor\": \"#2a3f5f\", \"gridcolor\": \"white\", \"linecolor\": \"white\", \"minorgridcolor\": \"white\", \"startlinecolor\": \"#2a3f5f\"}, \"type\": \"carpet\"}], \"choropleth\": [{\"colorbar\": {\"outlinewidth\": 0, \"ticks\": \"\"}, \"type\": \"choropleth\"}], \"contour\": [{\"colorbar\": {\"outlinewidth\": 0, \"ticks\": \"\"}, \"colorscale\": [[0.0, \"#0d0887\"], [0.1111111111111111, \"#46039f\"], [0.2222222222222222, \"#7201a8\"], [0.3333333333333333, \"#9c179e\"], [0.4444444444444444, \"#bd3786\"], [0.5555555555555556, \"#d8576b\"], [0.6666666666666666, \"#ed7953\"], [0.7777777777777778, \"#fb9f3a\"], [0.8888888888888888, \"#fdca26\"], [1.0, \"#f0f921\"]], \"type\": \"contour\"}], \"contourcarpet\": [{\"colorbar\": {\"outlinewidth\": 0, \"ticks\": \"\"}, \"type\": \"contourcarpet\"}], \"heatmap\": [{\"colorbar\": {\"outlinewidth\": 0, \"ticks\": \"\"}, \"colorscale\": [[0.0, \"#0d0887\"], [0.1111111111111111, \"#46039f\"], [0.2222222222222222, \"#7201a8\"], [0.3333333333333333, \"#9c179e\"], [0.4444444444444444, \"#bd3786\"], [0.5555555555555556, \"#d8576b\"], [0.6666666666666666, \"#ed7953\"], [0.7777777777777778, \"#fb9f3a\"], [0.8888888888888888, \"#fdca26\"], [1.0, \"#f0f921\"]], \"type\": \"heatmap\"}], \"heatmapgl\": [{\"colorbar\": {\"outlinewidth\": 0, \"ticks\": \"\"}, \"colorscale\": [[0.0, \"#0d0887\"], [0.1111111111111111, \"#46039f\"], [0.2222222222222222, \"#7201a8\"], [0.3333333333333333, \"#9c179e\"], [0.4444444444444444, \"#bd3786\"], [0.5555555555555556, \"#d8576b\"], [0.6666666666666666, \"#ed7953\"], [0.7777777777777778, \"#fb9f3a\"], [0.8888888888888888, \"#fdca26\"], [1.0, \"#f0f921\"]], \"type\": \"heatmapgl\"}], \"histogram\": [{\"marker\": {\"colorbar\": {\"outlinewidth\": 0, \"ticks\": \"\"}}, \"type\": \"histogram\"}], \"histogram2d\": [{\"colorbar\": {\"outlinewidth\": 0, \"ticks\": \"\"}, \"colorscale\": [[0.0, \"#0d0887\"], [0.1111111111111111, \"#46039f\"], [0.2222222222222222, \"#7201a8\"], [0.3333333333333333, \"#9c179e\"], [0.4444444444444444, \"#bd3786\"], [0.5555555555555556, \"#d8576b\"], [0.6666666666666666, \"#ed7953\"], [0.7777777777777778, \"#fb9f3a\"], [0.8888888888888888, \"#fdca26\"], [1.0, \"#f0f921\"]], \"type\": \"histogram2d\"}], \"histogram2dcontour\": [{\"colorbar\": {\"outlinewidth\": 0, \"ticks\": \"\"}, \"colorscale\": [[0.0, \"#0d0887\"], [0.1111111111111111, \"#46039f\"], [0.2222222222222222, \"#7201a8\"], [0.3333333333333333, \"#9c179e\"], [0.4444444444444444, \"#bd3786\"], [0.5555555555555556, \"#d8576b\"], [0.6666666666666666, \"#ed7953\"], [0.7777777777777778, \"#fb9f3a\"], [0.8888888888888888, \"#fdca26\"], [1.0, \"#f0f921\"]], \"type\": \"histogram2dcontour\"}], \"mesh3d\": [{\"colorbar\": {\"outlinewidth\": 0, \"ticks\": \"\"}, \"type\": \"mesh3d\"}], \"parcoords\": [{\"line\": {\"colorbar\": {\"outlinewidth\": 0, \"ticks\": \"\"}}, \"type\": \"parcoords\"}], \"pie\": [{\"automargin\": true, \"type\": \"pie\"}], \"scatter\": [{\"marker\": {\"colorbar\": {\"outlinewidth\": 0, \"ticks\": \"\"}}, \"type\": \"scatter\"}], \"scatter3d\": [{\"line\": {\"colorbar\": {\"outlinewidth\": 0, \"ticks\": \"\"}}, \"marker\": {\"colorbar\": {\"outlinewidth\": 0, \"ticks\": \"\"}}, \"type\": \"scatter3d\"}], \"scattercarpet\": [{\"marker\": {\"colorbar\": {\"outlinewidth\": 0, \"ticks\": \"\"}}, \"type\": \"scattercarpet\"}], \"scattergeo\": [{\"marker\": {\"colorbar\": {\"outlinewidth\": 0, \"ticks\": \"\"}}, \"type\": \"scattergeo\"}], \"scattergl\": [{\"marker\": {\"colorbar\": {\"outlinewidth\": 0, \"ticks\": \"\"}}, \"type\": \"scattergl\"}], \"scattermapbox\": [{\"marker\": {\"colorbar\": {\"outlinewidth\": 0, \"ticks\": \"\"}}, \"type\": \"scattermapbox\"}], \"scatterpolar\": [{\"marker\": {\"colorbar\": {\"outlinewidth\": 0, \"ticks\": \"\"}}, \"type\": \"scatterpolar\"}], \"scatterpolargl\": [{\"marker\": {\"colorbar\": {\"outlinewidth\": 0, \"ticks\": \"\"}}, \"type\": \"scatterpolargl\"}], \"scatterternary\": [{\"marker\": {\"colorbar\": {\"outlinewidth\": 0, \"ticks\": \"\"}}, \"type\": \"scatterternary\"}], \"surface\": [{\"colorbar\": {\"outlinewidth\": 0, \"ticks\": \"\"}, \"colorscale\": [[0.0, \"#0d0887\"], [0.1111111111111111, \"#46039f\"], [0.2222222222222222, \"#7201a8\"], [0.3333333333333333, \"#9c179e\"], [0.4444444444444444, \"#bd3786\"], [0.5555555555555556, \"#d8576b\"], [0.6666666666666666, \"#ed7953\"], [0.7777777777777778, \"#fb9f3a\"], [0.8888888888888888, \"#fdca26\"], [1.0, \"#f0f921\"]], \"type\": \"surface\"}], \"table\": [{\"cells\": {\"fill\": {\"color\": \"#EBF0F8\"}, \"line\": {\"color\": \"white\"}}, \"header\": {\"fill\": {\"color\": \"#C8D4E3\"}, \"line\": {\"color\": \"white\"}}, \"type\": \"table\"}]}, \"layout\": {\"annotationdefaults\": {\"arrowcolor\": \"#2a3f5f\", \"arrowhead\": 0, \"arrowwidth\": 1}, \"coloraxis\": {\"colorbar\": {\"outlinewidth\": 0, \"ticks\": \"\"}}, \"colorscale\": {\"diverging\": [[0, \"#8e0152\"], [0.1, \"#c51b7d\"], [0.2, \"#de77ae\"], [0.3, \"#f1b6da\"], [0.4, \"#fde0ef\"], [0.5, \"#f7f7f7\"], [0.6, \"#e6f5d0\"], [0.7, \"#b8e186\"], [0.8, \"#7fbc41\"], [0.9, \"#4d9221\"], [1, \"#276419\"]], \"sequential\": [[0.0, \"#0d0887\"], [0.1111111111111111, \"#46039f\"], [0.2222222222222222, \"#7201a8\"], [0.3333333333333333, \"#9c179e\"], [0.4444444444444444, \"#bd3786\"], [0.5555555555555556, \"#d8576b\"], [0.6666666666666666, \"#ed7953\"], [0.7777777777777778, \"#fb9f3a\"], [0.8888888888888888, \"#fdca26\"], [1.0, \"#f0f921\"]], \"sequentialminus\": [[0.0, \"#0d0887\"], [0.1111111111111111, \"#46039f\"], [0.2222222222222222, \"#7201a8\"], [0.3333333333333333, \"#9c179e\"], [0.4444444444444444, \"#bd3786\"], [0.5555555555555556, \"#d8576b\"], [0.6666666666666666, \"#ed7953\"], [0.7777777777777778, \"#fb9f3a\"], [0.8888888888888888, \"#fdca26\"], [1.0, \"#f0f921\"]]}, \"colorway\": [\"#636efa\", \"#EF553B\", \"#00cc96\", \"#ab63fa\", \"#FFA15A\", \"#19d3f3\", \"#FF6692\", \"#B6E880\", \"#FF97FF\", \"#FECB52\"], \"font\": {\"color\": \"#2a3f5f\"}, \"geo\": {\"bgcolor\": \"white\", \"lakecolor\": \"white\", \"landcolor\": \"#E5ECF6\", \"showlakes\": true, \"showland\": true, \"subunitcolor\": \"white\"}, \"hoverlabel\": {\"align\": \"left\"}, \"hovermode\": \"closest\", \"mapbox\": {\"style\": \"light\"}, \"paper_bgcolor\": \"white\", \"plot_bgcolor\": \"#E5ECF6\", \"polar\": {\"angularaxis\": {\"gridcolor\": \"white\", \"linecolor\": \"white\", \"ticks\": \"\"}, \"bgcolor\": \"#E5ECF6\", \"radialaxis\": {\"gridcolor\": \"white\", \"linecolor\": \"white\", \"ticks\": \"\"}}, \"scene\": {\"xaxis\": {\"backgroundcolor\": \"#E5ECF6\", \"gridcolor\": \"white\", \"gridwidth\": 2, \"linecolor\": \"white\", \"showbackground\": true, \"ticks\": \"\", \"zerolinecolor\": \"white\"}, \"yaxis\": {\"backgroundcolor\": \"#E5ECF6\", \"gridcolor\": \"white\", \"gridwidth\": 2, \"linecolor\": \"white\", \"showbackground\": true, \"ticks\": \"\", \"zerolinecolor\": \"white\"}, \"zaxis\": {\"backgroundcolor\": \"#E5ECF6\", \"gridcolor\": \"white\", \"gridwidth\": 2, \"linecolor\": \"white\", \"showbackground\": true, \"ticks\": \"\", \"zerolinecolor\": \"white\"}}, \"shapedefaults\": {\"line\": {\"color\": \"#2a3f5f\"}}, \"ternary\": {\"aaxis\": {\"gridcolor\": \"white\", \"linecolor\": \"white\", \"ticks\": \"\"}, \"baxis\": {\"gridcolor\": \"white\", \"linecolor\": \"white\", \"ticks\": \"\"}, \"bgcolor\": \"#E5ECF6\", \"caxis\": {\"gridcolor\": \"white\", \"linecolor\": \"white\", \"ticks\": \"\"}}, \"title\": {\"x\": 0.05}, \"xaxis\": {\"automargin\": true, \"gridcolor\": \"white\", \"linecolor\": \"white\", \"ticks\": \"\", \"title\": {\"standoff\": 15}, \"zerolinecolor\": \"white\", \"zerolinewidth\": 2}, \"yaxis\": {\"automargin\": true, \"gridcolor\": \"white\", \"linecolor\": \"white\", \"ticks\": \"\", \"title\": {\"standoff\": 15}, \"zerolinecolor\": \"white\", \"zerolinewidth\": 2}}}, \"title\": {\"font\": {\"size\": 30}, \"text\": \"Top Fields at ICAPS in 2019\", \"x\": 0, \"xanchor\": \"left\", \"y\": 0.9, \"yanchor\": \"top\"}, \"xaxis\": {\"title\": {\"text\": \"Number of publications\"}}, \"yaxis\": {\"title\": {\"text\": \"Fields\"}}},\n",
              "                        {\"responsive\": true}\n",
              "                    ).then(function(){\n",
              "                            \n",
              "var gd = document.getElementById('79ced249-8b3b-4785-8c88-de6a36769b26');\n",
              "var x = new MutationObserver(function (mutations, observer) {{\n",
              "        var display = window.getComputedStyle(gd).display;\n",
              "        if (!display || display === 'none') {{\n",
              "            console.log([gd, 'removed!']);\n",
              "            Plotly.purge(gd);\n",
              "            observer.disconnect();\n",
              "        }}\n",
              "}});\n",
              "\n",
              "// Listen for the removal of the full notebook cells\n",
              "var notebookContainer = gd.closest('#notebook-container');\n",
              "if (notebookContainer) {{\n",
              "    x.observe(notebookContainer, {childList: true});\n",
              "}}\n",
              "\n",
              "// Listen for the clearing of the current output cell\n",
              "var outputEl = gd.closest('.output');\n",
              "if (outputEl) {{\n",
              "    x.observe(outputEl, {childList: true});\n",
              "}}\n",
              "\n",
              "                        })\n",
              "                };\n",
              "                \n",
              "            </script>\n",
              "        </div>\n",
              "</body>\n",
              "</html>"
            ]
          },
          "metadata": {
            "tags": []
          }
        }
      ]
    },
    {
      "cell_type": "code",
      "metadata": {
        "id": "kGi1RnkGKAzN",
        "colab_type": "code",
        "cellView": "form",
        "colab": {
          "base_uri": "https://localhost:8080/",
          "height": 542
        },
        "outputId": "4246f95c-b00f-4d6c-f581-671ff677a4fa"
      },
      "source": [
        "#@title ##### Top 10 Affiliations\n",
        "Year = \"2019\" #@param {type:\"string\"}\n",
        "Year = int(Year) \n",
        "d1 = data1[data1['Date'] == Year]\n",
        "d1 = d1.drop('Date',axis=1)\n",
        "d1 = d1.groupby('Affiliation').agg('count')\n",
        "d2 = d1.reset_index().rename(columns={'Conference':'Publication_Count'}).sort_values('Publication_Count',ascending=False).head(10).sort_values('Publication_Count')\n",
        "d2 = d2.set_index('Affiliation')\n",
        "fig = go.Figure([go.Bar(y=list(d2.index), x=d2['Publication_Count'], orientation='h')])\n",
        "fig.add_layout_image(\n",
        "    dict(\n",
        "        source=\"https://pbs.twimg.com/profile_images/928845333349543937/xzRkcN08.jpg\",\n",
        "        xref=\"paper\", yref=\"paper\",\n",
        "        x=-0.1, y=-0.26,\n",
        "        sizex=0.23, sizey=0.23,\n",
        "        xanchor=\"left\", yanchor=\"bottom\"\n",
        "    )\n",
        ")\n",
        "\n",
        "fig.update_layout(\n",
        "    title = {\n",
        "        'text': 'Top Affiliations at {} in {}'.format(Conference,Year),\n",
        "        'y':0.9,\n",
        "        'x':0,\n",
        "        'xanchor': 'left',\n",
        "        'yanchor': 'top'},\n",
        "        titlefont= {\n",
        "            \"size\": 30,\n",
        "            \n",
        "        },\n",
        "    yaxis_title = \"Affiliations\",\n",
        "    xaxis_title = \"Number of publications\"\n",
        ")\n",
        "fig.show()"
      ],
      "execution_count": null,
      "outputs": [
        {
          "output_type": "display_data",
          "data": {
            "text/html": [
              "<html>\n",
              "<head><meta charset=\"utf-8\" /></head>\n",
              "<body>\n",
              "    <div>\n",
              "            <script src=\"https://cdnjs.cloudflare.com/ajax/libs/mathjax/2.7.5/MathJax.js?config=TeX-AMS-MML_SVG\"></script><script type=\"text/javascript\">if (window.MathJax) {MathJax.Hub.Config({SVG: {font: \"STIX-Web\"}});}</script>\n",
              "                <script type=\"text/javascript\">window.PlotlyConfig = {MathJaxConfig: 'local'};</script>\n",
              "        <script src=\"https://cdn.plot.ly/plotly-latest.min.js\"></script>    \n",
              "            <div id=\"6dcd92ef-3744-4426-b7f6-bdc3f8b6e72b\" class=\"plotly-graph-div\" style=\"height:525px; width:100%;\"></div>\n",
              "            <script type=\"text/javascript\">\n",
              "                \n",
              "                    window.PLOTLYENV=window.PLOTLYENV || {};\n",
              "                    \n",
              "                if (document.getElementById(\"6dcd92ef-3744-4426-b7f6-bdc3f8b6e72b\")) {\n",
              "                    Plotly.newPlot(\n",
              "                        '6dcd92ef-3744-4426-b7f6-bdc3f8b6e72b',\n",
              "                        [{\"orientation\": \"h\", \"type\": \"bar\", \"x\": [10, 10, 10, 10, 10, 12, 13, 13, 17, 30], \"y\": [\"Peking University\", \"Peking Union Medical College Hospital\", \"Nanjing Medical University\", \"Jilin University\", \"Sacred Heart Hospital\", \"University of St Andrews\", \"Fudan University\", \"Sungkyunkwan University\", \"Kindai University\", \"Yogyakarta State University\"]}],\n",
              "                        {\"images\": [{\"sizex\": 0.23, \"sizey\": 0.23, \"source\": \"https://pbs.twimg.com/profile_images/928845333349543937/xzRkcN08.jpg\", \"x\": -0.1, \"xanchor\": \"left\", \"xref\": \"paper\", \"y\": -0.26, \"yanchor\": \"bottom\", \"yref\": \"paper\"}], \"template\": {\"data\": {\"bar\": [{\"error_x\": {\"color\": \"#2a3f5f\"}, \"error_y\": {\"color\": \"#2a3f5f\"}, \"marker\": {\"line\": {\"color\": \"#E5ECF6\", \"width\": 0.5}}, \"type\": \"bar\"}], \"barpolar\": [{\"marker\": {\"line\": {\"color\": \"#E5ECF6\", \"width\": 0.5}}, \"type\": \"barpolar\"}], \"carpet\": [{\"aaxis\": {\"endlinecolor\": \"#2a3f5f\", \"gridcolor\": \"white\", \"linecolor\": \"white\", \"minorgridcolor\": \"white\", \"startlinecolor\": \"#2a3f5f\"}, \"baxis\": {\"endlinecolor\": \"#2a3f5f\", \"gridcolor\": \"white\", \"linecolor\": \"white\", \"minorgridcolor\": \"white\", \"startlinecolor\": \"#2a3f5f\"}, \"type\": \"carpet\"}], \"choropleth\": [{\"colorbar\": {\"outlinewidth\": 0, \"ticks\": \"\"}, \"type\": \"choropleth\"}], \"contour\": [{\"colorbar\": {\"outlinewidth\": 0, \"ticks\": \"\"}, \"colorscale\": [[0.0, \"#0d0887\"], [0.1111111111111111, \"#46039f\"], [0.2222222222222222, \"#7201a8\"], [0.3333333333333333, \"#9c179e\"], [0.4444444444444444, \"#bd3786\"], [0.5555555555555556, \"#d8576b\"], [0.6666666666666666, \"#ed7953\"], [0.7777777777777778, \"#fb9f3a\"], [0.8888888888888888, \"#fdca26\"], [1.0, \"#f0f921\"]], \"type\": \"contour\"}], \"contourcarpet\": [{\"colorbar\": {\"outlinewidth\": 0, \"ticks\": \"\"}, \"type\": \"contourcarpet\"}], \"heatmap\": [{\"colorbar\": {\"outlinewidth\": 0, \"ticks\": \"\"}, \"colorscale\": [[0.0, \"#0d0887\"], [0.1111111111111111, \"#46039f\"], [0.2222222222222222, \"#7201a8\"], [0.3333333333333333, \"#9c179e\"], [0.4444444444444444, \"#bd3786\"], [0.5555555555555556, \"#d8576b\"], [0.6666666666666666, \"#ed7953\"], [0.7777777777777778, \"#fb9f3a\"], [0.8888888888888888, \"#fdca26\"], [1.0, \"#f0f921\"]], \"type\": \"heatmap\"}], \"heatmapgl\": [{\"colorbar\": {\"outlinewidth\": 0, \"ticks\": \"\"}, \"colorscale\": [[0.0, \"#0d0887\"], [0.1111111111111111, \"#46039f\"], [0.2222222222222222, \"#7201a8\"], [0.3333333333333333, \"#9c179e\"], [0.4444444444444444, \"#bd3786\"], [0.5555555555555556, \"#d8576b\"], [0.6666666666666666, \"#ed7953\"], [0.7777777777777778, \"#fb9f3a\"], [0.8888888888888888, \"#fdca26\"], [1.0, \"#f0f921\"]], \"type\": \"heatmapgl\"}], \"histogram\": [{\"marker\": {\"colorbar\": {\"outlinewidth\": 0, \"ticks\": \"\"}}, \"type\": \"histogram\"}], \"histogram2d\": [{\"colorbar\": {\"outlinewidth\": 0, \"ticks\": \"\"}, \"colorscale\": [[0.0, \"#0d0887\"], [0.1111111111111111, \"#46039f\"], [0.2222222222222222, \"#7201a8\"], [0.3333333333333333, \"#9c179e\"], [0.4444444444444444, \"#bd3786\"], [0.5555555555555556, \"#d8576b\"], [0.6666666666666666, \"#ed7953\"], [0.7777777777777778, \"#fb9f3a\"], [0.8888888888888888, \"#fdca26\"], [1.0, \"#f0f921\"]], \"type\": \"histogram2d\"}], \"histogram2dcontour\": [{\"colorbar\": {\"outlinewidth\": 0, \"ticks\": \"\"}, \"colorscale\": [[0.0, \"#0d0887\"], [0.1111111111111111, \"#46039f\"], [0.2222222222222222, \"#7201a8\"], [0.3333333333333333, \"#9c179e\"], [0.4444444444444444, \"#bd3786\"], [0.5555555555555556, \"#d8576b\"], [0.6666666666666666, \"#ed7953\"], [0.7777777777777778, \"#fb9f3a\"], [0.8888888888888888, \"#fdca26\"], [1.0, \"#f0f921\"]], \"type\": \"histogram2dcontour\"}], \"mesh3d\": [{\"colorbar\": {\"outlinewidth\": 0, \"ticks\": \"\"}, \"type\": \"mesh3d\"}], \"parcoords\": [{\"line\": {\"colorbar\": {\"outlinewidth\": 0, \"ticks\": \"\"}}, \"type\": \"parcoords\"}], \"pie\": [{\"automargin\": true, \"type\": \"pie\"}], \"scatter\": [{\"marker\": {\"colorbar\": {\"outlinewidth\": 0, \"ticks\": \"\"}}, \"type\": \"scatter\"}], \"scatter3d\": [{\"line\": {\"colorbar\": {\"outlinewidth\": 0, \"ticks\": \"\"}}, \"marker\": {\"colorbar\": {\"outlinewidth\": 0, \"ticks\": \"\"}}, \"type\": \"scatter3d\"}], \"scattercarpet\": [{\"marker\": {\"colorbar\": {\"outlinewidth\": 0, \"ticks\": \"\"}}, \"type\": \"scattercarpet\"}], \"scattergeo\": [{\"marker\": {\"colorbar\": {\"outlinewidth\": 0, \"ticks\": \"\"}}, \"type\": \"scattergeo\"}], \"scattergl\": [{\"marker\": {\"colorbar\": {\"outlinewidth\": 0, \"ticks\": \"\"}}, \"type\": \"scattergl\"}], \"scattermapbox\": [{\"marker\": {\"colorbar\": {\"outlinewidth\": 0, \"ticks\": \"\"}}, \"type\": \"scattermapbox\"}], \"scatterpolar\": [{\"marker\": {\"colorbar\": {\"outlinewidth\": 0, \"ticks\": \"\"}}, \"type\": \"scatterpolar\"}], \"scatterpolargl\": [{\"marker\": {\"colorbar\": {\"outlinewidth\": 0, \"ticks\": \"\"}}, \"type\": \"scatterpolargl\"}], \"scatterternary\": [{\"marker\": {\"colorbar\": {\"outlinewidth\": 0, \"ticks\": \"\"}}, \"type\": \"scatterternary\"}], \"surface\": [{\"colorbar\": {\"outlinewidth\": 0, \"ticks\": \"\"}, \"colorscale\": [[0.0, \"#0d0887\"], [0.1111111111111111, \"#46039f\"], [0.2222222222222222, \"#7201a8\"], [0.3333333333333333, \"#9c179e\"], [0.4444444444444444, \"#bd3786\"], [0.5555555555555556, \"#d8576b\"], [0.6666666666666666, \"#ed7953\"], [0.7777777777777778, \"#fb9f3a\"], [0.8888888888888888, \"#fdca26\"], [1.0, \"#f0f921\"]], \"type\": \"surface\"}], \"table\": [{\"cells\": {\"fill\": {\"color\": \"#EBF0F8\"}, \"line\": {\"color\": \"white\"}}, \"header\": {\"fill\": {\"color\": \"#C8D4E3\"}, \"line\": {\"color\": \"white\"}}, \"type\": \"table\"}]}, \"layout\": {\"annotationdefaults\": {\"arrowcolor\": \"#2a3f5f\", \"arrowhead\": 0, \"arrowwidth\": 1}, \"coloraxis\": {\"colorbar\": {\"outlinewidth\": 0, \"ticks\": \"\"}}, \"colorscale\": {\"diverging\": [[0, \"#8e0152\"], [0.1, \"#c51b7d\"], [0.2, \"#de77ae\"], [0.3, \"#f1b6da\"], [0.4, \"#fde0ef\"], [0.5, \"#f7f7f7\"], [0.6, \"#e6f5d0\"], [0.7, \"#b8e186\"], [0.8, \"#7fbc41\"], [0.9, \"#4d9221\"], [1, \"#276419\"]], \"sequential\": [[0.0, \"#0d0887\"], [0.1111111111111111, \"#46039f\"], [0.2222222222222222, \"#7201a8\"], [0.3333333333333333, \"#9c179e\"], [0.4444444444444444, \"#bd3786\"], [0.5555555555555556, \"#d8576b\"], [0.6666666666666666, \"#ed7953\"], [0.7777777777777778, \"#fb9f3a\"], [0.8888888888888888, \"#fdca26\"], [1.0, \"#f0f921\"]], \"sequentialminus\": [[0.0, \"#0d0887\"], [0.1111111111111111, \"#46039f\"], [0.2222222222222222, \"#7201a8\"], [0.3333333333333333, \"#9c179e\"], [0.4444444444444444, \"#bd3786\"], [0.5555555555555556, \"#d8576b\"], [0.6666666666666666, \"#ed7953\"], [0.7777777777777778, \"#fb9f3a\"], [0.8888888888888888, \"#fdca26\"], [1.0, \"#f0f921\"]]}, \"colorway\": [\"#636efa\", \"#EF553B\", \"#00cc96\", \"#ab63fa\", \"#FFA15A\", \"#19d3f3\", \"#FF6692\", \"#B6E880\", \"#FF97FF\", \"#FECB52\"], \"font\": {\"color\": \"#2a3f5f\"}, \"geo\": {\"bgcolor\": \"white\", \"lakecolor\": \"white\", \"landcolor\": \"#E5ECF6\", \"showlakes\": true, \"showland\": true, \"subunitcolor\": \"white\"}, \"hoverlabel\": {\"align\": \"left\"}, \"hovermode\": \"closest\", \"mapbox\": {\"style\": \"light\"}, \"paper_bgcolor\": \"white\", \"plot_bgcolor\": \"#E5ECF6\", \"polar\": {\"angularaxis\": {\"gridcolor\": \"white\", \"linecolor\": \"white\", \"ticks\": \"\"}, \"bgcolor\": \"#E5ECF6\", \"radialaxis\": {\"gridcolor\": \"white\", \"linecolor\": \"white\", \"ticks\": \"\"}}, \"scene\": {\"xaxis\": {\"backgroundcolor\": \"#E5ECF6\", \"gridcolor\": \"white\", \"gridwidth\": 2, \"linecolor\": \"white\", \"showbackground\": true, \"ticks\": \"\", \"zerolinecolor\": \"white\"}, \"yaxis\": {\"backgroundcolor\": \"#E5ECF6\", \"gridcolor\": \"white\", \"gridwidth\": 2, \"linecolor\": \"white\", \"showbackground\": true, \"ticks\": \"\", \"zerolinecolor\": \"white\"}, \"zaxis\": {\"backgroundcolor\": \"#E5ECF6\", \"gridcolor\": \"white\", \"gridwidth\": 2, \"linecolor\": \"white\", \"showbackground\": true, \"ticks\": \"\", \"zerolinecolor\": \"white\"}}, \"shapedefaults\": {\"line\": {\"color\": \"#2a3f5f\"}}, \"ternary\": {\"aaxis\": {\"gridcolor\": \"white\", \"linecolor\": \"white\", \"ticks\": \"\"}, \"baxis\": {\"gridcolor\": \"white\", \"linecolor\": \"white\", \"ticks\": \"\"}, \"bgcolor\": \"#E5ECF6\", \"caxis\": {\"gridcolor\": \"white\", \"linecolor\": \"white\", \"ticks\": \"\"}}, \"title\": {\"x\": 0.05}, \"xaxis\": {\"automargin\": true, \"gridcolor\": \"white\", \"linecolor\": \"white\", \"ticks\": \"\", \"title\": {\"standoff\": 15}, \"zerolinecolor\": \"white\", \"zerolinewidth\": 2}, \"yaxis\": {\"automargin\": true, \"gridcolor\": \"white\", \"linecolor\": \"white\", \"ticks\": \"\", \"title\": {\"standoff\": 15}, \"zerolinecolor\": \"white\", \"zerolinewidth\": 2}}}, \"title\": {\"font\": {\"size\": 30}, \"text\": \"Top Affiliations at CP in 2019\", \"x\": 0, \"xanchor\": \"left\", \"y\": 0.9, \"yanchor\": \"top\"}, \"xaxis\": {\"title\": {\"text\": \"Number of publications\"}}, \"yaxis\": {\"title\": {\"text\": \"Affiliations\"}}},\n",
              "                        {\"responsive\": true}\n",
              "                    ).then(function(){\n",
              "                            \n",
              "var gd = document.getElementById('6dcd92ef-3744-4426-b7f6-bdc3f8b6e72b');\n",
              "var x = new MutationObserver(function (mutations, observer) {{\n",
              "        var display = window.getComputedStyle(gd).display;\n",
              "        if (!display || display === 'none') {{\n",
              "            console.log([gd, 'removed!']);\n",
              "            Plotly.purge(gd);\n",
              "            observer.disconnect();\n",
              "        }}\n",
              "}});\n",
              "\n",
              "// Listen for the removal of the full notebook cells\n",
              "var notebookContainer = gd.closest('#notebook-container');\n",
              "if (notebookContainer) {{\n",
              "    x.observe(notebookContainer, {childList: true});\n",
              "}}\n",
              "\n",
              "// Listen for the clearing of the current output cell\n",
              "var outputEl = gd.closest('.output');\n",
              "if (outputEl) {{\n",
              "    x.observe(outputEl, {childList: true});\n",
              "}}\n",
              "\n",
              "                        })\n",
              "                };\n",
              "                \n",
              "            </script>\n",
              "        </div>\n",
              "</body>\n",
              "</html>"
            ]
          },
          "metadata": {
            "tags": []
          }
        }
      ]
    },
    {
      "cell_type": "code",
      "metadata": {
        "id": "LOjQqHDDru-7",
        "colab_type": "code",
        "cellView": "form",
        "colab": {
          "base_uri": "https://localhost:8080/",
          "height": 662
        },
        "outputId": "fab3391b-b10c-459c-fadc-0e7fb2bd9820"
      },
      "source": [
        "#@title ##### Top Fields\n",
        "Year = \"2018\" #@param {type:\"string\"}\n",
        "Year = int(Year)\n",
        "# t = data_fos_agg.groupby(['Date','Field_of_study']).agg('sum')\n",
        "t = data_fos_agg\n",
        "t1 = t[t['Date'] == Year].sort_values('Publication_Count',ascending=False).head(10)\n",
        "t1 = t1[['Field_of_study','Publication_Count']]\n",
        "color_list = ['#0f7216', '#b2790c', '#ffe9a3',\n",
        "              '#f9d4d4', '#d35158', '#ea3033']\n",
        "plt.figure(figsize=(30,12))\n",
        "plt.rc('font', size=15)\n",
        "squarify.plot(sizes=t1['Publication_Count'], label=t1['Field_of_study'],\n",
        "              color=color_list, alpha=0.7)\n",
        "plt.axis('on')\n",
        "plt.title(f'Top Fields in {Year} at {Conference}')\n",
        "plt.show()"
      ],
      "execution_count": null,
      "outputs": [
        {
          "output_type": "display_data",
          "data": {
            "image/png": "[encoded data removed]",
            "text/plain": [
              "<Figure size 2160x864 with 1 Axes>"
            ]
          },
          "metadata": {
            "tags": [],
            "needs_background": "light"
          }
        }
      ]
    },
    {
      "cell_type": "code",
      "metadata": {
        "id": "fQDWWlkI_IYh",
        "colab_type": "code",
        "cellView": "form",
        "colab": {
          "base_uri": "https://localhost:8080/",
          "height": 810
        },
        "outputId": "6507d13d-d302-4ed7-9e98-f20361f0e2c4"
      },
      "source": [
        "#@title ##### Top 10 Affiliations \n",
        "\n",
        "Year = \"2019\" #@param {type:\"string\"}\n",
        "Year = int(Year)\n",
        "d1 = data1[data1['Date'] == Year]\n",
        "d1 = d1.drop('Date',axis=1)\n",
        "d1 = d1.groupby('Affiliation').agg('count')\n",
        "d2 = d1.reset_index().rename(columns={'Conference':'Publication_Count'}).sort_values('Publication_Count',ascending=False).head(10).sort_values('Publication_Count')\n",
        "\n",
        "color_list = ['#0f7216', '#b2790c', '#ffe9a3',\n",
        "              '#f9d4d4', '#d35158', '#ea3033']\n",
        "plt.figure(figsize=(30,15))\n",
        "plt.rc('font', size=12)\n",
        "squarify.plot(sizes=d2['Publication_Count'], label=d2['Affiliation'],\n",
        "              color=color_list, alpha=0.7)\n",
        "plt.axis('on')\n",
        "plt.title(f'Top Affiliations in {Year} at {Conference}')\n",
        "plt.show()"
      ],
      "execution_count": null,
      "outputs": [
        {
          "output_type": "display_data",
          "data": {
            "image/png": "[encoded data removed]",
            "text/plain": [
              "<Figure size 2160x1080 with 1 Axes>"
            ]
          },
          "metadata": {
            "tags": [],
            "needs_background": "light"
          }
        }
      ]
    },
    {
      "cell_type": "code",
      "metadata": {
        "id": "PLFIv-PUkPf6",
        "colab_type": "code",
        "cellView": "form",
        "colab": {
          "base_uri": "https://localhost:8080/",
          "height": 542
        },
        "outputId": "d4375c2c-3c07-4343-8bdc-a3f0e4141fa0"
      },
      "source": [
        "#@title ##### Growth Chart of publications\n",
        "Year = \"2010\" #@param {type:\"string\"}\n",
        "Year = int(Year)\n",
        "d_i = data.groupby(data.index.year).agg('sum')\n",
        "d_i = d_i.reset_index()\n",
        "index = int(d_i[d_i['Date']==Year]['Publication_Count'])\n",
        "d_i = d_i[d_i['Date']>=Year]\n",
        "d_i = d_i[d_i['Date']<2020]\n",
        "year = list(d_i['Date'])\n",
        "a = {year[0]:1}\n",
        "for i in range(1,len(year)):\n",
        "  a[year[i]] = (((int(d_i[d_i['Date']==year[i]]['Publication_Count'])/ index) - 1) * 1)+1\n",
        "a = pd.DataFrame(a.items(), columns=['Date', 'Publication_Count'])\n",
        "fig = go.Figure()\n",
        "button_layer_1_height = 1.08\n",
        "fig.add_layout_image(\n",
        "    dict(\n",
        "        source=\"https://pbs.twimg.com/profile_images/928845333349543937/xzRkcN08.jpg\",\n",
        "        xref=\"paper\", yref=\"paper\",\n",
        "        x=-0.08, y=-0.36,\n",
        "        sizex=0.25, sizey=0.25,\n",
        "        xanchor=\"left\", yanchor=\"bottom\"\n",
        "    )\n",
        ")\n",
        "fig.add_trace(go.Scatter(x=a['Date'], y=a['Publication_Count'], \n",
        "                        hovertext=a['Publication_Count']))\n",
        "\n",
        "fig.update_layout(\n",
        "    title = {\n",
        "        'text':f'Growth in {Conference} papers',\n",
        "        'y':0.9,\n",
        "        'x':0,\n",
        "        'xanchor': 'left',\n",
        "        'yanchor': 'top'\n",
        "        },\n",
        "        titlefont = {\n",
        "            \"size\": 30,    \n",
        "        },\n",
        "        xaxis_rangeslider_visible=True, \n",
        " \n",
        "        yaxis_title='Publications')\n",
        "fig.show()"
      ],
      "execution_count": null,
      "outputs": [
        {
          "output_type": "display_data",
          "data": {
            "text/html": [
              "<html>\n",
              "<head><meta charset=\"utf-8\" /></head>\n",
              "<body>\n",
              "    <div>\n",
              "            <script src=\"https://cdnjs.cloudflare.com/ajax/libs/mathjax/2.7.5/MathJax.js?config=TeX-AMS-MML_SVG\"></script><script type=\"text/javascript\">if (window.MathJax) {MathJax.Hub.Config({SVG: {font: \"STIX-Web\"}});}</script>\n",
              "                <script type=\"text/javascript\">window.PlotlyConfig = {MathJaxConfig: 'local'};</script>\n",
              "        <script src=\"https://cdn.plot.ly/plotly-latest.min.js\"></script>    \n",
              "            <div id=\"3aa80a52-cea6-46c9-83c4-4d02076a0f62\" class=\"plotly-graph-div\" style=\"height:525px; width:100%;\"></div>\n",
              "            <script type=\"text/javascript\">\n",
              "                \n",
              "                    window.PLOTLYENV=window.PLOTLYENV || {};\n",
              "                    \n",
              "                if (document.getElementById(\"3aa80a52-cea6-46c9-83c4-4d02076a0f62\")) {\n",
              "                    Plotly.newPlot(\n",
              "                        '3aa80a52-cea6-46c9-83c4-4d02076a0f62',\n",
              "                        [{\"hovertext\": [1.0, 0.7840236686390533, 1.0591715976331362, 2.201183431952663, 1.0976331360946745, 0.8372781065088757, 0.9881656804733728, 0.7840236686390533, 0.5798816568047337, 0.7366863905325444], \"type\": \"scatter\", \"x\": [2010, 2011, 2012, 2013, 2014, 2015, 2016, 2017, 2018, 2019], \"y\": [1.0, 0.7840236686390533, 1.0591715976331362, 2.201183431952663, 1.0976331360946745, 0.8372781065088757, 0.9881656804733728, 0.7840236686390533, 0.5798816568047337, 0.7366863905325444]}],\n",
              "                        {\"images\": [{\"sizex\": 0.25, \"sizey\": 0.25, \"source\": \"https://pbs.twimg.com/profile_images/928845333349543937/xzRkcN08.jpg\", \"x\": -0.08, \"xanchor\": \"left\", \"xref\": \"paper\", \"y\": -0.36, \"yanchor\": \"bottom\", \"yref\": \"paper\"}], \"template\": {\"data\": {\"bar\": [{\"error_x\": {\"color\": \"#2a3f5f\"}, \"error_y\": {\"color\": \"#2a3f5f\"}, \"marker\": {\"line\": {\"color\": \"#E5ECF6\", \"width\": 0.5}}, \"type\": \"bar\"}], \"barpolar\": [{\"marker\": {\"line\": {\"color\": \"#E5ECF6\", \"width\": 0.5}}, \"type\": \"barpolar\"}], \"carpet\": [{\"aaxis\": {\"endlinecolor\": \"#2a3f5f\", \"gridcolor\": \"white\", \"linecolor\": \"white\", \"minorgridcolor\": \"white\", \"startlinecolor\": \"#2a3f5f\"}, \"baxis\": {\"endlinecolor\": \"#2a3f5f\", \"gridcolor\": \"white\", \"linecolor\": \"white\", \"minorgridcolor\": \"white\", \"startlinecolor\": \"#2a3f5f\"}, \"type\": \"carpet\"}], \"choropleth\": [{\"colorbar\": {\"outlinewidth\": 0, \"ticks\": \"\"}, \"type\": \"choropleth\"}], \"contour\": [{\"colorbar\": {\"outlinewidth\": 0, \"ticks\": \"\"}, \"colorscale\": [[0.0, \"#0d0887\"], [0.1111111111111111, \"#46039f\"], [0.2222222222222222, \"#7201a8\"], [0.3333333333333333, \"#9c179e\"], [0.4444444444444444, \"#bd3786\"], [0.5555555555555556, \"#d8576b\"], [0.6666666666666666, \"#ed7953\"], [0.7777777777777778, \"#fb9f3a\"], [0.8888888888888888, \"#fdca26\"], [1.0, \"#f0f921\"]], \"type\": \"contour\"}], \"contourcarpet\": [{\"colorbar\": {\"outlinewidth\": 0, \"ticks\": \"\"}, \"type\": \"contourcarpet\"}], \"heatmap\": [{\"colorbar\": {\"outlinewidth\": 0, \"ticks\": \"\"}, \"colorscale\": [[0.0, \"#0d0887\"], [0.1111111111111111, \"#46039f\"], [0.2222222222222222, \"#7201a8\"], [0.3333333333333333, \"#9c179e\"], [0.4444444444444444, \"#bd3786\"], [0.5555555555555556, \"#d8576b\"], [0.6666666666666666, \"#ed7953\"], [0.7777777777777778, \"#fb9f3a\"], [0.8888888888888888, \"#fdca26\"], [1.0, \"#f0f921\"]], \"type\": \"heatmap\"}], \"heatmapgl\": [{\"colorbar\": {\"outlinewidth\": 0, \"ticks\": \"\"}, \"colorscale\": [[0.0, \"#0d0887\"], [0.1111111111111111, \"#46039f\"], [0.2222222222222222, \"#7201a8\"], [0.3333333333333333, \"#9c179e\"], [0.4444444444444444, \"#bd3786\"], [0.5555555555555556, \"#d8576b\"], [0.6666666666666666, \"#ed7953\"], [0.7777777777777778, \"#fb9f3a\"], [0.8888888888888888, \"#fdca26\"], [1.0, \"#f0f921\"]], \"type\": \"heatmapgl\"}], \"histogram\": [{\"marker\": {\"colorbar\": {\"outlinewidth\": 0, \"ticks\": \"\"}}, \"type\": \"histogram\"}], \"histogram2d\": [{\"colorbar\": {\"outlinewidth\": 0, \"ticks\": \"\"}, \"colorscale\": [[0.0, \"#0d0887\"], [0.1111111111111111, \"#46039f\"], [0.2222222222222222, \"#7201a8\"], [0.3333333333333333, \"#9c179e\"], [0.4444444444444444, \"#bd3786\"], [0.5555555555555556, \"#d8576b\"], [0.6666666666666666, \"#ed7953\"], [0.7777777777777778, \"#fb9f3a\"], [0.8888888888888888, \"#fdca26\"], [1.0, \"#f0f921\"]], \"type\": \"histogram2d\"}], \"histogram2dcontour\": [{\"colorbar\": {\"outlinewidth\": 0, \"ticks\": \"\"}, \"colorscale\": [[0.0, \"#0d0887\"], [0.1111111111111111, \"#46039f\"], [0.2222222222222222, \"#7201a8\"], [0.3333333333333333, \"#9c179e\"], [0.4444444444444444, \"#bd3786\"], [0.5555555555555556, \"#d8576b\"], [0.6666666666666666, \"#ed7953\"], [0.7777777777777778, \"#fb9f3a\"], [0.8888888888888888, \"#fdca26\"], [1.0, \"#f0f921\"]], \"type\": \"histogram2dcontour\"}], \"mesh3d\": [{\"colorbar\": {\"outlinewidth\": 0, \"ticks\": \"\"}, \"type\": \"mesh3d\"}], \"parcoords\": [{\"line\": {\"colorbar\": {\"outlinewidth\": 0, \"ticks\": \"\"}}, \"type\": \"parcoords\"}], \"pie\": [{\"automargin\": true, \"type\": \"pie\"}], \"scatter\": [{\"marker\": {\"colorbar\": {\"outlinewidth\": 0, \"ticks\": \"\"}}, \"type\": \"scatter\"}], \"scatter3d\": [{\"line\": {\"colorbar\": {\"outlinewidth\": 0, \"ticks\": \"\"}}, \"marker\": {\"colorbar\": {\"outlinewidth\": 0, \"ticks\": \"\"}}, \"type\": \"scatter3d\"}], \"scattercarpet\": [{\"marker\": {\"colorbar\": {\"outlinewidth\": 0, \"ticks\": \"\"}}, \"type\": \"scattercarpet\"}], \"scattergeo\": [{\"marker\": {\"colorbar\": {\"outlinewidth\": 0, \"ticks\": \"\"}}, \"type\": \"scattergeo\"}], \"scattergl\": [{\"marker\": {\"colorbar\": {\"outlinewidth\": 0, \"ticks\": \"\"}}, \"type\": \"scattergl\"}], \"scattermapbox\": [{\"marker\": {\"colorbar\": {\"outlinewidth\": 0, \"ticks\": \"\"}}, \"type\": \"scattermapbox\"}], \"scatterpolar\": [{\"marker\": {\"colorbar\": {\"outlinewidth\": 0, \"ticks\": \"\"}}, \"type\": \"scatterpolar\"}], \"scatterpolargl\": [{\"marker\": {\"colorbar\": {\"outlinewidth\": 0, \"ticks\": \"\"}}, \"type\": \"scatterpolargl\"}], \"scatterternary\": [{\"marker\": {\"colorbar\": {\"outlinewidth\": 0, \"ticks\": \"\"}}, \"type\": \"scatterternary\"}], \"surface\": [{\"colorbar\": {\"outlinewidth\": 0, \"ticks\": \"\"}, \"colorscale\": [[0.0, \"#0d0887\"], [0.1111111111111111, \"#46039f\"], [0.2222222222222222, \"#7201a8\"], [0.3333333333333333, \"#9c179e\"], [0.4444444444444444, \"#bd3786\"], [0.5555555555555556, \"#d8576b\"], [0.6666666666666666, \"#ed7953\"], [0.7777777777777778, \"#fb9f3a\"], [0.8888888888888888, \"#fdca26\"], [1.0, \"#f0f921\"]], \"type\": \"surface\"}], \"table\": [{\"cells\": {\"fill\": {\"color\": \"#EBF0F8\"}, \"line\": {\"color\": \"white\"}}, \"header\": {\"fill\": {\"color\": \"#C8D4E3\"}, \"line\": {\"color\": \"white\"}}, \"type\": \"table\"}]}, \"layout\": {\"annotationdefaults\": {\"arrowcolor\": \"#2a3f5f\", \"arrowhead\": 0, \"arrowwidth\": 1}, \"coloraxis\": {\"colorbar\": {\"outlinewidth\": 0, \"ticks\": \"\"}}, \"colorscale\": {\"diverging\": [[0, \"#8e0152\"], [0.1, \"#c51b7d\"], [0.2, \"#de77ae\"], [0.3, \"#f1b6da\"], [0.4, \"#fde0ef\"], [0.5, \"#f7f7f7\"], [0.6, \"#e6f5d0\"], [0.7, \"#b8e186\"], [0.8, \"#7fbc41\"], [0.9, \"#4d9221\"], [1, \"#276419\"]], \"sequential\": [[0.0, \"#0d0887\"], [0.1111111111111111, \"#46039f\"], [0.2222222222222222, \"#7201a8\"], [0.3333333333333333, \"#9c179e\"], [0.4444444444444444, \"#bd3786\"], [0.5555555555555556, \"#d8576b\"], [0.6666666666666666, \"#ed7953\"], [0.7777777777777778, \"#fb9f3a\"], [0.8888888888888888, \"#fdca26\"], [1.0, \"#f0f921\"]], \"sequentialminus\": [[0.0, \"#0d0887\"], [0.1111111111111111, \"#46039f\"], [0.2222222222222222, \"#7201a8\"], [0.3333333333333333, \"#9c179e\"], [0.4444444444444444, \"#bd3786\"], [0.5555555555555556, \"#d8576b\"], [0.6666666666666666, \"#ed7953\"], [0.7777777777777778, \"#fb9f3a\"], [0.8888888888888888, \"#fdca26\"], [1.0, \"#f0f921\"]]}, \"colorway\": [\"#636efa\", \"#EF553B\", \"#00cc96\", \"#ab63fa\", \"#FFA15A\", \"#19d3f3\", \"#FF6692\", \"#B6E880\", \"#FF97FF\", \"#FECB52\"], \"font\": {\"color\": \"#2a3f5f\"}, \"geo\": {\"bgcolor\": \"white\", \"lakecolor\": \"white\", \"landcolor\": \"#E5ECF6\", \"showlakes\": true, \"showland\": true, \"subunitcolor\": \"white\"}, \"hoverlabel\": {\"align\": \"left\"}, \"hovermode\": \"closest\", \"mapbox\": {\"style\": \"light\"}, \"paper_bgcolor\": \"white\", \"plot_bgcolor\": \"#E5ECF6\", \"polar\": {\"angularaxis\": {\"gridcolor\": \"white\", \"linecolor\": \"white\", \"ticks\": \"\"}, \"bgcolor\": \"#E5ECF6\", \"radialaxis\": {\"gridcolor\": \"white\", \"linecolor\": \"white\", \"ticks\": \"\"}}, \"scene\": {\"xaxis\": {\"backgroundcolor\": \"#E5ECF6\", \"gridcolor\": \"white\", \"gridwidth\": 2, \"linecolor\": \"white\", \"showbackground\": true, \"ticks\": \"\", \"zerolinecolor\": \"white\"}, \"yaxis\": {\"backgroundcolor\": \"#E5ECF6\", \"gridcolor\": \"white\", \"gridwidth\": 2, \"linecolor\": \"white\", \"showbackground\": true, \"ticks\": \"\", \"zerolinecolor\": \"white\"}, \"zaxis\": {\"backgroundcolor\": \"#E5ECF6\", \"gridcolor\": \"white\", \"gridwidth\": 2, \"linecolor\": \"white\", \"showbackground\": true, \"ticks\": \"\", \"zerolinecolor\": \"white\"}}, \"shapedefaults\": {\"line\": {\"color\": \"#2a3f5f\"}}, \"ternary\": {\"aaxis\": {\"gridcolor\": \"white\", \"linecolor\": \"white\", \"ticks\": \"\"}, \"baxis\": {\"gridcolor\": \"white\", \"linecolor\": \"white\", \"ticks\": \"\"}, \"bgcolor\": \"#E5ECF6\", \"caxis\": {\"gridcolor\": \"white\", \"linecolor\": \"white\", \"ticks\": \"\"}}, \"title\": {\"x\": 0.05}, \"xaxis\": {\"automargin\": true, \"gridcolor\": \"white\", \"linecolor\": \"white\", \"ticks\": \"\", \"title\": {\"standoff\": 15}, \"zerolinecolor\": \"white\", \"zerolinewidth\": 2}, \"yaxis\": {\"automargin\": true, \"gridcolor\": \"white\", \"linecolor\": \"white\", \"ticks\": \"\", \"title\": {\"standoff\": 15}, \"zerolinecolor\": \"white\", \"zerolinewidth\": 2}}}, \"title\": {\"font\": {\"size\": 30}, \"text\": \"Growth in CP papers\", \"x\": 0, \"xanchor\": \"left\", \"y\": 0.9, \"yanchor\": \"top\"}, \"xaxis\": {\"rangeslider\": {\"visible\": true}}, \"yaxis\": {\"title\": {\"text\": \"Publications\"}}},\n",
              "                        {\"responsive\": true}\n",
              "                    ).then(function(){\n",
              "                            \n",
              "var gd = document.getElementById('3aa80a52-cea6-46c9-83c4-4d02076a0f62');\n",
              "var x = new MutationObserver(function (mutations, observer) {{\n",
              "        var display = window.getComputedStyle(gd).display;\n",
              "        if (!display || display === 'none') {{\n",
              "            console.log([gd, 'removed!']);\n",
              "            Plotly.purge(gd);\n",
              "            observer.disconnect();\n",
              "        }}\n",
              "}});\n",
              "\n",
              "// Listen for the removal of the full notebook cells\n",
              "var notebookContainer = gd.closest('#notebook-container');\n",
              "if (notebookContainer) {{\n",
              "    x.observe(notebookContainer, {childList: true});\n",
              "}}\n",
              "\n",
              "// Listen for the clearing of the current output cell\n",
              "var outputEl = gd.closest('.output');\n",
              "if (outputEl) {{\n",
              "    x.observe(outputEl, {childList: true});\n",
              "}}\n",
              "\n",
              "                        })\n",
              "                };\n",
              "                \n",
              "            </script>\n",
              "        </div>\n",
              "</body>\n",
              "</html>"
            ]
          },
          "metadata": {
            "tags": []
          }
        }
      ]
    },
    {
      "cell_type": "markdown",
      "metadata": {
        "id": "Mk-f992dQ66Z",
        "colab_type": "text"
      },
      "source": [
        "## Meta Analysis\n",
        "\n"
      ]
    },
    {
      "cell_type": "code",
      "metadata": {
        "id": "x0Jv8A9hRFpd",
        "colab_type": "code",
        "cellView": "form",
        "colab": {
          "base_uri": "https://localhost:8080/",
          "height": 542
        },
        "outputId": "39f93223-4497-44c7-d3b1-f10d67e66dec"
      },
      "source": [
        "#@title Top Country by Field and Year\n",
        "Field = \"machine learning\" #@param {type:\"string\"}\n",
        "Field = Field.lower()\n",
        "Year = \"2020\" #@param {type:\"string\"}\n",
        "Year = int(Year)\n",
        "d = df_c[df_c['Field_of_study']==Field]\n",
        "d = d[d['Date']==Year]\n",
        "d1 = d[['Country','Publication_Count']].groupby('Country').agg('sum').sort_values('Publication_Count',ascending=False).head(10)\n",
        "d1 = d1.sort_values('Publication_Count')\n",
        "\n",
        "fig = go.Figure([go.Bar(y=list(d1.index), x=d1['Publication_Count'],orientation='h')])\n",
        "fig.add_layout_image(\n",
        "    dict(\n",
        "        source=\"https://pbs.twimg.com/profile_images/928845333349543937/xzRkcN08.jpg\",\n",
        "        xref=\"paper\", yref=\"paper\",\n",
        "        x=-0.1, y=-0.26,\n",
        "        sizex=0.23, sizey=0.23,\n",
        "        xanchor=\"left\", yanchor=\"bottom\"\n",
        "    )\n",
        ")\n",
        "\n",
        "fig.update_layout(\n",
        "    title = {\n",
        "        'text': 'Top Countries in {} in {}'.format(Field,Year),\n",
        "        'y':0.9,\n",
        "        'x':0,\n",
        "        'xanchor': 'left',\n",
        "        'yanchor': 'top'},\n",
        "        titlefont= {\n",
        "            \"size\": 30,\n",
        "            \n",
        "        },\n",
        "    yaxis_title = \"Countries\",\n",
        "    xaxis_title = f\"Number of publications in {Field}\"\n",
        ")\n",
        "fig.show()\n"
      ],
      "execution_count": null,
      "outputs": [
        {
          "output_type": "display_data",
          "data": {
            "text/html": [
              "<html>\n",
              "<head><meta charset=\"utf-8\" /></head>\n",
              "<body>\n",
              "    <div>\n",
              "            <script src=\"https://cdnjs.cloudflare.com/ajax/libs/mathjax/2.7.5/MathJax.js?config=TeX-AMS-MML_SVG\"></script><script type=\"text/javascript\">if (window.MathJax) {MathJax.Hub.Config({SVG: {font: \"STIX-Web\"}});}</script>\n",
              "                <script type=\"text/javascript\">window.PlotlyConfig = {MathJaxConfig: 'local'};</script>\n",
              "        <script src=\"https://cdn.plot.ly/plotly-latest.min.js\"></script>    \n",
              "            <div id=\"faf53c7b-d6ae-4c55-bc29-cf846882225a\" class=\"plotly-graph-div\" style=\"height:525px; width:100%;\"></div>\n",
              "            <script type=\"text/javascript\">\n",
              "                \n",
              "                    window.PLOTLYENV=window.PLOTLYENV || {};\n",
              "                    \n",
              "                if (document.getElementById(\"faf53c7b-d6ae-4c55-bc29-cf846882225a\")) {\n",
              "                    Plotly.newPlot(\n",
              "                        'faf53c7b-d6ae-4c55-bc29-cf846882225a',\n",
              "                        [{\"orientation\": \"h\", \"type\": \"bar\", \"x\": [82, 86, 86, 134, 136, 159, 169, 317, 1917, 2231], \"y\": [\"Japan\", \"Italy\", \"South Korea\", \"Canada\", \"Germany\", \"Singapore\", \"Australia\", \"United Kingdom\", \"United States\", \"China\"]}],\n",
              "                        {\"images\": [{\"sizex\": 0.23, \"sizey\": 0.23, \"source\": \"https://pbs.twimg.com/profile_images/928845333349543937/xzRkcN08.jpg\", \"x\": -0.1, \"xanchor\": \"left\", \"xref\": \"paper\", \"y\": -0.26, \"yanchor\": \"bottom\", \"yref\": \"paper\"}], \"template\": {\"data\": {\"bar\": [{\"error_x\": {\"color\": \"#2a3f5f\"}, \"error_y\": {\"color\": \"#2a3f5f\"}, \"marker\": {\"line\": {\"color\": \"#E5ECF6\", \"width\": 0.5}}, \"type\": \"bar\"}], \"barpolar\": [{\"marker\": {\"line\": {\"color\": \"#E5ECF6\", \"width\": 0.5}}, \"type\": \"barpolar\"}], \"carpet\": [{\"aaxis\": {\"endlinecolor\": \"#2a3f5f\", \"gridcolor\": \"white\", \"linecolor\": \"white\", \"minorgridcolor\": \"white\", \"startlinecolor\": \"#2a3f5f\"}, \"baxis\": {\"endlinecolor\": \"#2a3f5f\", \"gridcolor\": \"white\", \"linecolor\": \"white\", \"minorgridcolor\": \"white\", \"startlinecolor\": \"#2a3f5f\"}, \"type\": \"carpet\"}], \"choropleth\": [{\"colorbar\": {\"outlinewidth\": 0, \"ticks\": \"\"}, \"type\": \"choropleth\"}], \"contour\": [{\"colorbar\": {\"outlinewidth\": 0, \"ticks\": \"\"}, \"colorscale\": [[0.0, \"#0d0887\"], [0.1111111111111111, \"#46039f\"], [0.2222222222222222, \"#7201a8\"], [0.3333333333333333, \"#9c179e\"], [0.4444444444444444, \"#bd3786\"], [0.5555555555555556, \"#d8576b\"], [0.6666666666666666, \"#ed7953\"], [0.7777777777777778, \"#fb9f3a\"], [0.8888888888888888, \"#fdca26\"], [1.0, \"#f0f921\"]], \"type\": \"contour\"}], \"contourcarpet\": [{\"colorbar\": {\"outlinewidth\": 0, \"ticks\": \"\"}, \"type\": \"contourcarpet\"}], \"heatmap\": [{\"colorbar\": {\"outlinewidth\": 0, \"ticks\": \"\"}, \"colorscale\": [[0.0, \"#0d0887\"], [0.1111111111111111, \"#46039f\"], [0.2222222222222222, \"#7201a8\"], [0.3333333333333333, \"#9c179e\"], [0.4444444444444444, \"#bd3786\"], [0.5555555555555556, \"#d8576b\"], [0.6666666666666666, \"#ed7953\"], [0.7777777777777778, \"#fb9f3a\"], [0.8888888888888888, \"#fdca26\"], [1.0, \"#f0f921\"]], \"type\": \"heatmap\"}], \"heatmapgl\": [{\"colorbar\": {\"outlinewidth\": 0, \"ticks\": \"\"}, \"colorscale\": [[0.0, \"#0d0887\"], [0.1111111111111111, \"#46039f\"], [0.2222222222222222, \"#7201a8\"], [0.3333333333333333, \"#9c179e\"], [0.4444444444444444, \"#bd3786\"], [0.5555555555555556, \"#d8576b\"], [0.6666666666666666, \"#ed7953\"], [0.7777777777777778, \"#fb9f3a\"], [0.8888888888888888, \"#fdca26\"], [1.0, \"#f0f921\"]], \"type\": \"heatmapgl\"}], \"histogram\": [{\"marker\": {\"colorbar\": {\"outlinewidth\": 0, \"ticks\": \"\"}}, \"type\": \"histogram\"}], \"histogram2d\": [{\"colorbar\": {\"outlinewidth\": 0, \"ticks\": \"\"}, \"colorscale\": [[0.0, \"#0d0887\"], [0.1111111111111111, \"#46039f\"], [0.2222222222222222, \"#7201a8\"], [0.3333333333333333, \"#9c179e\"], [0.4444444444444444, \"#bd3786\"], [0.5555555555555556, \"#d8576b\"], [0.6666666666666666, \"#ed7953\"], [0.7777777777777778, \"#fb9f3a\"], [0.8888888888888888, \"#fdca26\"], [1.0, \"#f0f921\"]], \"type\": \"histogram2d\"}], \"histogram2dcontour\": [{\"colorbar\": {\"outlinewidth\": 0, \"ticks\": \"\"}, \"colorscale\": [[0.0, \"#0d0887\"], [0.1111111111111111, \"#46039f\"], [0.2222222222222222, \"#7201a8\"], [0.3333333333333333, \"#9c179e\"], [0.4444444444444444, \"#bd3786\"], [0.5555555555555556, \"#d8576b\"], [0.6666666666666666, \"#ed7953\"], [0.7777777777777778, \"#fb9f3a\"], [0.8888888888888888, \"#fdca26\"], [1.0, \"#f0f921\"]], \"type\": \"histogram2dcontour\"}], \"mesh3d\": [{\"colorbar\": {\"outlinewidth\": 0, \"ticks\": \"\"}, \"type\": \"mesh3d\"}], \"parcoords\": [{\"line\": {\"colorbar\": {\"outlinewidth\": 0, \"ticks\": \"\"}}, \"type\": \"parcoords\"}], \"pie\": [{\"automargin\": true, \"type\": \"pie\"}], \"scatter\": [{\"marker\": {\"colorbar\": {\"outlinewidth\": 0, \"ticks\": \"\"}}, \"type\": \"scatter\"}], \"scatter3d\": [{\"line\": {\"colorbar\": {\"outlinewidth\": 0, \"ticks\": \"\"}}, \"marker\": {\"colorbar\": {\"outlinewidth\": 0, \"ticks\": \"\"}}, \"type\": \"scatter3d\"}], \"scattercarpet\": [{\"marker\": {\"colorbar\": {\"outlinewidth\": 0, \"ticks\": \"\"}}, \"type\": \"scattercarpet\"}], \"scattergeo\": [{\"marker\": {\"colorbar\": {\"outlinewidth\": 0, \"ticks\": \"\"}}, \"type\": \"scattergeo\"}], \"scattergl\": [{\"marker\": {\"colorbar\": {\"outlinewidth\": 0, \"ticks\": \"\"}}, \"type\": \"scattergl\"}], \"scattermapbox\": [{\"marker\": {\"colorbar\": {\"outlinewidth\": 0, \"ticks\": \"\"}}, \"type\": \"scattermapbox\"}], \"scatterpolar\": [{\"marker\": {\"colorbar\": {\"outlinewidth\": 0, \"ticks\": \"\"}}, \"type\": \"scatterpolar\"}], \"scatterpolargl\": [{\"marker\": {\"colorbar\": {\"outlinewidth\": 0, \"ticks\": \"\"}}, \"type\": \"scatterpolargl\"}], \"scatterternary\": [{\"marker\": {\"colorbar\": {\"outlinewidth\": 0, \"ticks\": \"\"}}, \"type\": \"scatterternary\"}], \"surface\": [{\"colorbar\": {\"outlinewidth\": 0, \"ticks\": \"\"}, \"colorscale\": [[0.0, \"#0d0887\"], [0.1111111111111111, \"#46039f\"], [0.2222222222222222, \"#7201a8\"], [0.3333333333333333, \"#9c179e\"], [0.4444444444444444, \"#bd3786\"], [0.5555555555555556, \"#d8576b\"], [0.6666666666666666, \"#ed7953\"], [0.7777777777777778, \"#fb9f3a\"], [0.8888888888888888, \"#fdca26\"], [1.0, \"#f0f921\"]], \"type\": \"surface\"}], \"table\": [{\"cells\": {\"fill\": {\"color\": \"#EBF0F8\"}, \"line\": {\"color\": \"white\"}}, \"header\": {\"fill\": {\"color\": \"#C8D4E3\"}, \"line\": {\"color\": \"white\"}}, \"type\": \"table\"}]}, \"layout\": {\"annotationdefaults\": {\"arrowcolor\": \"#2a3f5f\", \"arrowhead\": 0, \"arrowwidth\": 1}, \"coloraxis\": {\"colorbar\": {\"outlinewidth\": 0, \"ticks\": \"\"}}, \"colorscale\": {\"diverging\": [[0, \"#8e0152\"], [0.1, \"#c51b7d\"], [0.2, \"#de77ae\"], [0.3, \"#f1b6da\"], [0.4, \"#fde0ef\"], [0.5, \"#f7f7f7\"], [0.6, \"#e6f5d0\"], [0.7, \"#b8e186\"], [0.8, \"#7fbc41\"], [0.9, \"#4d9221\"], [1, \"#276419\"]], \"sequential\": [[0.0, \"#0d0887\"], [0.1111111111111111, \"#46039f\"], [0.2222222222222222, \"#7201a8\"], [0.3333333333333333, \"#9c179e\"], [0.4444444444444444, \"#bd3786\"], [0.5555555555555556, \"#d8576b\"], [0.6666666666666666, \"#ed7953\"], [0.7777777777777778, \"#fb9f3a\"], [0.8888888888888888, \"#fdca26\"], [1.0, \"#f0f921\"]], \"sequentialminus\": [[0.0, \"#0d0887\"], [0.1111111111111111, \"#46039f\"], [0.2222222222222222, \"#7201a8\"], [0.3333333333333333, \"#9c179e\"], [0.4444444444444444, \"#bd3786\"], [0.5555555555555556, \"#d8576b\"], [0.6666666666666666, \"#ed7953\"], [0.7777777777777778, \"#fb9f3a\"], [0.8888888888888888, \"#fdca26\"], [1.0, \"#f0f921\"]]}, \"colorway\": [\"#636efa\", \"#EF553B\", \"#00cc96\", \"#ab63fa\", \"#FFA15A\", \"#19d3f3\", \"#FF6692\", \"#B6E880\", \"#FF97FF\", \"#FECB52\"], \"font\": {\"color\": \"#2a3f5f\"}, \"geo\": {\"bgcolor\": \"white\", \"lakecolor\": \"white\", \"landcolor\": \"#E5ECF6\", \"showlakes\": true, \"showland\": true, \"subunitcolor\": \"white\"}, \"hoverlabel\": {\"align\": \"left\"}, \"hovermode\": \"closest\", \"mapbox\": {\"style\": \"light\"}, \"paper_bgcolor\": \"white\", \"plot_bgcolor\": \"#E5ECF6\", \"polar\": {\"angularaxis\": {\"gridcolor\": \"white\", \"linecolor\": \"white\", \"ticks\": \"\"}, \"bgcolor\": \"#E5ECF6\", \"radialaxis\": {\"gridcolor\": \"white\", \"linecolor\": \"white\", \"ticks\": \"\"}}, \"scene\": {\"xaxis\": {\"backgroundcolor\": \"#E5ECF6\", \"gridcolor\": \"white\", \"gridwidth\": 2, \"linecolor\": \"white\", \"showbackground\": true, \"ticks\": \"\", \"zerolinecolor\": \"white\"}, \"yaxis\": {\"backgroundcolor\": \"#E5ECF6\", \"gridcolor\": \"white\", \"gridwidth\": 2, \"linecolor\": \"white\", \"showbackground\": true, \"ticks\": \"\", \"zerolinecolor\": \"white\"}, \"zaxis\": {\"backgroundcolor\": \"#E5ECF6\", \"gridcolor\": \"white\", \"gridwidth\": 2, \"linecolor\": \"white\", \"showbackground\": true, \"ticks\": \"\", \"zerolinecolor\": \"white\"}}, \"shapedefaults\": {\"line\": {\"color\": \"#2a3f5f\"}}, \"ternary\": {\"aaxis\": {\"gridcolor\": \"white\", \"linecolor\": \"white\", \"ticks\": \"\"}, \"baxis\": {\"gridcolor\": \"white\", \"linecolor\": \"white\", \"ticks\": \"\"}, \"bgcolor\": \"#E5ECF6\", \"caxis\": {\"gridcolor\": \"white\", \"linecolor\": \"white\", \"ticks\": \"\"}}, \"title\": {\"x\": 0.05}, \"xaxis\": {\"automargin\": true, \"gridcolor\": \"white\", \"linecolor\": \"white\", \"ticks\": \"\", \"title\": {\"standoff\": 15}, \"zerolinecolor\": \"white\", \"zerolinewidth\": 2}, \"yaxis\": {\"automargin\": true, \"gridcolor\": \"white\", \"linecolor\": \"white\", \"ticks\": \"\", \"title\": {\"standoff\": 15}, \"zerolinecolor\": \"white\", \"zerolinewidth\": 2}}}, \"title\": {\"font\": {\"size\": 30}, \"text\": \"Top Countries in machine learning in 2020\", \"x\": 0, \"xanchor\": \"left\", \"y\": 0.9, \"yanchor\": \"top\"}, \"xaxis\": {\"title\": {\"text\": \"Number of publications in machine learning\"}}, \"yaxis\": {\"title\": {\"text\": \"Countries\"}}},\n",
              "                        {\"responsive\": true}\n",
              "                    ).then(function(){\n",
              "                            \n",
              "var gd = document.getElementById('faf53c7b-d6ae-4c55-bc29-cf846882225a');\n",
              "var x = new MutationObserver(function (mutations, observer) {{\n",
              "        var display = window.getComputedStyle(gd).display;\n",
              "        if (!display || display === 'none') {{\n",
              "            console.log([gd, 'removed!']);\n",
              "            Plotly.purge(gd);\n",
              "            observer.disconnect();\n",
              "        }}\n",
              "}});\n",
              "\n",
              "// Listen for the removal of the full notebook cells\n",
              "var notebookContainer = gd.closest('#notebook-container');\n",
              "if (notebookContainer) {{\n",
              "    x.observe(notebookContainer, {childList: true});\n",
              "}}\n",
              "\n",
              "// Listen for the clearing of the current output cell\n",
              "var outputEl = gd.closest('.output');\n",
              "if (outputEl) {{\n",
              "    x.observe(outputEl, {childList: true});\n",
              "}}\n",
              "\n",
              "                        })\n",
              "                };\n",
              "                \n",
              "            </script>\n",
              "        </div>\n",
              "</body>\n",
              "</html>"
            ]
          },
          "metadata": {
            "tags": []
          }
        }
      ]
    },
    {
      "cell_type": "code",
      "metadata": {
        "id": "jZbetgjnWVTI",
        "colab_type": "code",
        "cellView": "form",
        "colab": {
          "base_uri": "https://localhost:8080/",
          "height": 542
        },
        "outputId": "7cf48a85-e376-4d08-f68d-98fb663df2f1"
      },
      "source": [
        "#@title ##### Country Analysis\n",
        "Country = \"United States\" #@param {type:\"string\"}\n",
        "Year = \"2017\" #@param {type:\"string\"}\n",
        "Year = int(Year)\n",
        "d = df_c[df_c['Country']==Country]\n",
        "d = d[d['Date']==Year]\n",
        "d1 = d[['Field_of_study','Publication_Count']].groupby('Field_of_study').agg('sum').sort_values('Publication_Count',ascending=False).head(10)\n",
        "d1 = d1.sort_values('Publication_Count')\n",
        "\n",
        "fig = go.Figure([go.Bar(y=list(d1.index), x=d1['Publication_Count'],orientation='h')])\n",
        "fig.add_layout_image(\n",
        "    dict(\n",
        "        source=\"https://pbs.twimg.com/profile_images/928845333349543937/xzRkcN08.jpg\",\n",
        "        xref=\"paper\", yref=\"paper\",\n",
        "        x=-0.1, y=-0.26,\n",
        "        sizex=0.23, sizey=0.23,\n",
        "        xanchor=\"left\", yanchor=\"bottom\"\n",
        "    )\n",
        ")\n",
        "\n",
        "fig.update_layout(\n",
        "    title = {\n",
        "        'text': 'Top Fields from {} in {}'.format(Country,Year),\n",
        "        'y':0.9,\n",
        "        'x':0,\n",
        "        'xanchor': 'left',\n",
        "        'yanchor': 'top'},\n",
        "        titlefont= {\n",
        "            \"size\": 30,\n",
        "            \n",
        "        },\n",
        "    yaxis_title = \"Fields\",\n",
        "    xaxis_title = f\"Number of publications\"\n",
        ")\n",
        "fig.show()\n",
        "\n"
      ],
      "execution_count": null,
      "outputs": [
        {
          "output_type": "display_data",
          "data": {
            "text/html": [
              "<html>\n",
              "<head><meta charset=\"utf-8\" /></head>\n",
              "<body>\n",
              "    <div>\n",
              "            <script src=\"https://cdnjs.cloudflare.com/ajax/libs/mathjax/2.7.5/MathJax.js?config=TeX-AMS-MML_SVG\"></script><script type=\"text/javascript\">if (window.MathJax) {MathJax.Hub.Config({SVG: {font: \"STIX-Web\"}});}</script>\n",
              "                <script type=\"text/javascript\">window.PlotlyConfig = {MathJaxConfig: 'local'};</script>\n",
              "        <script src=\"https://cdn.plot.ly/plotly-latest.min.js\"></script>    \n",
              "            <div id=\"22313cb6-17dc-4c52-98de-7a11e757bb33\" class=\"plotly-graph-div\" style=\"height:525px; width:100%;\"></div>\n",
              "            <script type=\"text/javascript\">\n",
              "                \n",
              "                    window.PLOTLYENV=window.PLOTLYENV || {};\n",
              "                    \n",
              "                if (document.getElementById(\"22313cb6-17dc-4c52-98de-7a11e757bb33\")) {\n",
              "                    Plotly.newPlot(\n",
              "                        '22313cb6-17dc-4c52-98de-7a11e757bb33',\n",
              "                        [{\"orientation\": \"h\", \"type\": \"bar\", \"x\": [670, 696, 994, 1085, 1216, 1901, 2093, 2851, 6075, 6850], \"y\": [\"artificial neural network\", \"mathematical optimization\", \"engineering\", \"control engineering\", \"robot\", \"computer vision\", \"pattern recognition\", \"machine learning\", \"artificial intelligence\", \"computer science\"]}],\n",
              "                        {\"images\": [{\"sizex\": 0.23, \"sizey\": 0.23, \"source\": \"https://pbs.twimg.com/profile_images/928845333349543937/xzRkcN08.jpg\", \"x\": -0.1, \"xanchor\": \"left\", \"xref\": \"paper\", \"y\": -0.26, \"yanchor\": \"bottom\", \"yref\": \"paper\"}], \"template\": {\"data\": {\"bar\": [{\"error_x\": {\"color\": \"#2a3f5f\"}, \"error_y\": {\"color\": \"#2a3f5f\"}, \"marker\": {\"line\": {\"color\": \"#E5ECF6\", \"width\": 0.5}}, \"type\": \"bar\"}], \"barpolar\": [{\"marker\": {\"line\": {\"color\": \"#E5ECF6\", \"width\": 0.5}}, \"type\": \"barpolar\"}], \"carpet\": [{\"aaxis\": {\"endlinecolor\": \"#2a3f5f\", \"gridcolor\": \"white\", \"linecolor\": \"white\", \"minorgridcolor\": \"white\", \"startlinecolor\": \"#2a3f5f\"}, \"baxis\": {\"endlinecolor\": \"#2a3f5f\", \"gridcolor\": \"white\", \"linecolor\": \"white\", \"minorgridcolor\": \"white\", \"startlinecolor\": \"#2a3f5f\"}, \"type\": \"carpet\"}], \"choropleth\": [{\"colorbar\": {\"outlinewidth\": 0, \"ticks\": \"\"}, \"type\": \"choropleth\"}], \"contour\": [{\"colorbar\": {\"outlinewidth\": 0, \"ticks\": \"\"}, \"colorscale\": [[0.0, \"#0d0887\"], [0.1111111111111111, \"#46039f\"], [0.2222222222222222, \"#7201a8\"], [0.3333333333333333, \"#9c179e\"], [0.4444444444444444, \"#bd3786\"], [0.5555555555555556, \"#d8576b\"], [0.6666666666666666, \"#ed7953\"], [0.7777777777777778, \"#fb9f3a\"], [0.8888888888888888, \"#fdca26\"], [1.0, \"#f0f921\"]], \"type\": \"contour\"}], \"contourcarpet\": [{\"colorbar\": {\"outlinewidth\": 0, \"ticks\": \"\"}, \"type\": \"contourcarpet\"}], \"heatmap\": [{\"colorbar\": {\"outlinewidth\": 0, \"ticks\": \"\"}, \"colorscale\": [[0.0, \"#0d0887\"], [0.1111111111111111, \"#46039f\"], [0.2222222222222222, \"#7201a8\"], [0.3333333333333333, \"#9c179e\"], [0.4444444444444444, \"#bd3786\"], [0.5555555555555556, \"#d8576b\"], [0.6666666666666666, \"#ed7953\"], [0.7777777777777778, \"#fb9f3a\"], [0.8888888888888888, \"#fdca26\"], [1.0, \"#f0f921\"]], \"type\": \"heatmap\"}], \"heatmapgl\": [{\"colorbar\": {\"outlinewidth\": 0, \"ticks\": \"\"}, \"colorscale\": [[0.0, \"#0d0887\"], [0.1111111111111111, \"#46039f\"], [0.2222222222222222, \"#7201a8\"], [0.3333333333333333, \"#9c179e\"], [0.4444444444444444, \"#bd3786\"], [0.5555555555555556, \"#d8576b\"], [0.6666666666666666, \"#ed7953\"], [0.7777777777777778, \"#fb9f3a\"], [0.8888888888888888, \"#fdca26\"], [1.0, \"#f0f921\"]], \"type\": \"heatmapgl\"}], \"histogram\": [{\"marker\": {\"colorbar\": {\"outlinewidth\": 0, \"ticks\": \"\"}}, \"type\": \"histogram\"}], \"histogram2d\": [{\"colorbar\": {\"outlinewidth\": 0, \"ticks\": \"\"}, \"colorscale\": [[0.0, \"#0d0887\"], [0.1111111111111111, \"#46039f\"], [0.2222222222222222, \"#7201a8\"], [0.3333333333333333, \"#9c179e\"], [0.4444444444444444, \"#bd3786\"], [0.5555555555555556, \"#d8576b\"], [0.6666666666666666, \"#ed7953\"], [0.7777777777777778, \"#fb9f3a\"], [0.8888888888888888, \"#fdca26\"], [1.0, \"#f0f921\"]], \"type\": \"histogram2d\"}], \"histogram2dcontour\": [{\"colorbar\": {\"outlinewidth\": 0, \"ticks\": \"\"}, \"colorscale\": [[0.0, \"#0d0887\"], [0.1111111111111111, \"#46039f\"], [0.2222222222222222, \"#7201a8\"], [0.3333333333333333, \"#9c179e\"], [0.4444444444444444, \"#bd3786\"], [0.5555555555555556, \"#d8576b\"], [0.6666666666666666, \"#ed7953\"], [0.7777777777777778, \"#fb9f3a\"], [0.8888888888888888, \"#fdca26\"], [1.0, \"#f0f921\"]], \"type\": \"histogram2dcontour\"}], \"mesh3d\": [{\"colorbar\": {\"outlinewidth\": 0, \"ticks\": \"\"}, \"type\": \"mesh3d\"}], \"parcoords\": [{\"line\": {\"colorbar\": {\"outlinewidth\": 0, \"ticks\": \"\"}}, \"type\": \"parcoords\"}], \"pie\": [{\"automargin\": true, \"type\": \"pie\"}], \"scatter\": [{\"marker\": {\"colorbar\": {\"outlinewidth\": 0, \"ticks\": \"\"}}, \"type\": \"scatter\"}], \"scatter3d\": [{\"line\": {\"colorbar\": {\"outlinewidth\": 0, \"ticks\": \"\"}}, \"marker\": {\"colorbar\": {\"outlinewidth\": 0, \"ticks\": \"\"}}, \"type\": \"scatter3d\"}], \"scattercarpet\": [{\"marker\": {\"colorbar\": {\"outlinewidth\": 0, \"ticks\": \"\"}}, \"type\": \"scattercarpet\"}], \"scattergeo\": [{\"marker\": {\"colorbar\": {\"outlinewidth\": 0, \"ticks\": \"\"}}, \"type\": \"scattergeo\"}], \"scattergl\": [{\"marker\": {\"colorbar\": {\"outlinewidth\": 0, \"ticks\": \"\"}}, \"type\": \"scattergl\"}], \"scattermapbox\": [{\"marker\": {\"colorbar\": {\"outlinewidth\": 0, \"ticks\": \"\"}}, \"type\": \"scattermapbox\"}], \"scatterpolar\": [{\"marker\": {\"colorbar\": {\"outlinewidth\": 0, \"ticks\": \"\"}}, \"type\": \"scatterpolar\"}], \"scatterpolargl\": [{\"marker\": {\"colorbar\": {\"outlinewidth\": 0, \"ticks\": \"\"}}, \"type\": \"scatterpolargl\"}], \"scatterternary\": [{\"marker\": {\"colorbar\": {\"outlinewidth\": 0, \"ticks\": \"\"}}, \"type\": \"scatterternary\"}], \"surface\": [{\"colorbar\": {\"outlinewidth\": 0, \"ticks\": \"\"}, \"colorscale\": [[0.0, \"#0d0887\"], [0.1111111111111111, \"#46039f\"], [0.2222222222222222, \"#7201a8\"], [0.3333333333333333, \"#9c179e\"], [0.4444444444444444, \"#bd3786\"], [0.5555555555555556, \"#d8576b\"], [0.6666666666666666, \"#ed7953\"], [0.7777777777777778, \"#fb9f3a\"], [0.8888888888888888, \"#fdca26\"], [1.0, \"#f0f921\"]], \"type\": \"surface\"}], \"table\": [{\"cells\": {\"fill\": {\"color\": \"#EBF0F8\"}, \"line\": {\"color\": \"white\"}}, \"header\": {\"fill\": {\"color\": \"#C8D4E3\"}, \"line\": {\"color\": \"white\"}}, \"type\": \"table\"}]}, \"layout\": {\"annotationdefaults\": {\"arrowcolor\": \"#2a3f5f\", \"arrowhead\": 0, \"arrowwidth\": 1}, \"coloraxis\": {\"colorbar\": {\"outlinewidth\": 0, \"ticks\": \"\"}}, \"colorscale\": {\"diverging\": [[0, \"#8e0152\"], [0.1, \"#c51b7d\"], [0.2, \"#de77ae\"], [0.3, \"#f1b6da\"], [0.4, \"#fde0ef\"], [0.5, \"#f7f7f7\"], [0.6, \"#e6f5d0\"], [0.7, \"#b8e186\"], [0.8, \"#7fbc41\"], [0.9, \"#4d9221\"], [1, \"#276419\"]], \"sequential\": [[0.0, \"#0d0887\"], [0.1111111111111111, \"#46039f\"], [0.2222222222222222, \"#7201a8\"], [0.3333333333333333, \"#9c179e\"], [0.4444444444444444, \"#bd3786\"], [0.5555555555555556, \"#d8576b\"], [0.6666666666666666, \"#ed7953\"], [0.7777777777777778, \"#fb9f3a\"], [0.8888888888888888, \"#fdca26\"], [1.0, \"#f0f921\"]], \"sequentialminus\": [[0.0, \"#0d0887\"], [0.1111111111111111, \"#46039f\"], [0.2222222222222222, \"#7201a8\"], [0.3333333333333333, \"#9c179e\"], [0.4444444444444444, \"#bd3786\"], [0.5555555555555556, \"#d8576b\"], [0.6666666666666666, \"#ed7953\"], [0.7777777777777778, \"#fb9f3a\"], [0.8888888888888888, \"#fdca26\"], [1.0, \"#f0f921\"]]}, \"colorway\": [\"#636efa\", \"#EF553B\", \"#00cc96\", \"#ab63fa\", \"#FFA15A\", \"#19d3f3\", \"#FF6692\", \"#B6E880\", \"#FF97FF\", \"#FECB52\"], \"font\": {\"color\": \"#2a3f5f\"}, \"geo\": {\"bgcolor\": \"white\", \"lakecolor\": \"white\", \"landcolor\": \"#E5ECF6\", \"showlakes\": true, \"showland\": true, \"subunitcolor\": \"white\"}, \"hoverlabel\": {\"align\": \"left\"}, \"hovermode\": \"closest\", \"mapbox\": {\"style\": \"light\"}, \"paper_bgcolor\": \"white\", \"plot_bgcolor\": \"#E5ECF6\", \"polar\": {\"angularaxis\": {\"gridcolor\": \"white\", \"linecolor\": \"white\", \"ticks\": \"\"}, \"bgcolor\": \"#E5ECF6\", \"radialaxis\": {\"gridcolor\": \"white\", \"linecolor\": \"white\", \"ticks\": \"\"}}, \"scene\": {\"xaxis\": {\"backgroundcolor\": \"#E5ECF6\", \"gridcolor\": \"white\", \"gridwidth\": 2, \"linecolor\": \"white\", \"showbackground\": true, \"ticks\": \"\", \"zerolinecolor\": \"white\"}, \"yaxis\": {\"backgroundcolor\": \"#E5ECF6\", \"gridcolor\": \"white\", \"gridwidth\": 2, \"linecolor\": \"white\", \"showbackground\": true, \"ticks\": \"\", \"zerolinecolor\": \"white\"}, \"zaxis\": {\"backgroundcolor\": \"#E5ECF6\", \"gridcolor\": \"white\", \"gridwidth\": 2, \"linecolor\": \"white\", \"showbackground\": true, \"ticks\": \"\", \"zerolinecolor\": \"white\"}}, \"shapedefaults\": {\"line\": {\"color\": \"#2a3f5f\"}}, \"ternary\": {\"aaxis\": {\"gridcolor\": \"white\", \"linecolor\": \"white\", \"ticks\": \"\"}, \"baxis\": {\"gridcolor\": \"white\", \"linecolor\": \"white\", \"ticks\": \"\"}, \"bgcolor\": \"#E5ECF6\", \"caxis\": {\"gridcolor\": \"white\", \"linecolor\": \"white\", \"ticks\": \"\"}}, \"title\": {\"x\": 0.05}, \"xaxis\": {\"automargin\": true, \"gridcolor\": \"white\", \"linecolor\": \"white\", \"ticks\": \"\", \"title\": {\"standoff\": 15}, \"zerolinecolor\": \"white\", \"zerolinewidth\": 2}, \"yaxis\": {\"automargin\": true, \"gridcolor\": \"white\", \"linecolor\": \"white\", \"ticks\": \"\", \"title\": {\"standoff\": 15}, \"zerolinecolor\": \"white\", \"zerolinewidth\": 2}}}, \"title\": {\"font\": {\"size\": 30}, \"text\": \"Top Fields from United States in 2017\", \"x\": 0, \"xanchor\": \"left\", \"y\": 0.9, \"yanchor\": \"top\"}, \"xaxis\": {\"title\": {\"text\": \"Number of publications\"}}, \"yaxis\": {\"title\": {\"text\": \"Fields\"}}},\n",
              "                        {\"responsive\": true}\n",
              "                    ).then(function(){\n",
              "                            \n",
              "var gd = document.getElementById('22313cb6-17dc-4c52-98de-7a11e757bb33');\n",
              "var x = new MutationObserver(function (mutations, observer) {{\n",
              "        var display = window.getComputedStyle(gd).display;\n",
              "        if (!display || display === 'none') {{\n",
              "            console.log([gd, 'removed!']);\n",
              "            Plotly.purge(gd);\n",
              "            observer.disconnect();\n",
              "        }}\n",
              "}});\n",
              "\n",
              "// Listen for the removal of the full notebook cells\n",
              "var notebookContainer = gd.closest('#notebook-container');\n",
              "if (notebookContainer) {{\n",
              "    x.observe(notebookContainer, {childList: true});\n",
              "}}\n",
              "\n",
              "// Listen for the clearing of the current output cell\n",
              "var outputEl = gd.closest('.output');\n",
              "if (outputEl) {{\n",
              "    x.observe(outputEl, {childList: true});\n",
              "}}\n",
              "\n",
              "                        })\n",
              "                };\n",
              "                \n",
              "            </script>\n",
              "        </div>\n",
              "</body>\n",
              "</html>"
            ]
          },
          "metadata": {
            "tags": []
          }
        }
      ]
    },
    {
      "cell_type": "code",
      "metadata": {
        "id": "VM33u23Cb_Iw",
        "colab_type": "code",
        "cellView": "form",
        "colab": {
          "base_uri": "https://localhost:8080/",
          "height": 542
        },
        "outputId": "efcde91d-c6e7-48c0-f5d4-1869f4c0918a"
      },
      "source": [
        "#@title ##### Country Analysis\n",
        "Country = \"China\" #@param {type:\"string\"}\n",
        "Year = \"2017\" #@param {type:\"string\"}\n",
        "Field = \"Computer Vision\" #@param {type:\"string\"}\n",
        "Field = Field.lower()\n",
        "Year = int(Year)\n",
        "d = df_c[df_c['Country']==Country]\n",
        "d = d[d['Date']==Year]\n",
        "d = d[d['Field_of_study']==Field]\n",
        "d1 = d[['Affiliation','Publication_Count']].groupby('Affiliation').agg('sum').sort_values('Publication_Count',ascending=False).head(10)\n",
        "d1 = d1.sort_values('Publication_Count')\n",
        "fig = go.Figure([go.Bar(y=list(d1.index), x=d1['Publication_Count'],orientation='h')])\n",
        "fig.add_layout_image(\n",
        "    dict(\n",
        "        source=\"https://pbs.twimg.com/profile_images/928845333349543937/xzRkcN08.jpg\",\n",
        "        xref=\"paper\", yref=\"paper\",\n",
        "        x=-0.1, y=-0.26,\n",
        "        sizex=0.23, sizey=0.23,\n",
        "        xanchor=\"left\", yanchor=\"bottom\"\n",
        "    )\n",
        ")\n",
        "\n",
        "fig.update_layout(\n",
        "    title = {\n",
        "        'text': 'Top Affiliations from {} in {} in {}'.format(Country,Field,Year),\n",
        "        'y':0.9,\n",
        "        'x':0,\n",
        "        'xanchor': 'left',\n",
        "        'yanchor': 'top'},\n",
        "        titlefont= {\n",
        "            \"size\": 30,\n",
        "            \n",
        "        },\n",
        "    yaxis_title = \"Affiliations\",\n",
        "    xaxis_title = f\"Number of publications in {Field}\"\n",
        ")\n",
        "fig.show()\n",
        "\n"
      ],
      "execution_count": null,
      "outputs": [
        {
          "output_type": "display_data",
          "data": {
            "text/html": [
              "<html>\n",
              "<head><meta charset=\"utf-8\" /></head>\n",
              "<body>\n",
              "    <div>\n",
              "            <script src=\"https://cdnjs.cloudflare.com/ajax/libs/mathjax/2.7.5/MathJax.js?config=TeX-AMS-MML_SVG\"></script><script type=\"text/javascript\">if (window.MathJax) {MathJax.Hub.Config({SVG: {font: \"STIX-Web\"}});}</script>\n",
              "                <script type=\"text/javascript\">window.PlotlyConfig = {MathJaxConfig: 'local'};</script>\n",
              "        <script src=\"https://cdn.plot.ly/plotly-latest.min.js\"></script>    \n",
              "            <div id=\"8743b49d-9afd-481b-80d3-8cf012f90865\" class=\"plotly-graph-div\" style=\"height:525px; width:100%;\"></div>\n",
              "            <script type=\"text/javascript\">\n",
              "                \n",
              "                    window.PLOTLYENV=window.PLOTLYENV || {};\n",
              "                    \n",
              "                if (document.getElementById(\"8743b49d-9afd-481b-80d3-8cf012f90865\")) {\n",
              "                    Plotly.newPlot(\n",
              "                        '8743b49d-9afd-481b-80d3-8cf012f90865',\n",
              "                        [{\"orientation\": \"h\", \"type\": \"bar\", \"x\": [29, 33, 41, 47, 52, 53, 60, 64, 130, 184], \"y\": [\"Shanghai Jiao Tong University\", \"Dalian University of Technology\", \"Beihang University\", \"Sun Yat-sen University\", \"University of Science and Technology of China\", \"Zhejiang University\", \"Hong Kong University of Science and Technology\", \"Peking University\", \"Tsinghua University\", \"Chinese Academy of Sciences\"]}],\n",
              "                        {\"images\": [{\"sizex\": 0.23, \"sizey\": 0.23, \"source\": \"https://pbs.twimg.com/profile_images/928845333349543937/xzRkcN08.jpg\", \"x\": -0.1, \"xanchor\": \"left\", \"xref\": \"paper\", \"y\": -0.26, \"yanchor\": \"bottom\", \"yref\": \"paper\"}], \"template\": {\"data\": {\"bar\": [{\"error_x\": {\"color\": \"#2a3f5f\"}, \"error_y\": {\"color\": \"#2a3f5f\"}, \"marker\": {\"line\": {\"color\": \"#E5ECF6\", \"width\": 0.5}}, \"type\": \"bar\"}], \"barpolar\": [{\"marker\": {\"line\": {\"color\": \"#E5ECF6\", \"width\": 0.5}}, \"type\": \"barpolar\"}], \"carpet\": [{\"aaxis\": {\"endlinecolor\": \"#2a3f5f\", \"gridcolor\": \"white\", \"linecolor\": \"white\", \"minorgridcolor\": \"white\", \"startlinecolor\": \"#2a3f5f\"}, \"baxis\": {\"endlinecolor\": \"#2a3f5f\", \"gridcolor\": \"white\", \"linecolor\": \"white\", \"minorgridcolor\": \"white\", \"startlinecolor\": \"#2a3f5f\"}, \"type\": \"carpet\"}], \"choropleth\": [{\"colorbar\": {\"outlinewidth\": 0, \"ticks\": \"\"}, \"type\": \"choropleth\"}], \"contour\": [{\"colorbar\": {\"outlinewidth\": 0, \"ticks\": \"\"}, \"colorscale\": [[0.0, \"#0d0887\"], [0.1111111111111111, \"#46039f\"], [0.2222222222222222, \"#7201a8\"], [0.3333333333333333, \"#9c179e\"], [0.4444444444444444, \"#bd3786\"], [0.5555555555555556, \"#d8576b\"], [0.6666666666666666, \"#ed7953\"], [0.7777777777777778, \"#fb9f3a\"], [0.8888888888888888, \"#fdca26\"], [1.0, \"#f0f921\"]], \"type\": \"contour\"}], \"contourcarpet\": [{\"colorbar\": {\"outlinewidth\": 0, \"ticks\": \"\"}, \"type\": \"contourcarpet\"}], \"heatmap\": [{\"colorbar\": {\"outlinewidth\": 0, \"ticks\": \"\"}, \"colorscale\": [[0.0, \"#0d0887\"], [0.1111111111111111, \"#46039f\"], [0.2222222222222222, \"#7201a8\"], [0.3333333333333333, \"#9c179e\"], [0.4444444444444444, \"#bd3786\"], [0.5555555555555556, \"#d8576b\"], [0.6666666666666666, \"#ed7953\"], [0.7777777777777778, \"#fb9f3a\"], [0.8888888888888888, \"#fdca26\"], [1.0, \"#f0f921\"]], \"type\": \"heatmap\"}], \"heatmapgl\": [{\"colorbar\": {\"outlinewidth\": 0, \"ticks\": \"\"}, \"colorscale\": [[0.0, \"#0d0887\"], [0.1111111111111111, \"#46039f\"], [0.2222222222222222, \"#7201a8\"], [0.3333333333333333, \"#9c179e\"], [0.4444444444444444, \"#bd3786\"], [0.5555555555555556, \"#d8576b\"], [0.6666666666666666, \"#ed7953\"], [0.7777777777777778, \"#fb9f3a\"], [0.8888888888888888, \"#fdca26\"], [1.0, \"#f0f921\"]], \"type\": \"heatmapgl\"}], \"histogram\": [{\"marker\": {\"colorbar\": {\"outlinewidth\": 0, \"ticks\": \"\"}}, \"type\": \"histogram\"}], \"histogram2d\": [{\"colorbar\": {\"outlinewidth\": 0, \"ticks\": \"\"}, \"colorscale\": [[0.0, \"#0d0887\"], [0.1111111111111111, \"#46039f\"], [0.2222222222222222, \"#7201a8\"], [0.3333333333333333, \"#9c179e\"], [0.4444444444444444, \"#bd3786\"], [0.5555555555555556, \"#d8576b\"], [0.6666666666666666, \"#ed7953\"], [0.7777777777777778, \"#fb9f3a\"], [0.8888888888888888, \"#fdca26\"], [1.0, \"#f0f921\"]], \"type\": \"histogram2d\"}], \"histogram2dcontour\": [{\"colorbar\": {\"outlinewidth\": 0, \"ticks\": \"\"}, \"colorscale\": [[0.0, \"#0d0887\"], [0.1111111111111111, \"#46039f\"], [0.2222222222222222, \"#7201a8\"], [0.3333333333333333, \"#9c179e\"], [0.4444444444444444, \"#bd3786\"], [0.5555555555555556, \"#d8576b\"], [0.6666666666666666, \"#ed7953\"], [0.7777777777777778, \"#fb9f3a\"], [0.8888888888888888, \"#fdca26\"], [1.0, \"#f0f921\"]], \"type\": \"histogram2dcontour\"}], \"mesh3d\": [{\"colorbar\": {\"outlinewidth\": 0, \"ticks\": \"\"}, \"type\": \"mesh3d\"}], \"parcoords\": [{\"line\": {\"colorbar\": {\"outlinewidth\": 0, \"ticks\": \"\"}}, \"type\": \"parcoords\"}], \"pie\": [{\"automargin\": true, \"type\": \"pie\"}], \"scatter\": [{\"marker\": {\"colorbar\": {\"outlinewidth\": 0, \"ticks\": \"\"}}, \"type\": \"scatter\"}], \"scatter3d\": [{\"line\": {\"colorbar\": {\"outlinewidth\": 0, \"ticks\": \"\"}}, \"marker\": {\"colorbar\": {\"outlinewidth\": 0, \"ticks\": \"\"}}, \"type\": \"scatter3d\"}], \"scattercarpet\": [{\"marker\": {\"colorbar\": {\"outlinewidth\": 0, \"ticks\": \"\"}}, \"type\": \"scattercarpet\"}], \"scattergeo\": [{\"marker\": {\"colorbar\": {\"outlinewidth\": 0, \"ticks\": \"\"}}, \"type\": \"scattergeo\"}], \"scattergl\": [{\"marker\": {\"colorbar\": {\"outlinewidth\": 0, \"ticks\": \"\"}}, \"type\": \"scattergl\"}], \"scattermapbox\": [{\"marker\": {\"colorbar\": {\"outlinewidth\": 0, \"ticks\": \"\"}}, \"type\": \"scattermapbox\"}], \"scatterpolar\": [{\"marker\": {\"colorbar\": {\"outlinewidth\": 0, \"ticks\": \"\"}}, \"type\": \"scatterpolar\"}], \"scatterpolargl\": [{\"marker\": {\"colorbar\": {\"outlinewidth\": 0, \"ticks\": \"\"}}, \"type\": \"scatterpolargl\"}], \"scatterternary\": [{\"marker\": {\"colorbar\": {\"outlinewidth\": 0, \"ticks\": \"\"}}, \"type\": \"scatterternary\"}], \"surface\": [{\"colorbar\": {\"outlinewidth\": 0, \"ticks\": \"\"}, \"colorscale\": [[0.0, \"#0d0887\"], [0.1111111111111111, \"#46039f\"], [0.2222222222222222, \"#7201a8\"], [0.3333333333333333, \"#9c179e\"], [0.4444444444444444, \"#bd3786\"], [0.5555555555555556, \"#d8576b\"], [0.6666666666666666, \"#ed7953\"], [0.7777777777777778, \"#fb9f3a\"], [0.8888888888888888, \"#fdca26\"], [1.0, \"#f0f921\"]], \"type\": \"surface\"}], \"table\": [{\"cells\": {\"fill\": {\"color\": \"#EBF0F8\"}, \"line\": {\"color\": \"white\"}}, \"header\": {\"fill\": {\"color\": \"#C8D4E3\"}, \"line\": {\"color\": \"white\"}}, \"type\": \"table\"}]}, \"layout\": {\"annotationdefaults\": {\"arrowcolor\": \"#2a3f5f\", \"arrowhead\": 0, \"arrowwidth\": 1}, \"coloraxis\": {\"colorbar\": {\"outlinewidth\": 0, \"ticks\": \"\"}}, \"colorscale\": {\"diverging\": [[0, \"#8e0152\"], [0.1, \"#c51b7d\"], [0.2, \"#de77ae\"], [0.3, \"#f1b6da\"], [0.4, \"#fde0ef\"], [0.5, \"#f7f7f7\"], [0.6, \"#e6f5d0\"], [0.7, \"#b8e186\"], [0.8, \"#7fbc41\"], [0.9, \"#4d9221\"], [1, \"#276419\"]], \"sequential\": [[0.0, \"#0d0887\"], [0.1111111111111111, \"#46039f\"], [0.2222222222222222, \"#7201a8\"], [0.3333333333333333, \"#9c179e\"], [0.4444444444444444, \"#bd3786\"], [0.5555555555555556, \"#d8576b\"], [0.6666666666666666, \"#ed7953\"], [0.7777777777777778, \"#fb9f3a\"], [0.8888888888888888, \"#fdca26\"], [1.0, \"#f0f921\"]], \"sequentialminus\": [[0.0, \"#0d0887\"], [0.1111111111111111, \"#46039f\"], [0.2222222222222222, \"#7201a8\"], [0.3333333333333333, \"#9c179e\"], [0.4444444444444444, \"#bd3786\"], [0.5555555555555556, \"#d8576b\"], [0.6666666666666666, \"#ed7953\"], [0.7777777777777778, \"#fb9f3a\"], [0.8888888888888888, \"#fdca26\"], [1.0, \"#f0f921\"]]}, \"colorway\": [\"#636efa\", \"#EF553B\", \"#00cc96\", \"#ab63fa\", \"#FFA15A\", \"#19d3f3\", \"#FF6692\", \"#B6E880\", \"#FF97FF\", \"#FECB52\"], \"font\": {\"color\": \"#2a3f5f\"}, \"geo\": {\"bgcolor\": \"white\", \"lakecolor\": \"white\", \"landcolor\": \"#E5ECF6\", \"showlakes\": true, \"showland\": true, \"subunitcolor\": \"white\"}, \"hoverlabel\": {\"align\": \"left\"}, \"hovermode\": \"closest\", \"mapbox\": {\"style\": \"light\"}, \"paper_bgcolor\": \"white\", \"plot_bgcolor\": \"#E5ECF6\", \"polar\": {\"angularaxis\": {\"gridcolor\": \"white\", \"linecolor\": \"white\", \"ticks\": \"\"}, \"bgcolor\": \"#E5ECF6\", \"radialaxis\": {\"gridcolor\": \"white\", \"linecolor\": \"white\", \"ticks\": \"\"}}, \"scene\": {\"xaxis\": {\"backgroundcolor\": \"#E5ECF6\", \"gridcolor\": \"white\", \"gridwidth\": 2, \"linecolor\": \"white\", \"showbackground\": true, \"ticks\": \"\", \"zerolinecolor\": \"white\"}, \"yaxis\": {\"backgroundcolor\": \"#E5ECF6\", \"gridcolor\": \"white\", \"gridwidth\": 2, \"linecolor\": \"white\", \"showbackground\": true, \"ticks\": \"\", \"zerolinecolor\": \"white\"}, \"zaxis\": {\"backgroundcolor\": \"#E5ECF6\", \"gridcolor\": \"white\", \"gridwidth\": 2, \"linecolor\": \"white\", \"showbackground\": true, \"ticks\": \"\", \"zerolinecolor\": \"white\"}}, \"shapedefaults\": {\"line\": {\"color\": \"#2a3f5f\"}}, \"ternary\": {\"aaxis\": {\"gridcolor\": \"white\", \"linecolor\": \"white\", \"ticks\": \"\"}, \"baxis\": {\"gridcolor\": \"white\", \"linecolor\": \"white\", \"ticks\": \"\"}, \"bgcolor\": \"#E5ECF6\", \"caxis\": {\"gridcolor\": \"white\", \"linecolor\": \"white\", \"ticks\": \"\"}}, \"title\": {\"x\": 0.05}, \"xaxis\": {\"automargin\": true, \"gridcolor\": \"white\", \"linecolor\": \"white\", \"ticks\": \"\", \"title\": {\"standoff\": 15}, \"zerolinecolor\": \"white\", \"zerolinewidth\": 2}, \"yaxis\": {\"automargin\": true, \"gridcolor\": \"white\", \"linecolor\": \"white\", \"ticks\": \"\", \"title\": {\"standoff\": 15}, \"zerolinecolor\": \"white\", \"zerolinewidth\": 2}}}, \"title\": {\"font\": {\"size\": 30}, \"text\": \"Top Affiliations from China in computer vision in 2017\", \"x\": 0, \"xanchor\": \"left\", \"y\": 0.9, \"yanchor\": \"top\"}, \"xaxis\": {\"title\": {\"text\": \"Number of publications in computer vision\"}}, \"yaxis\": {\"title\": {\"text\": \"Affiliations\"}}},\n",
              "                        {\"responsive\": true}\n",
              "                    ).then(function(){\n",
              "                            \n",
              "var gd = document.getElementById('8743b49d-9afd-481b-80d3-8cf012f90865');\n",
              "var x = new MutationObserver(function (mutations, observer) {{\n",
              "        var display = window.getComputedStyle(gd).display;\n",
              "        if (!display || display === 'none') {{\n",
              "            console.log([gd, 'removed!']);\n",
              "            Plotly.purge(gd);\n",
              "            observer.disconnect();\n",
              "        }}\n",
              "}});\n",
              "\n",
              "// Listen for the removal of the full notebook cells\n",
              "var notebookContainer = gd.closest('#notebook-container');\n",
              "if (notebookContainer) {{\n",
              "    x.observe(notebookContainer, {childList: true});\n",
              "}}\n",
              "\n",
              "// Listen for the clearing of the current output cell\n",
              "var outputEl = gd.closest('.output');\n",
              "if (outputEl) {{\n",
              "    x.observe(outputEl, {childList: true});\n",
              "}}\n",
              "\n",
              "                        })\n",
              "                };\n",
              "                \n",
              "            </script>\n",
              "        </div>\n",
              "</body>\n",
              "</html>"
            ]
          },
          "metadata": {
            "tags": []
          }
        }
      ]
    },
    {
      "cell_type": "code",
      "metadata": {
        "id": "3xW4UpydgwBV",
        "colab_type": "code",
        "cellView": "form",
        "colab": {
          "base_uri": "https://localhost:8080/",
          "height": 542
        },
        "outputId": "b08855c3-179e-4c26-aee5-52b738b56f2a"
      },
      "source": [
        "# @title ##### Maps \n",
        "Year = \"2019\" #@param {type:\"string\"}\n",
        "Field = \"Computer Vision\" #@param {type:\"string\"}\n",
        "Field = Field.lower()\n",
        "GeoScope = \"world\" #@param ['world', 'usa', 'europe', 'asia', 'africa', 'north america', 'south america']\n",
        "Year = int(Year)\n",
        "cc = pd.read_csv(f'{Folder_path}/maps.csv')\n",
        "d = cc\n",
        "d = d[d['Date']==Year]\n",
        "d = d[d['Field_of_study']==Field]\n",
        "d1 = d[['Affiliation','Publication_Count','lat','lng']].groupby(['Affiliation','lat','lng']).agg('sum').sort_values('Publication_Count',ascending=False)\n",
        "d1 = d1.sort_values('Publication_Count')\n",
        "d1 = d1.reset_index()\n",
        "\n",
        "fig = go.Figure(data=go.Scattergeo(\n",
        "        lon = d1['lng'],\n",
        "        lat = d1['lat'],\n",
        "        text = d1[['Affiliation','Publication_Count']],\n",
        "        mode = 'markers',\n",
        "         marker = dict(\n",
        "            size = d1['Publication_Count']*1,\n",
        "            line_color='rgb(40,40,40)',\n",
        "            line_width=0.5,\n",
        "            sizemode = 'area'\n",
        "        ),\n",
        "        ))\n",
        "\n",
        "fig.update_layout(\n",
        "        title = {\n",
        "        'text':'Affiliations in {} in {} in {}'.format(GeoScope,Field,Year),\n",
        "        'y':0.9,\n",
        "        'x':0,\n",
        "        'xanchor': 'left',\n",
        "        'yanchor': 'top'},\n",
        "        titlefont= {\n",
        "            \"size\": 30,\n",
        "            \n",
        "        },\n",
        "        geo_scope=GeoScope,\n",
        "    )\n",
        "fig.show()"
      ],
      "execution_count": null,
      "outputs": [
        {
          "output_type": "display_data",
          "data": {
            "text/html": [
              "<html>\n",
              "<head><meta charset=\"utf-8\" /></head>\n",
              "<body>\n",
              "    <div>\n",
              "            <script src=\"https://cdnjs.cloudflare.com/ajax/libs/mathjax/2.7.5/MathJax.js?config=TeX-AMS-MML_SVG\"></script><script type=\"text/javascript\">if (window.MathJax) {MathJax.Hub.Config({SVG: {font: \"STIX-Web\"}});}</script>\n",
              "                <script type=\"text/javascript\">window.PlotlyConfig = {MathJaxConfig: 'local'};</script>\n",
              "        <script src=\"https://cdn.plot.ly/plotly-latest.min.js\"></script>    \n",
              "            <div id=\"cb92c550-d8bc-4382-88bc-7e611a7132bf\" class=\"plotly-graph-div\" style=\"height:525px; width:100%;\"></div>\n",
              "            <script type=\"text/javascript\">\n",
              "                \n",
              "                    window.PLOTLYENV=window.PLOTLYENV || {};\n",
              "                    \n",
              "                if (document.getElementById(\"cb92c550-d8bc-4382-88bc-7e611a7132bf\")) {\n",
              "                    Plotly.newPlot(\n",
              "                        'cb92c550-d8bc-4382-88bc-7e611a7132bf',\n",
              "                        [{\"lat\": [41.023194, 39.112131, 30.0276, 40.25, 40.6, 43.254217, 51.522151, 48.463325, 38.903094, 35.705299, 39.868, 28.749947, 42.339788, 51.4843, 39.836958, 35.689121, 51.915685, 36.11143, 46.950519, 37.40358, 37.375294, 37.456601, 39.74086, 49.207535, 35.802222, 36.83286500000001, 59.942, 55.923121, 52.621667, 50.681667, 35.138252, 23.0388, 25.281645, 31.957087, 32.603374, 37.548783, 29.1373, 37.415229, 1.344439, 47.649493, 38.206389, 34.60352, 34.829274, 38.92230900000001, 32.058889, 39.137928, 40.818505, 39.902014, 59.25487, 48.857031, 37.397026, 32.536871000000005, -19.2677, 39.947546, 45.37896, 48.708589, -34.90262, -7.270592999999999, 43.657736, 35.718477, 36.071997, 51.40559, 39.328889, 28.673802, 34.689856, 48.567075, 40.994637, 35.742178, 40.537567, 44.809672, 47.798184, 53.403, 51.49814, 51.3796, 43.622222, 32.659975, 35.697474, 33.190627, 32.207221999999994, 32.0805, 52.04464, 24.485, 30.010713, 59.942195, 35.93333300000001, 32.616111, 41.406306, 52.766538, 53.887333, 25.043997, 52.156687, 44.833659, 26.936357, -12.068927, 52.22143300000001, 52.14, 29.639742, 30.56564, 37.546005, 23.158379, 23.1365, 41.788848, 35.51394000000001, 29.8139, 53.21944300000001, 39.910111, 10.402461, 29.720201, 47.55858, 58.1639, 38.998309000000006, 59.9486, 40.749542, 42.409829, 39.100909, 36.79945, 43.82497100000001, 8.626594, 35.875556, 1.28926, 26.73073, 30.289338, 33.658952, 44.024071, 35.136054, 25.651841, 34.678333, 22.640833, 45.45867, 39.75147800000001, 54.843611, 34.127699, 40.750768, 36.628904, 51.75518, 35.943575, 39.000443, 46.080833, 10.868925, 45.186593, 41.834103000000006, 50.93463, -31.980915000000003, 51.521111, 51.50021, 51.463889, 37.503611, 48.714293, 23.731547, 34.147644, 56.457222, 42.875861, 55.679722, 50.415553, 41.146467, 39.74327, 41.192492, 47.850664, 43.716429, 50.737341, -45.864893, 56.168159, 36.061225, 50.128695, 36.251264, 53.459444, 53.40711500000001, 52.393994, 40.001426, 42.337541, 37.3353, 48.826294, 23.726996, 53.800975, 41.041667, 47.2247, 43.646427, 2.992025, 50.712, 40.64798, 25.319375, 45.51133400000001, 39.791303000000006, -33.775259000000005, 51.517222, 37.632375, 39.776967, 50.375927, 41.834649, 35.628818, 38.918188, 30.34076, 55.660319, 22.319714, 29.862143, 22.500767, 31.794841, 50.060833, 28.545, 36.102917, 35.888935, 47.604342, 37.6201, 32.813889, 51.773163, 23.200276, 46.04222, 39.865518, 47.074022, 55.368611, 36.351266, 48.333889, 34.214662, 47.48, 65.0075, 39.991231, 46.109377, 31.290808, 32.18872, 33.948272, 51.901055, 48.310556, 42.801389, 44.808512, 44.797076, 61.496875, 43.594955, 59.939572, 35.857674, 32.067778000000004, 55.785797, 37.870116, 45.537942, 44.967466, 39.957222, 39.971996, 30.598943, 52.037778, 36.10779, 35.234066, -27.495964, 23.125657, 30.516194, 33.645602000000004, 35.160269, 42.359361, 12.934289, 59.671722, 30.413998, 38.035, 40.9861, 54.584596, 39.033547, 49.806892, 40.847222, 39.865432, 24.841146, 45.460989, 42.730393, 41.083556, 35.863056, 42.08925, -22.816827, 37.0, 41.142482, 41.901, 41.797473, 35.703864, 48.844952, 2.248889, 30.738611, 49.660176, 37.557813, 48.696111, 46.732165, 53.836944, 31.470422, 54.010747, 40.606714, 25.716939, 31.2035, 24.931792, 38.823889, 51.522023, 38.019583, 39.930847, 49.201542, 35.616667, -2.147953, 40.76496, 39.753855, 34.43907, 41.105545, 45.039837, 49.429444, 23.213724, 50.910783, 35.228256, 28.618666, 35.303556, 35.784384, 49.204444, 40.090034, 35.274875, 38.954586, 51.522118, 51.511419, 29.888889, 35.655833, 30.518009000000006, 38.892444, 51.222729, 40.864608, 45.063094, 39.00132, 40.5453, 39.87591, 30.625151, 40.482536, 35.106558, 41.389319, 39.678333, 34.730923, 34.607185, 28.180278, 40.684286, 51.877938, 53.807222, 29.534593, 38.832436, 39.891389, 51.046764, 32.762477000000004, 41.390292, 43.656723, 29.717674, 42.41411, 23.563862, 48.423364, 50.583291, 37.563069, 40.007367, 43.263333, 33.975556, 38.753228, 13.6523, 37.449444, 34.728056, 38.893285, -19.871904, 25.75744, 53.108611, 35.033417, 48.781667, 51.090873, 35.176389, 55.71079399999999, 30.29229, 37.355, 52.45055600000001, 40.63, 45.406389, 26.674594, 44.808956, 25.042063, 46.25, 55.713205, 40.21071, 31.849813, 40.59588400000001, 31.476017, 34.770375, 30.975926, 35.701389, 29.560259, 41.662952, 44.402919, 38.649033, 51.4877, 43.617067, 52.3942, 52.51194399999999, 50.813611, 39.969844, 31.318333000000006, 38.030989, 35.64953900000001, 52.242736, 42.273489, 53.945703, 43.704674, 48.580278, 40.000556, 33.901094, 32.841, 49.59788, 1.296906, 48.14277, 36.673611, 34.732652, 32.036006, 51.44861, 46.026193, 54.76517800000001, 45.436667, 33.894437, 39.171058, 48.854692, 41.386667, 31.482778000000003, 33.97034, 65.059167, 47.688993, 41.500278, 52.090165, 35.703468, 55.909257, -36.852304, 37.381082, 29.643902, 30.63016, 35.026156, 26.0768, 43.944847, 52.938067, 31.845516, 45.772222, 35.692461, 1.301821, 32.055927000000004, 23.038954, 39.02931, 41.875307, 39.13559, 40.798449, 40.443504, 1.299953, 31.228056, 45.4222, 52.379435, 52.133716, 35.573, 38.939179, 47.069599, 37.504151, 37.220008457305795, 37.595177, 28.054561, 52.245899, 38.54, 63.41944399999999, 17.447561, 33.626533, 25.013686, 53.467048, 45.518158, 36.06024, 37.978715, 33.64535, 35.154722, 44.631922, 36.379459, 42.024961, 55.944895, 53.406115, 43.084412, -37.9083, 35.60528, 47.648495, 46.069426, 41.641587, 50.855068, 47.976111, -38.1979, 60.186666, 53.228311, 45.504167, 42.377053, 41.70578, 26.512647, 34.822287, 19.133349, 40.73, 42.054853, 41.8262, 37.588224, 31.9075, 58.398061, 43.777883, 57.68833299999999, 45.478861, 53.52378, 34.414228, 44.493889, 37.362914, 51.524281, 46.049268, 42.3496, 52.204454, 50.780268, 41.90383900000001, 40.744906, 38.254167, 52.002794, 34.138577000000005, 22.283287, 44.974195, -35.27627000000001, 39.63582, 36.01414600000001, 30.675713, 24.793611, 42.339827, 48.83716, 40.914224, 44.563995, 49.419349, 31.297713, 52.355792, 40.8076, 28.6016, 47.993752, 33.417195, 55.68451700000001, 41.3020932, 39.111361, 32.7775, 22.312602, 39.982258, 48.842238, 40.344234, 31.281976, 37.55747, 30.610369, 51.243056, 49.260675, 23.151306, 39.103927, 34.12192, 48.525, 33.9975, 36.0031459157584, 12.992998, 42.38900200000001, 32.113387, 22.539256, 43.129425, 51.456389, 37.566031, 39.9598, 34.020509999999994, 59.34748, 39.679111, 43.472534, 31.177494, 47.374533, 24.795861, 37.590476, 51.5244721122865, 24.437328, 34.247222, 32.881, 42.723, 50.103738, -27.476833000000006, 45.746998, 42.44851, 34.243642, 28.234094, 49.01185, 34.072222, 22.336422, -33.88858, 35.905164, 49.278283, 32.056111, 30.508182, -35.2778, 30.536316, 25.016, 39.952458, 39.328889, 32.0333, -34.920656, 1.295556, 47.655537, 39.95777800000001, 35.709487, 39.98, 38.983048, 50.73388900000001, 48.141292, 31.822645, 43.77367, 46.519082, 1.344722, 43.661667, 23.0962, 38.874444, 22.336182, 33.775886, 35.713333, 30.263877, 31.201268, 51.4986, 39.987151, 51.7534358, 37.872162, 37.43, 22.304887, 39.999585, 37.460155, 42.35982, 40.443322, 39.908115, 47.37581], \"lon\": [29.046111, 117.349745, 31.210140000000006, -111.65, -74.15, -87.916628, -0.130236, -123.311751, 40.486822, 128.457091, 32.7487, 77.117028, -71.105189, -3.1649, 116.280456, 140.021342, 4.525846, 140.10383000000002, 7.438109, 127.160017, 126.63301, -122.175307, -84.175294, 16.594838, 51.393333, 127.178098, 30.299, -3.228087, 1.241667, 10.938889, 136.965351, 113.3692, 110.337283, 35.945781, -85.486078, -77.45394399999998, 119.641, -122.06265, 103.680292, -122.352164, 21.765, 112.420315, 113.550978, -77.227259, 118.754167, 34.155453, -73.928177, 116.273485, 15.247931, 2.349615, -122.143741, 35.853897, 146.80569, 116.322433, -71.929776, 2.163908, -56.17653000000001, 112.758437, -79.380178, 139.732565, 120.418916, -0.305933, -76.620278, 116.032727, 133.921428, 13.457020000000002, 29.066028000000006, 51.504112, -74.469775, -0.593338, 13.046132, -2.97, -0.10154, -2.3280000000000003, 3.861667, -16.926154, 139.761588, -117.30142, 118.721667, 118.765, 4.35875, 54.353, 30.98683, 10.715763, -84.31666700000002, 51.660556, 2.194659, -1.233786, -122.813722, 121.537847, 4.485037, 11.626141, 75.923582, -77.08022199999998, 21.014345, 11.643, 52.52675, 104.200257, 126.964522, 113.351198, 113.3496, -87.598702, -97.63092, 106.4129, 6.562966, 116.412526, -75.504683, -95.342244, 7.5836, 8.003428999999999, -104.861318, 10.7153, -73.96809499999998, -71.121941, 117.706818, 127.074802, 125.289777, 77.033725, -106.324167, 103.78856, 83.43328199999998, -81.437776, -111.953954, -92.466312, 136.97545, -100.289529, -82.839167, 120.595556, -73.640107, -105.22266299999998, 83.093611, -118.212349, -73.973743, 127.457518, -1.224579, 120.171556, -77.10239399999998, 13.211667000000002, 106.796258, 9.155566, -87.83350300000002, -1.39595, 115.819878, -0.128889, -2.5474900000000003, 7.006111, 15.086667000000002, 2.211313, 90.392497, 131.468751, -2.980278, -8.557551, 12.5725, -104.587953, -8.615786, -105.003115, -111.944468, 1.933976, 10.398687, -3.535159, 170.51468, 10.20298, 120.335199, 8.691707000000001, 137.978303, -2.225278, -2.591332, -0.7210260000000001, 116.345536, -71.10550699999997, -121.8813, 2.346417, 90.392858, -1.612265, 29.009444, 39.7286, -79.385301, 101.716237, -1.301, 15.808643, 51.52797, -122.682699, 30.499016, 151.112915, -0.173056, 127.078025, -86.168582, -4.139291, -87.626577, 140.103486, 121.560993, 78.044024, 12.591505, 87.30996400000002, 77.896724, 88.36820300000002, 35.24138, 19.932778, 77.192222, 129.388704, 128.61026, -122.32313, 127.056, 130.728056, 11.142946, 113.289846, 14.488254, 32.735689, 15.454898000000002, 10.428056, 127.300482, 10.898333, 117.285224, -0.6013890000000001, 25.518611, 116.350741, 7.08444, 121.551868, 34.887679, -83.37734300000002, -8.463643, 16.261111, -1.659722, -0.596748, 10.30867, 23.77906, 1.451546, 10.719175, 128.485571, 34.8425, 12.521533, -122.27137, 10.21837, -93.241825, 116.3625, 116.421077, 114.34243, 8.493056, -115.14376, 129.07918999999998, 153.009627, 113.28713700000002, 114.403611, 72.990324, 33.376975, -83.066567, 77.53432600000002, 10.766356, -91.181032, -78.505, 29.0536, -5.93406, -94.575578, -97.138343, 14.256944, 116.352834, 102.826266, 9.194592, -73.678814, 29.050598, 139.6075, -75.96989, -47.069742, -122.06, 24.890459, 12.5126, 123.456567, 51.35158300000001, 2.339193, 102.276944, 104.141944, 6.134009, 127.000775, 6.176667, -117.154443, 10.705833, 74.41075, -2.790304, -75.381373, -80.275775, 121.4143, 67.112646, -77.0225, -0.154609, -1.169259, 116.207192, 16.603614, 139.377222, -79.964703, -111.84215, 30.48813, 132.416602, 29.024911, 7.668069999999998, 7.751944, 72.68461500000002, 8.026644000000001, 126.841193, 77.211827, -80.732381, -78.68278199999997, 8.108611, 116.309776, 137.013808, -95.25585, -0.083351, -0.116727, -97.938889, 139.544167, 114.363627, -104.797093, 4.40843, -72.873071, 7.661075, -77.10457099999998, -3.69611, 116.48207, 114.369865, -3.361151, 136.982932, 2.116325, -104.962222, 135.545971, 119.221891, 112.952778, -111.869953, 0.947196, -1.551667, 106.605262, -77.30806899999997, 32.784721999999995, 3.727875, 35.020891, 2.189926, -79.390178, -95.401842, -83.137922, 120.472963, 9.953214, 5.559053, 126.946743, -105.265255, -79.91888900000002, -117.331111, -9.156779, 100.493829, 126.654444, 135.234722, -77.085389, -43.966248, -80.37328199999997, 8.853611, 135.723261, 9.175278, 71.3981, 126.908056, 37.577814, 120.166348, -5.938, -1.930556, 22.958056, 11.877446, 91.812509, -0.590216, 121.616743, 20.1465, 13.193537, -8.42458, 117.295229, -3.688175, 74.34227800000002, 135.508147, 76.53699999999998, 139.765278, 106.454192, -91.554921, 8.958889, -90.31085, -3.179, 13.51269, 16.9183, 13.326389, 12.929167, 116.318803, 121.387222, -84.504485, 139.743067, 6.853264, -71.80735, -1.056188, -72.288714, 7.764444, 116.326111, 35.48153, -96.784, 11.004508, 103.852097, 11.528103, 117.05388899999998, 135.73389699999998, 118.813808, 5.49071, 8.918481, -1.578224, 11.003611, 130.839204, -86.51388, 2.33781, 2.163889, 120.277581, -6.874494, 25.466111, 9.187006, 2.107778, 5.122601, 51.395198, -3.319783, 174.76773400000005, -5.991016, -82.354951, 104.09001, 135.779792, 119.266531, -78.891703, -1.196703, 117.251596, 126.675, 139.758103, 103.781565, 118.794254, 113.39608, -76.964283, -87.6579, -77.215733, -77.85992900000002, -79.961522, 103.787643, 121.4, -75.6824, -1.561502, -106.632388, 129.19, -92.331858, 15.451495, 126.956943, -80.4240846633911, 126.998036, -82.41305799999998, 20.940232, -121.75, 10.4025, 78.3482, 130.424658, 121.540535, -2.233884, 9.213232, 140.1331, 23.782653, -117.842642, 136.96694399999998, 10.944234, 127.333864, -93.649555, -3.189284, -2.965604, -77.674949, 145.138, 139.682586, -122.331699, 11.121117, -0.8983540000000001, 7.119569, 16.508611, 144.2973, 24.827682, -0.550374, -73.574722, -71.11665699999998, -86.235682, 80.232881, 135.524447, 72.911208, -73.995, -87.67394499999997, -71.4032, 126.993607, 34.809166999999995, 15.574119, 11.259733, 11.976667, 9.228206, -113.529066, -119.849119, 11.342778, -120.43008799999998, -0.040395, 14.505099, -71.0997, 0.114908, 6.0656550000000005, 12.514438, -74.023937, 140.873611, 4.370898, -118.125494, 114.137074, -93.22776, 149.14611399999995, -79.95453, 129.323163, 104.100275, 120.992778, -71.08918299999998, 2.103484, -73.11623, -123.279465, 8.670238000000001, 121.503607, 4.954782, -73.96239, -81.2005, 7.845917999999998, -111.936511, 37.340343, -72.9306542, 117.174822, 35.021667, 39.11047, -75.154593, 2.345158, -74.65146899999998, 121.506193, 127.045311, -96.344056, -0.589444, -123.24608, 113.34463999999998, 117.17413700000002, 108.841418, 9.059, -81.025278, -78.92689704895021, 80.236802, -72.526712, 34.802156, 113.933684, -77.621883, -2.604444, 126.93854, 116.352, -118.28563, 18.073526, -75.752167, -80.54487900000002, 121.592409, 8.55097, 120.984766, 127.02679, -0.133981704711914, 118.100301, 108.979167, -117.238, -84.48100000000002, 14.391456, 153.028404, 126.630692, -76.47861999999998, 108.913782, 113.011978, 8.416644, -118.444097, 114.172989, 151.187304, -79.046945, -122.919904, 118.775, 114.41473899999998, 149.1205, 114.364311, 121.536, -75.193225, -76.620278, 118.851922, 138.605756, 103.776667, -122.303531, 116.308333, 139.720783, 116.340833, -76.941867, 7.102222, 11.581925, 117.280697, -79.501889, 6.566747, 103.681389, -79.395, 113.298056, 121.533611, 114.265122, -84.39629599999998, 139.762222, 120.123418, 121.432777, -0.175478, 116.305853, -1.25400973048628, -122.258572, -122.17, 114.179185, 116.325414, 126.951894, -71.09210999999998, -79.94358299999998, 116.250658, 8.546482000000001], \"marker\": {\"line\": {\"color\": \"rgb(40,40,40)\", \"width\": 0.5}, \"size\": [1, 1, 1, 1, 1, 1, 1, 1, 1, 1, 1, 1, 1, 1, 1, 1, 1, 1, 1, 1, 1, 1, 1, 1, 1, 1, 1, 1, 1, 1, 1, 1, 1, 1, 1, 1, 1, 1, 1, 1, 1, 1, 1, 1, 1, 1, 1, 1, 1, 1, 1, 1, 1, 1, 1, 1, 1, 1, 1, 1, 1, 1, 1, 1, 1, 1, 1, 1, 1, 1, 1, 1, 1, 1, 1, 1, 1, 1, 1, 1, 1, 1, 1, 1, 1, 1, 1, 1, 1, 1, 1, 1, 1, 1, 1, 1, 1, 1, 1, 1, 1, 1, 1, 1, 1, 1, 1, 1, 1, 1, 1, 1, 1, 1, 1, 1, 1, 1, 2, 2, 2, 2, 2, 2, 2, 2, 2, 2, 2, 2, 2, 2, 2, 2, 2, 2, 2, 2, 2, 2, 2, 2, 2, 2, 2, 2, 2, 2, 2, 2, 2, 2, 2, 2, 2, 2, 2, 2, 2, 2, 2, 2, 2, 2, 2, 2, 2, 2, 2, 2, 2, 2, 2, 2, 2, 2, 2, 2, 2, 2, 2, 2, 2, 2, 2, 2, 2, 2, 2, 2, 2, 2, 2, 2, 2, 2, 2, 2, 2, 2, 2, 2, 2, 2, 2, 2, 2, 2, 2, 3, 3, 3, 3, 3, 3, 3, 3, 3, 3, 3, 3, 3, 3, 3, 3, 3, 3, 3, 3, 3, 3, 3, 3, 3, 3, 3, 3, 3, 3, 3, 3, 3, 3, 3, 3, 3, 3, 3, 3, 3, 3, 3, 3, 3, 3, 3, 3, 3, 3, 3, 3, 3, 3, 3, 3, 3, 3, 3, 3, 3, 3, 3, 3, 3, 3, 3, 4, 4, 4, 4, 4, 4, 4, 4, 4, 4, 4, 4, 4, 4, 4, 4, 4, 4, 4, 4, 4, 4, 4, 4, 4, 4, 4, 4, 4, 4, 4, 4, 4, 4, 4, 4, 4, 4, 4, 4, 4, 4, 4, 4, 4, 4, 5, 5, 5, 5, 5, 5, 5, 5, 5, 5, 5, 5, 5, 5, 5, 5, 5, 5, 5, 5, 5, 5, 5, 5, 6, 6, 6, 6, 6, 6, 6, 6, 6, 6, 6, 6, 6, 6, 6, 6, 6, 6, 6, 6, 6, 6, 6, 6, 6, 6, 6, 6, 6, 7, 7, 7, 7, 7, 7, 7, 7, 7, 7, 7, 7, 7, 7, 7, 7, 7, 7, 7, 7, 7, 8, 8, 8, 8, 8, 8, 8, 8, 8, 8, 8, 8, 8, 8, 8, 8, 8, 8, 8, 8, 8, 8, 8, 9, 9, 9, 9, 9, 9, 9, 9, 9, 9, 9, 9, 9, 9, 9, 9, 9, 10, 10, 10, 10, 10, 10, 10, 10, 10, 10, 10, 10, 11, 11, 11, 11, 11, 11, 11, 11, 11, 12, 12, 12, 12, 12, 12, 12, 12, 12, 13, 13, 13, 14, 14, 14, 14, 14, 14, 14, 14, 14, 14, 14, 15, 15, 15, 15, 16, 16, 16, 16, 16, 17, 17, 17, 17, 17, 17, 18, 18, 18, 18, 19, 19, 19, 19, 19, 19, 19, 20, 20, 21, 21, 21, 21, 22, 22, 22, 22, 22, 22, 22, 22, 22, 23, 23, 23, 24, 24, 24, 24, 24, 25, 25, 25, 25, 26, 27, 28, 28, 29, 29, 29, 29, 29, 30, 30, 31, 31, 33, 34, 35, 35, 36, 36, 36, 36, 37, 37, 37, 37, 38, 38, 38, 38, 39, 40, 40, 41, 41, 41, 42, 42, 43, 44, 44, 45, 45, 46, 48, 49, 50, 50, 51, 52, 53, 61, 62, 67, 68, 70, 71, 72, 76, 76, 76, 77, 79, 79, 80, 80, 81, 93, 97, 100, 101, 104, 104, 113, 113, 125, 137, 140, 157, 177, 201, 232, 267, 332], \"sizemode\": \"area\"}, \"mode\": \"markers\", \"text\": [[\"\\u00d6zye\\u011fin University\", 1], [\"Civil Aviation University of China\", 1], [\"Cairo University\", 1], [\"Brigham Young University\", 1], [\"College of Staten Island\", 1], [\"Concordia University Wisconsin\", 1], [\"Birkbeck, University of London\", 1], [\"University of Victoria\", 1], [\"Bing\\u00f6l University\", 1], [\"Daegu Gyeongbuk Institute of Science and Technology\", 1], [\"Bilkent University\", 1], [\"Delhi Technological University\", 1], [\"Beth Israel Deaconess Medical Center\", 1], [\"Cardiff Metropolitan University\", 1], [\"Beijing Electronic Science and Technology Institute\", 1], [\"Chiba Institute of Technology\", 1], [\"Erasmus University Rotterdam\", 1], [\"University of Tsukuba\", 1], [\"University of Bern\", 1], [\"Korea Electronics Technology Institute\", 1], [\"Incheon National University\", 1], [\"SRI International\", 1], [\"University of Dayton\", 1], [\"University of Defence\", 1], [\"Shahid Beheshti University\", 1], [\"Sangmyung University\", 1], [\"Saint Petersburg State University\", 1], [\"Edinburgh Napier University\", 1], [\"University of East Anglia\", 1], [\"Ilmenau University of Technology\", 1], [\"Chukyo University\", 1], [\"Guangzhou University\", 1], [\"Guilin University of Electronic Technology\", 1], [\"Applied Science Private University\", 1], [\"Auburn University\", 1], [\"Virginia Commonwealth University\", 1], [\"Zhejiang Normal University\", 1], [\"Ames Research Center\", 1], [\"Fraunhofer Singapore\", 1], [\"Allen Institute for Brain Science\", 1], [\"Hellenic Open University\", 1], [\"Henan University of Science and Technology\", 1], [\"Henan University of Technology\", 1], [\"Center for Excellence in Education\", 1], [\"Hohai University\", 1], [\"Ahi Evran University\", 1], [\"Hostos Community College\", 1], [\"Academy of Military Medical Sciences\", 1], [\"\\u00d6rebro University\", 1], [\"Gendarmerie Nationale\", 1], [\"Electric Power Research Institute\", 1], [\"Yarmouk University\", 1], [\"Australian Institute of Marine Science\", 1], [\"China Academy of Space Technology\", 1], [\"Universit\\u00e9 de Sherbrooke\", 1], [\"CentraleSup\\u00e9lec\", 1], [\"University of the Republic\", 1], [\"Airlangga University\", 1], [\"Ryerson University\", 1], [\"Ochanomizu University\", 1], [\"Qingdao University\", 1], [\"Kingston University\", 1], [\"Johns Hopkins University School of Medicine\", 1], [\"Jiangxi Normal University\", 1], [\"Okayama University\", 1], [\"University of Passau\", 1], [\"Istanbul Medeniyet University\", 1], [\"Iran University of Science and Technology\", 1], [\"Institute of Electrical and Electronics Engineers\", 1], [\"Institut de Math\\u00e9matiques de Bordeaux\", 1], [\"University of Salzburg\", 1], [\"Liverpool John Moores University\", 1], [\"London South Bank University\", 1], [\"University of Bath\", 1], [\"University of Montpellier\", 1], [\"Madeira Tecnopolo\", 1], [\"Meiji University\", 1], [\"MiraCosta College\", 1], [\"Nanjing University of Information Science and Technology\", 1], [\"Nanjing University of Posts and Telecommunications\", 1], [\"Netherlands Forensic Institute\", 1], [\"New York University Abu Dhabi\", 1], [\"Nile University\", 1], [\"Norwegian Institute for Water Research\", 1], [\"Oak Ridge National Laboratory\", 1], [\"University of Isfahan\", 1], [\"Open University of Catalonia\", 1], [\"Loughborough University\", 1], [\"University of Northern British Columbia\", 1], [\"National Taipei University of Technology\", 1], [\"Leiden University\", 1], [\"University of Ferrara\", 1], [\"LNM Institute of Information Technology\", 1], [\"Pontifical Catholic University of Peru\", 1], [\"Polish Academy of Sciences\", 1], [\"Otto-von-Guericke University Magdeburg\", 1], [\"Shiraz University\", 1], [\"Sichuan Normal University\", 1], [\"Sookmyung Women's University\", 1], [\"South China Agricultural University\", 1], [\"South China Normal University\", 1], [\"University of Chicago\", 1], [\"Southern Nazarene University\", 1], [\"Southwest University\", 1], [\"University of Groningen\", 1], [\"State Administration of Cultural Heritage\", 1], [\"University of Cartagena\", 1], [\"University of Houston\", 1], [\"University of Basel\", 1], [\"University of Agder\", 1], [\"United States Air Force Academy\", 1], [\"Oslo University Hospital\", 1], [\"United Nations\", 1], [\"Tufts University\", 1], [\"Tianjin University of Technology\", 1], [\"Sun Moon University\", 1], [\"Jilin University\", 1], [\"Indian Institute of Space Science and Technology\", 1], [\"Los Alamos National Laboratory\", 2], [\"DSO National Laboratories\", 2], [\"Madan Mohan Malaviya University of Technology\", 2], [\"Mayo Clinic\", 2], [\"Mayo Clinic\", 2], [\"Mayo Clinic\", 2], [\"Meijo University\", 2], [\"Monterrey Institute of Technology and Higher Education\", 2], [\"Clemson University\", 2], [\"National Pingtung University of Science and Technology\", 2], [\"Concordia University\", 2], [\"Colorado School of Mines\", 2], [\"Novosibirsk State University\", 2], [\"Occidental College\", 2], [\"City University of New York\", 2], [\"Chungbuk National University\", 2], [\"Oxford Brookes University\", 2], [\"China University of Petroleum\", 2], [\"National Institutes of Health\", 2], [\"University of Udine\", 2], [\"Vietnam National University, Ho Chi Minh City\", 2], [\"University of Pavia\", 2], [\"Chicago Zoological Society\", 2], [\"University of Southampton\", 2], [\"University of Western Australia\", 2], [\"University of London\", 2], [\"University of the West of England\", 2], [\"University of Duisburg-Essen\", 2], [\"University of Catania\", 2], [\"\\u00c9cole Polytechnique\", 2], [\"University of Dhaka\", 2], [\"Yamaguchi University\", 2], [\"University of Dundee\", 2], [\"University of Santiago de Compostela\", 2], [\"University of Copenhagen\", 2], [\"University of Regina\", 2], [\"University of Porto\", 2], [\"University of Colorado Denver\", 2], [\"Weber State University\", 2], [\"University of Orl\\u00e9ans\", 2], [\"University of Pisa\", 2], [\"University of Exeter\", 2], [\"University of Otago\", 2], [\"Aarhus University\", 2], [\"Ocean University of China\", 2], [\"Frankfurt University of Applied Sciences\", 2], [\"Shinshu University\", 2], [\"St Mary's Hospital\", 2], [\"St Mary's Hospital\", 2], [\"St Mary's Hospital\", 2], [\"Beijing Forestry University\", 2], [\"Boston Children's Hospital\", 2], [\"San Jose State University\", 2], [\"T\\u00e9l\\u00e9com ParisTech\", 2], [\"Bangladesh University of Engineering and Technology\", 2], [\"St Mary's Hospital\", 2], [\"Bah\\u00e7e\\u015fehir University\", 2], [\"Southern Federal University\", 2], [\"Royal Bank of Canada\", 2], [\"Universiti Putra Malaysia\", 2], [\"St Mary's Hospital\", 2], [\"University of Basilicata\", 2], [\"Qatar Computing Research Institute\", 2], [\"Portland State University\", 2], [\"Anadolu University\", 2], [\"Macquarie University\", 2], [\"St Mary's Hospital\", 2], [\"Seoul National University of Science and Technology\", 2], [\"Indiana University \\u2013 Purdue University Indianapolis\", 2], [\"Plymouth University\", 2], [\"Illinois Institute of Technology\", 2], [\"Chiba University\", 2], [\"Liaoning Normal University\", 2], [\"Indian Institute of Remote Sensing\", 2], [\"IT University of Copenhagen\", 2], [\"Indian Institute of Technology Kharagpur\", 2], [\"Indian Institute of Technology Roorkee\", 2], [\"Jadavpur University\", 2], [\"Hebrew University of Jerusalem\", 2], [\"Jagiellonian University\", 2], [\"Indian Institute of Technology Delhi\", 2], [\"Handong Global University\", 2], [\"Kyungpook National University\", 2], [\"Harborview Medical Center\", 2], [\"Kwangwoon University\", 2], [\"Kumamoto University\", 2], [\"Julius K\\u00fchn-Institut\", 2], [\"Guangdong University of Foreign Studies\", 2], [\"Jo\\u017eef Stefan Institute\", 2], [\"Hacettepe University\", 2], [\"Joanneum Research\", 2], [\"University of Southern Denmark\", 3], [\"Hanbat National University\", 3], [\"University of Augsburg\", 3], [\"China University of Mining and Technology\", 3], [\"University of Angers\", 3], [\"Oulu University Hospital\", 3], [\"China University of Geosciences\", 3], [\"Idiap Research Institute\", 3], [\"University of Shanghai for Science and Technology\", 3], [\"Open University of Israel\", 3], [\"University of Georgia\", 3], [\"United Technologies Research Center\", 3], [\"Institute of Science and Technology Austria\", 3], [\"University of Navarra\", 3], [\"Laboratoire Bordelais de Recherche en Informatique\", 3], [\"University of Parma\", 3], [\"Tampere University\", 3], [\"University of Toulouse\", 3], [\"University of Oslo\", 3], [\"Keimyung University\", 3], [\"Bar-Ilan University\", 3], [\"Technical University of Denmark\", 3], [\"International Computer Science Institute\", 3], [\"University of Brescia\", 3], [\"Augsburg College\", 3], [\"Beijing Normal University\", 3], [\"Beijing University of Chemical Technology\", 3], [\"Wuhan University of Technology\", 3], [\"Bielefeld University\", 3], [\"University of Nevada, Las Vegas\", 3], [\"Pusan National University\", 3], [\"University of Queensland\", 3], [\"Guangdong General Hospital\", 3], [\"China University of Geosciences\", 3], [\"National University of Sciences and Technology\", 3], [\"University of Cyprus\", 3], [\"Wayne State University\", 3], [\"PES University\", 3], [\"Norwegian University of Life Sciences\", 3], [\"Louisiana State University\", 3], [\"University of Virginia\", 3], [\"Marmara University\", 3], [\"Queen's University Belfast\", 3], [\"University of Missouri\\u2013Kansas City\", 3], [\"University of Manitoba\", 3], [\"University of Naples Federico II\", 3], [\"Capital Medical University\", 3], [\"Yunnan University\", 3], [\"University of Milan\", 3], [\"Rensselaer Polytechnic Institute\", 3], [\"Bo\\u011fazi\\u00e7i University\", 3], [\"Saitama University\", 3], [\"Binghamton University\", 3], [\"State University of Campinas\", 3], [\"University of California, Santa Cruz\", 3], [\"Democritus University of Thrace\", 3], [\"National Research Council\", 3], [\"Shenyang Institute of Automation\", 3], [\"Sharif University of Technology\", 3], [\"Mines ParisTech\", 3], [\"Multimedia University\", 3], [\"Chengdu Research Base of Giant Panda Breeding\", 3], [\"University of Luxembourg\", 3], [\"Dongguk University\", 3], [\"University of Lorraine\", 3], [\"Washington State University\", 3], [\"University of L\\u00fcbeck\", 3], [\"Lahore University of Management Sciences\", 4], [\"Lancaster University\", 4], [\"Lehigh University\", 4], [\"University of Miami\", 4], [\"Donghua University\", 4], [\"NED University of Engineering and Technology\", 4], [\"United States Naval Research Laboratory\", 4], [\"University of Westminster\", 4], [\"University of Murcia\", 4], [\"North China University of Technology\", 4], [\"Brno University of Technology\", 4], [\"Tokyo Metropolitan University\", 4], [\"Escuela Superior Politecnica del Litoral\", 4], [\"University of Utah\", 4], [\"Eski\\u015fehir Osmangazi University\", 4], [\"Hiroshima City University\", 4], [\"Istanbul Technical University\", 4], [\"Institute for Scientific Interchange\", 4], [\"German Research Centre for Artificial Intelligence\", 4], [\"Indian Institute of Technology Gandhinagar\", 4], [\"University of Siegen\", 4], [\"Gwangju Institute of Science and Technology\", 4], [\"Council of Scientific and Industrial Research\", 4], [\"University of North Carolina at Charlotte\", 4], [\"North Carolina State University\", 4], [\"University of Koblenz and Landau\", 4], [\"North China Electric Power University\", 4], [\"Chubu University\", 4], [\"University of Kansas\", 4], [\"Open Data Institute\", 4], [\"King's College London\", 4], [\"Texas State University\", 4], [\"University of Electro-Communications\", 4], [\"Central China Normal University\", 4], [\"University of Colorado Colorado Springs\", 4], [\"University of Antwerp\", 4], [\"Brookhaven National Laboratory\", 4], [\"Polytechnic University of Turin\", 4], [\"Center for Information Technology\", 4], [\"Autonomous University of Madrid\", 4], [\"Beijing University of Technology\", 4], [\"Wuhan University of Science and Technology\", 4], [\"University of Alcal\\u00e1\", 4], [\"Toyota Technological Institute\", 4], [\"Barcelona Supercomputing Center\", 4], [\"University of Denver\", 4], [\"Osaka Institute of Technology\", 5], [\"Huaihai Institute of Technology\", 5], [\"Hunan University\", 5], [\"Independence University\", 5], [\"University of Essex\", 5], [\"University of Leeds\", 5], [\"Chongqing University of Posts and Telecommunications\", 5], [\"George Mason University\", 5], [\"Middle East Technical University\", 5], [\"Ghent University\", 5], [\"University of Haifa\", 5], [\"Pompeu Fabra University\", 5], [\"Toronto Rehabilitation Institute\", 5], [\"Rice University\", 5], [\"University of Detroit Mercy\", 5], [\"National Chung Cheng University\", 5], [\"University of Ulm\", 5], [\"University of Li\\u00e8ge\", 5], [\"Ewha Womans University\", 5], [\"University of Colorado Boulder\", 5], [\"McMaster University\", 5], [\"University of California, Riverside\", 5], [\"University of Lisbon\", 5], [\"King Mongkut's University of Technology Thonburi\", 5], [\"Inha University\", 6], [\"Kobe University\", 6], [\"In-Q-Tel\", 6], [\"Universidade Federal de Minas Gerais\", 6], [\"Florida International University\", 6], [\"University of Bremen\", 6], [\"Ritsumeikan University\", 6], [\"University of Stuttgart\", 6], [\"Nazarbayev University\", 6], [\"Chonnam National University\", 6], [\"Russian Academy of Sciences\", 6], [\"Zhejiang University of Technology\", 6], [\"Pablo de Olavide University\", 6], [\"University of Birmingham\", 6], [\"Aristotle University of Thessaloniki\", 6], [\"University of Padua\", 6], [\"University of Science and Technology\", 6], [\"University of Bordeaux\", 6], [\"Academia Sinica\", 6], [\"University of Szeged\", 6], [\"Lund University\", 6], [\"University of Coimbra\", 6], [\"Hefei University of Technology\", 6], [\"Spanish National Research Council\", 6], [\"Information Technology University\", 6], [\"Kansai University\", 6], [\"Indian Institute of Technology Ropar\", 6], [\"Tokyo Medical and Dental University\", 6], [\"Chongqing University\", 6], [\"University of Iowa\", 7], [\"University of Genoa\", 7], [\"Washington University in St. Louis\", 7], [\"Cardiff University\", 7], [\"Marche Polytechnic University\", 7], [\"Pozna\\u0144 University of Technology\", 7], [\"Technical University of Berlin\", 7], [\"Chemnitz University of Technology\", 7], [\"Renmin University of China\", 7], [\"Shanghai University\", 7], [\"University of Kentucky\", 7], [\"Keio University\", 7], [\"University of Twente\", 7], [\"Worcester Polytechnic Institute\", 7], [\"University of York\", 7], [\"Dartmouth College\", 7], [\"University of Strasbourg\", 7], [\"Beijing Jiaotong University\", 7], [\"American University of Beirut\", 7], [\"Southern Methodist University\", 7], [\"University of Erlangen-Nuremberg\", 7], [\"Singapore Management University\", 8], [\"Fraunhofer Society\", 8], [\"Shandong University\", 8], [\"Nara Institute of Science and Technology\", 8], [\"Nanjing University of Aeronautics and Astronautics\", 8], [\"Eindhoven University of Technology\", 8], [\"Dalle Molle Institute for Artificial Intelligence Research\", 8], [\"Durham University\", 8], [\"University of Verona\", 8], [\"Kyushu Institute of Technology\", 8], [\"Indiana University\", 8], [\"PSL Research University\", 8], [\"University of Barcelona\", 8], [\"Jiangnan University\", 8], [\"Centre national de la recherche scientifique\", 8], [\"University of Oulu\", 8], [\"University of Konstanz\", 8], [\"Autonomous University of Barcelona\", 8], [\"Utrecht University\", 8], [\"University of Tehran\", 8], [\"Heriot-Watt University\", 8], [\"University of Auckland\", 8], [\"University of Seville\", 8], [\"University of Florida\", 9], [\"Sichuan University\", 9], [\"Kyoto University\", 9], [\"Fuzhou University\", 9], [\"University of Ontario Institute of Technology\", 9], [\"University of Nottingham\", 9], [\"Anhui University\", 9], [\"Harbin Engineering University\", 9], [\"National Institute of Informatics\", 9], [\"Singapore University of Technology and Design\", 9], [\"Southeast University\", 9], [\"Guangdong University of Technology\", 9], [\"United States Army Research Laboratory\", 9], [\"University of Illinois at Chicago\", 9], [\"National Institute of Standards and Technology\", 9], [\"Pennsylvania State University\", 9], [\"University of Pittsburgh\", 9], [\"Agency for Science, Technology and Research\", 10], [\"East China Normal University\", 10], [\"University of Ottawa\", 10], [\"University of Warwick\", 10], [\"University of Saskatchewan\", 10], [\"Ulsan National Institute of Science and Technology\", 10], [\"University of Missouri\", 10], [\"Graz University of Technology\", 10], [\"Chung-Ang University\", 10], [\"Virginia Tech\", 10], [\"Korea Institute of Science and Technology\", 10], [\"University of South Florida\", 10], [\"Systems Research Institute\", 11], [\"University of California, Davis\", 11], [\"Norwegian University of Science and Technology\", 11], [\"International Institute of Information Technology, Hyderabad\", 11], [\"Kyushu University\", 11], [\"National Taiwan University of Science and Technology\", 11], [\"University of Manchester\", 11], [\"University of Milano-Bicocca\", 11], [\"National Institute of Advanced Industrial Science and Technology\", 11], [\"National Technical University of Athens\", 12], [\"University of California, Irvine\", 12], [\"Nagoya University\", 12], [\"University of Modena and Reggio Emilia\", 12], [\"Electronics and Telecommunications Research Institute\", 12], [\"Iowa State University\", 12], [\"University of Edinburgh\", 12], [\"University of Liverpool\", 12], [\"Rochester Institute of Technology\", 12], [\"Monash University\", 13], [\"Tokyo Institute of Technology\", 13], [\"Allen Institute for Artificial Intelligence\", 13], [\"University of Trento\", 14], [\"University of Zaragoza\", 14], [\"German Aerospace Center\", 14], [\"Austrian Institute of Technology\", 14], [\"Deakin University\", 14], [\"Aalto University\", 14], [\"University of Lincoln\", 14], [\"McGill University\", 14], [\"Harvard University\", 14], [\"University of Notre Dame\", 14], [\"Indian Institute of Technology Kanpur\", 14], [\"Osaka University\", 15], [\"Indian Institute of Technology Bombay\", 15], [\"New York University\", 15], [\"Northwestern University\", 15], [\"Brown University\", 16], [\"Sungkyunkwan University\", 16], [\"Weizmann Institute of Science\", 16], [\"Link\\u00f6ping University\", 16], [\"University of Florence\", 16], [\"Chalmers University of Technology\", 17], [\"Polytechnic University of Milan\", 17], [\"University of Alberta\", 17], [\"University of California, Santa Barbara\", 17], [\"University of Bologna\", 17], [\"University of California, Merced\", 17], [\"Queen Mary University of London\", 18], [\"University of Ljubljana\", 18], [\"Boston University\", 18], [\"University of Cambridge\", 18], [\"RWTH Aachen University\", 19], [\"Sapienza University of Rome\", 19], [\"Stevens Institute of Technology\", 19], [\"Tohoku University\", 19], [\"Delft University of Technology\", 19], [\"California Institute of Technology\", 19], [\"University of Hong Kong\", 19], [\"University of Minnesota\", 20], [\"Commonwealth Scientific and Industrial Research Organisation\", 20], [\"West Virginia University\", 21], [\"Pohang University of Science and Technology\", 21], [\"University of Electronic Science and Technology of China\", 21], [\"National Tsing Hua University\", 21], [\"Northeastern University\", 22], [\"French Institute for Research in Computer Science and Automation\", 22], [\"Stony Brook University\", 22], [\"Oregon State University\", 22], [\"Heidelberg University\", 22], [\"Fudan University\", 22], [\"University of Amsterdam\", 22], [\"Columbia University\", 22], [\"University of Central Florida\", 22], [\"University of Freiburg\", 23], [\"Arizona State University\", 23], [\"Skolkovo Institute of Science and Technology\", 23], [\"Yale University\", 24], [\"Tianjin University\", 24], [\"Technion \\u2013 Israel Institute of Technology\", 24], [\"King Abdullah University of Science and Technology\", 24], [\"Temple University\", 24], [\"\\u00c9cole Normale Sup\\u00e9rieure\", 25], [\"Princeton University\", 25], [\"Tongji University\", 25], [\"Hanyang University\", 25], [\"Texas A&M University\", 26], [\"University of Surrey\", 27], [\"University of British Columbia\", 28], [\"South China University of Technology\", 28], [\"Nankai University\", 29], [\"Xidian University\", 29], [\"University of T\\u00fcbingen\", 29], [\"University of South Carolina\", 29], [\"Duke University\", 29], [\"Indian Institute of Technology Madras\", 30], [\"University of Massachusetts Amherst\", 30], [\"Tel Aviv University\", 31], [\"Shenzhen University\", 31], [\"University of Rochester\", 33], [\"University of Bristol\", 34], [\"Yonsei University\", 35], [\"Beijing University of Posts and Telecommunications\", 35], [\"University of Southern California\", 36], [\"Royal Institute of Technology\", 36], [\"University of Delaware\", 36], [\"University of Waterloo\", 36], [\"ShanghaiTech University\", 37], [\"University of Zurich\", 37], [\"National Chiao Tung University\", 37], [\"Korea University\", 37], [\"University College London\", 38], [\"Xiamen University\", 38], [\"Xi'an Jiaotong University\", 38], [\"University of California, San Diego\", 38], [\"Michigan State University\", 39], [\"Czech Technical University in Prague\", 40], [\"Queensland University of Technology\", 40], [\"Harbin Institute of Technology\", 41], [\"Cornell University\", 41], [\"Northwestern Polytechnical University\", 41], [\"National University of Defense Technology\", 42], [\"Karlsruhe Institute of Technology\", 42], [\"University of California, Los Angeles\", 43], [\"City University of Hong Kong\", 44], [\"University of Sydney\", 44], [\"University of North Carolina at Chapel Hill\", 45], [\"Simon Fraser University\", 45], [\"Nanjing University\", 46], [\"Huazhong University of Science and Technology\", 48], [\"Australian National University\", 49], [\"Wuhan University\", 50], [\"National Taiwan University\", 50], [\"University of Pennsylvania\", 51], [\"Johns Hopkins University\", 52], [\"Nanjing University of Science and Technology\", 53], [\"University of Adelaide\", 61], [\"National University of Singapore\", 62], [\"University of Washington\", 67], [\"Beijing Institute of Technology\", 68], [\"Waseda University\", 70], [\"Beihang University\", 71], [\"University of Maryland, College Park\", 72], [\"University of Bonn\", 76], [\"Max Planck Society\", 76], [\"University of Science and Technology of China\", 76], [\"York University\", 77], [\"\\u00c9cole Polytechnique F\\u00e9d\\u00e9rale de Lausanne\", 79], [\"Nanyang Technological University\", 79], [\"University of Toronto\", 80], [\"Sun Yat-sen University\", 80], [\"Dalian University of Technology\", 81], [\"Hong Kong University of Science and Technology\", 93], [\"Georgia Institute of Technology\", 97], [\"University of Tokyo\", 100], [\"Zhejiang University\", 101], [\"Shanghai Jiao Tong University\", 104], [\"Imperial College London\", 104], [\"Peking University\", 113], [\"University of Oxford\", 113], [\"University of California, Berkeley\", 125], [\"Stanford University\", 137], [\"Hong Kong Polytechnic University\", 140], [\"Tsinghua University\", 157], [\"Seoul National University\", 177], [\"Massachusetts Institute of Technology\", 201], [\"Carnegie Mellon University\", 232], [\"Chinese Academy of Sciences\", 267], [\"ETH Zurich\", 332]], \"type\": \"scattergeo\"}],\n",
              "                        {\"geo\": {\"scope\": \"world\"}, \"template\": {\"data\": {\"bar\": [{\"error_x\": {\"color\": \"#2a3f5f\"}, \"error_y\": {\"color\": \"#2a3f5f\"}, \"marker\": {\"line\": {\"color\": \"#E5ECF6\", \"width\": 0.5}}, \"type\": \"bar\"}], \"barpolar\": [{\"marker\": {\"line\": {\"color\": \"#E5ECF6\", \"width\": 0.5}}, \"type\": \"barpolar\"}], \"carpet\": [{\"aaxis\": {\"endlinecolor\": \"#2a3f5f\", \"gridcolor\": \"white\", \"linecolor\": \"white\", \"minorgridcolor\": \"white\", \"startlinecolor\": \"#2a3f5f\"}, \"baxis\": {\"endlinecolor\": \"#2a3f5f\", \"gridcolor\": \"white\", \"linecolor\": \"white\", \"minorgridcolor\": \"white\", \"startlinecolor\": \"#2a3f5f\"}, \"type\": \"carpet\"}], \"choropleth\": [{\"colorbar\": {\"outlinewidth\": 0, \"ticks\": \"\"}, \"type\": \"choropleth\"}], \"contour\": [{\"colorbar\": {\"outlinewidth\": 0, \"ticks\": \"\"}, \"colorscale\": [[0.0, \"#0d0887\"], [0.1111111111111111, \"#46039f\"], [0.2222222222222222, \"#7201a8\"], [0.3333333333333333, \"#9c179e\"], [0.4444444444444444, \"#bd3786\"], [0.5555555555555556, \"#d8576b\"], [0.6666666666666666, \"#ed7953\"], [0.7777777777777778, \"#fb9f3a\"], [0.8888888888888888, \"#fdca26\"], [1.0, \"#f0f921\"]], \"type\": \"contour\"}], \"contourcarpet\": [{\"colorbar\": {\"outlinewidth\": 0, \"ticks\": \"\"}, \"type\": \"contourcarpet\"}], \"heatmap\": [{\"colorbar\": {\"outlinewidth\": 0, \"ticks\": \"\"}, \"colorscale\": [[0.0, \"#0d0887\"], [0.1111111111111111, \"#46039f\"], [0.2222222222222222, \"#7201a8\"], [0.3333333333333333, \"#9c179e\"], [0.4444444444444444, \"#bd3786\"], [0.5555555555555556, \"#d8576b\"], [0.6666666666666666, \"#ed7953\"], [0.7777777777777778, \"#fb9f3a\"], [0.8888888888888888, \"#fdca26\"], [1.0, \"#f0f921\"]], \"type\": \"heatmap\"}], \"heatmapgl\": [{\"colorbar\": {\"outlinewidth\": 0, \"ticks\": \"\"}, \"colorscale\": [[0.0, \"#0d0887\"], [0.1111111111111111, \"#46039f\"], [0.2222222222222222, \"#7201a8\"], [0.3333333333333333, \"#9c179e\"], [0.4444444444444444, \"#bd3786\"], [0.5555555555555556, \"#d8576b\"], [0.6666666666666666, \"#ed7953\"], [0.7777777777777778, \"#fb9f3a\"], [0.8888888888888888, \"#fdca26\"], [1.0, \"#f0f921\"]], \"type\": \"heatmapgl\"}], \"histogram\": [{\"marker\": {\"colorbar\": {\"outlinewidth\": 0, \"ticks\": \"\"}}, \"type\": \"histogram\"}], \"histogram2d\": [{\"colorbar\": {\"outlinewidth\": 0, \"ticks\": \"\"}, \"colorscale\": [[0.0, \"#0d0887\"], [0.1111111111111111, \"#46039f\"], [0.2222222222222222, \"#7201a8\"], [0.3333333333333333, \"#9c179e\"], [0.4444444444444444, \"#bd3786\"], [0.5555555555555556, \"#d8576b\"], [0.6666666666666666, \"#ed7953\"], [0.7777777777777778, \"#fb9f3a\"], [0.8888888888888888, \"#fdca26\"], [1.0, \"#f0f921\"]], \"type\": \"histogram2d\"}], \"histogram2dcontour\": [{\"colorbar\": {\"outlinewidth\": 0, \"ticks\": \"\"}, \"colorscale\": [[0.0, \"#0d0887\"], [0.1111111111111111, \"#46039f\"], [0.2222222222222222, \"#7201a8\"], [0.3333333333333333, \"#9c179e\"], [0.4444444444444444, \"#bd3786\"], [0.5555555555555556, \"#d8576b\"], [0.6666666666666666, \"#ed7953\"], [0.7777777777777778, \"#fb9f3a\"], [0.8888888888888888, \"#fdca26\"], [1.0, \"#f0f921\"]], \"type\": \"histogram2dcontour\"}], \"mesh3d\": [{\"colorbar\": {\"outlinewidth\": 0, \"ticks\": \"\"}, \"type\": \"mesh3d\"}], \"parcoords\": [{\"line\": {\"colorbar\": {\"outlinewidth\": 0, \"ticks\": \"\"}}, \"type\": \"parcoords\"}], \"pie\": [{\"automargin\": true, \"type\": \"pie\"}], \"scatter\": [{\"marker\": {\"colorbar\": {\"outlinewidth\": 0, \"ticks\": \"\"}}, \"type\": \"scatter\"}], \"scatter3d\": [{\"line\": {\"colorbar\": {\"outlinewidth\": 0, \"ticks\": \"\"}}, \"marker\": {\"colorbar\": {\"outlinewidth\": 0, \"ticks\": \"\"}}, \"type\": \"scatter3d\"}], \"scattercarpet\": [{\"marker\": {\"colorbar\": {\"outlinewidth\": 0, \"ticks\": \"\"}}, \"type\": \"scattercarpet\"}], \"scattergeo\": [{\"marker\": {\"colorbar\": {\"outlinewidth\": 0, \"ticks\": \"\"}}, \"type\": \"scattergeo\"}], \"scattergl\": [{\"marker\": {\"colorbar\": {\"outlinewidth\": 0, \"ticks\": \"\"}}, \"type\": \"scattergl\"}], \"scattermapbox\": [{\"marker\": {\"colorbar\": {\"outlinewidth\": 0, \"ticks\": \"\"}}, \"type\": \"scattermapbox\"}], \"scatterpolar\": [{\"marker\": {\"colorbar\": {\"outlinewidth\": 0, \"ticks\": \"\"}}, \"type\": \"scatterpolar\"}], \"scatterpolargl\": [{\"marker\": {\"colorbar\": {\"outlinewidth\": 0, \"ticks\": \"\"}}, \"type\": \"scatterpolargl\"}], \"scatterternary\": [{\"marker\": {\"colorbar\": {\"outlinewidth\": 0, \"ticks\": \"\"}}, \"type\": \"scatterternary\"}], \"surface\": [{\"colorbar\": {\"outlinewidth\": 0, \"ticks\": \"\"}, \"colorscale\": [[0.0, \"#0d0887\"], [0.1111111111111111, \"#46039f\"], [0.2222222222222222, \"#7201a8\"], [0.3333333333333333, \"#9c179e\"], [0.4444444444444444, \"#bd3786\"], [0.5555555555555556, \"#d8576b\"], [0.6666666666666666, \"#ed7953\"], [0.7777777777777778, \"#fb9f3a\"], [0.8888888888888888, \"#fdca26\"], [1.0, \"#f0f921\"]], \"type\": \"surface\"}], \"table\": [{\"cells\": {\"fill\": {\"color\": \"#EBF0F8\"}, \"line\": {\"color\": \"white\"}}, \"header\": {\"fill\": {\"color\": \"#C8D4E3\"}, \"line\": {\"color\": \"white\"}}, \"type\": \"table\"}]}, \"layout\": {\"annotationdefaults\": {\"arrowcolor\": \"#2a3f5f\", \"arrowhead\": 0, \"arrowwidth\": 1}, \"coloraxis\": {\"colorbar\": {\"outlinewidth\": 0, \"ticks\": \"\"}}, \"colorscale\": {\"diverging\": [[0, \"#8e0152\"], [0.1, \"#c51b7d\"], [0.2, \"#de77ae\"], [0.3, \"#f1b6da\"], [0.4, \"#fde0ef\"], [0.5, \"#f7f7f7\"], [0.6, \"#e6f5d0\"], [0.7, \"#b8e186\"], [0.8, \"#7fbc41\"], [0.9, \"#4d9221\"], [1, \"#276419\"]], \"sequential\": [[0.0, \"#0d0887\"], [0.1111111111111111, \"#46039f\"], [0.2222222222222222, \"#7201a8\"], [0.3333333333333333, \"#9c179e\"], [0.4444444444444444, \"#bd3786\"], [0.5555555555555556, \"#d8576b\"], [0.6666666666666666, \"#ed7953\"], [0.7777777777777778, \"#fb9f3a\"], [0.8888888888888888, \"#fdca26\"], [1.0, \"#f0f921\"]], \"sequentialminus\": [[0.0, \"#0d0887\"], [0.1111111111111111, \"#46039f\"], [0.2222222222222222, \"#7201a8\"], [0.3333333333333333, \"#9c179e\"], [0.4444444444444444, \"#bd3786\"], [0.5555555555555556, \"#d8576b\"], [0.6666666666666666, \"#ed7953\"], [0.7777777777777778, \"#fb9f3a\"], [0.8888888888888888, \"#fdca26\"], [1.0, \"#f0f921\"]]}, \"colorway\": [\"#636efa\", \"#EF553B\", \"#00cc96\", \"#ab63fa\", \"#FFA15A\", \"#19d3f3\", \"#FF6692\", \"#B6E880\", \"#FF97FF\", \"#FECB52\"], \"font\": {\"color\": \"#2a3f5f\"}, \"geo\": {\"bgcolor\": \"white\", \"lakecolor\": \"white\", \"landcolor\": \"#E5ECF6\", \"showlakes\": true, \"showland\": true, \"subunitcolor\": \"white\"}, \"hoverlabel\": {\"align\": \"left\"}, \"hovermode\": \"closest\", \"mapbox\": {\"style\": \"light\"}, \"paper_bgcolor\": \"white\", \"plot_bgcolor\": \"#E5ECF6\", \"polar\": {\"angularaxis\": {\"gridcolor\": \"white\", \"linecolor\": \"white\", \"ticks\": \"\"}, \"bgcolor\": \"#E5ECF6\", \"radialaxis\": {\"gridcolor\": \"white\", \"linecolor\": \"white\", \"ticks\": \"\"}}, \"scene\": {\"xaxis\": {\"backgroundcolor\": \"#E5ECF6\", \"gridcolor\": \"white\", \"gridwidth\": 2, \"linecolor\": \"white\", \"showbackground\": true, \"ticks\": \"\", \"zerolinecolor\": \"white\"}, \"yaxis\": {\"backgroundcolor\": \"#E5ECF6\", \"gridcolor\": \"white\", \"gridwidth\": 2, \"linecolor\": \"white\", \"showbackground\": true, \"ticks\": \"\", \"zerolinecolor\": \"white\"}, \"zaxis\": {\"backgroundcolor\": \"#E5ECF6\", \"gridcolor\": \"white\", \"gridwidth\": 2, \"linecolor\": \"white\", \"showbackground\": true, \"ticks\": \"\", \"zerolinecolor\": \"white\"}}, \"shapedefaults\": {\"line\": {\"color\": \"#2a3f5f\"}}, \"ternary\": {\"aaxis\": {\"gridcolor\": \"white\", \"linecolor\": \"white\", \"ticks\": \"\"}, \"baxis\": {\"gridcolor\": \"white\", \"linecolor\": \"white\", \"ticks\": \"\"}, \"bgcolor\": \"#E5ECF6\", \"caxis\": {\"gridcolor\": \"white\", \"linecolor\": \"white\", \"ticks\": \"\"}}, \"title\": {\"x\": 0.05}, \"xaxis\": {\"automargin\": true, \"gridcolor\": \"white\", \"linecolor\": \"white\", \"ticks\": \"\", \"title\": {\"standoff\": 15}, \"zerolinecolor\": \"white\", \"zerolinewidth\": 2}, \"yaxis\": {\"automargin\": true, \"gridcolor\": \"white\", \"linecolor\": \"white\", \"ticks\": \"\", \"title\": {\"standoff\": 15}, \"zerolinecolor\": \"white\", \"zerolinewidth\": 2}}}, \"title\": {\"font\": {\"size\": 30}, \"text\": \"Affiliations in world in computer vision in 2019\", \"x\": 0, \"xanchor\": \"left\", \"y\": 0.9, \"yanchor\": \"top\"}},\n",
              "                        {\"responsive\": true}\n",
              "                    ).then(function(){\n",
              "                            \n",
              "var gd = document.getElementById('cb92c550-d8bc-4382-88bc-7e611a7132bf');\n",
              "var x = new MutationObserver(function (mutations, observer) {{\n",
              "        var display = window.getComputedStyle(gd).display;\n",
              "        if (!display || display === 'none') {{\n",
              "            console.log([gd, 'removed!']);\n",
              "            Plotly.purge(gd);\n",
              "            observer.disconnect();\n",
              "        }}\n",
              "}});\n",
              "\n",
              "// Listen for the removal of the full notebook cells\n",
              "var notebookContainer = gd.closest('#notebook-container');\n",
              "if (notebookContainer) {{\n",
              "    x.observe(notebookContainer, {childList: true});\n",
              "}}\n",
              "\n",
              "// Listen for the clearing of the current output cell\n",
              "var outputEl = gd.closest('.output');\n",
              "if (outputEl) {{\n",
              "    x.observe(outputEl, {childList: true});\n",
              "}}\n",
              "\n",
              "                        })\n",
              "                };\n",
              "                \n",
              "            </script>\n",
              "        </div>\n",
              "</body>\n",
              "</html>"
            ]
          },
          "metadata": {
            "tags": []
          }
        }
      ]
    },
    {
      "cell_type": "code",
      "metadata": {
        "id": "lKe0TBbs1GAs",
        "colab_type": "code",
        "colab": {}
      },
      "source": [
        ""
      ],
      "execution_count": null,
      "outputs": []
    }
  ]
}